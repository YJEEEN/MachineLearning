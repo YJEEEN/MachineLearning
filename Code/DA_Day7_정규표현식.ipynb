{
 "cells": [
  {
   "cell_type": "code",
   "execution_count": 3,
   "metadata": {},
   "outputs": [],
   "source": [
    "import numpy as np\n",
    "import pandas as pd"
   ]
  },
  {
   "cell_type": "code",
   "execution_count": 21,
   "metadata": {},
   "outputs": [
    {
     "data": {
      "text/plain": [
       "'asrth'"
      ]
     },
     "execution_count": 21,
     "metadata": {},
     "output_type": "execute_result"
    }
   ],
   "source": [
    "word='grail'\n",
    "sent='a scratch'\n",
    "word[0]\n",
    "word[0:3]\n",
    "sent[-1]\n",
    "sent[0:-8]\n",
    "sent[-9:-8]\n",
    "word[:3]\n",
    "sent[:]\n",
    "sent[::2]"
   ]
  },
  {
   "cell_type": "code",
   "execution_count": 24,
   "metadata": {},
   "outputs": [
    {
     "name": "stdout",
     "output_type": "stream",
     "text": [
      "Some digits of pi:3.14\n",
      "Some digits of e: 2.72\n"
     ]
    }
   ],
   "source": [
    "a=\"world\"\n",
    "s=\"hello {}\"\n",
    "s.format(a)\n",
    "print(\"Some digits of pi:{}\".format(3.14))\n",
    "print(\"Some digits of %(cont)s: %(value).2f\" % {'cont':'e', 'value':2.718})"
   ]
  },
  {
   "cell_type": "code",
   "execution_count": 28,
   "metadata": {},
   "outputs": [],
   "source": [
    "data=\"\"\"\n",
    "kim 990102-1234567\n",
    "lee 970102-2234567\n",
    "\"\"\""
   ]
  },
  {
   "cell_type": "code",
   "execution_count": 4,
   "metadata": {
    "collapsed": true
   },
   "outputs": [
    {
     "ename": "NameError",
     "evalue": "name 'data' is not defined",
     "output_type": "error",
     "traceback": [
      "\u001b[1;31m---------------------------------------------------------------------------\u001b[0m",
      "\u001b[1;31mNameError\u001b[0m                                 Traceback (most recent call last)",
      "\u001b[1;32m<ipython-input-4-45eaa93747c9>\u001b[0m in \u001b[0;36m<module>\u001b[1;34m\u001b[0m\n\u001b[0;32m      1\u001b[0m \u001b[1;32mimport\u001b[0m \u001b[0mre\u001b[0m\u001b[1;33m\u001b[0m\u001b[1;33m\u001b[0m\u001b[0m\n\u001b[0;32m      2\u001b[0m \u001b[0mpat\u001b[0m\u001b[1;33m=\u001b[0m\u001b[0mre\u001b[0m\u001b[1;33m.\u001b[0m\u001b[0mcompile\u001b[0m\u001b[1;33m(\u001b[0m\u001b[1;34m\"(\\d{6})[-]\\d{7}\"\u001b[0m\u001b[1;33m)\u001b[0m\u001b[1;33m\u001b[0m\u001b[1;33m\u001b[0m\u001b[0m\n\u001b[1;32m----> 3\u001b[1;33m \u001b[0mpat\u001b[0m\u001b[1;33m.\u001b[0m\u001b[0msub\u001b[0m\u001b[1;33m(\u001b[0m\u001b[1;34m\"\\g<1>-*******\"\u001b[0m\u001b[1;33m,\u001b[0m \u001b[0mdata\u001b[0m\u001b[1;33m)\u001b[0m\u001b[1;33m\u001b[0m\u001b[1;33m\u001b[0m\u001b[0m\n\u001b[0m",
      "\u001b[1;31mNameError\u001b[0m: name 'data' is not defined"
     ]
    }
   ],
   "source": [
    "import re\n",
    "pat=re.compile(\"(\\d{6})[-]\\d{7}\")\n",
    "pat.sub(\"\\g<1>-*******\", data)"
   ]
  },
  {
   "cell_type": "code",
   "execution_count": 44,
   "metadata": {},
   "outputs": [
    {
     "name": "stdout",
     "output_type": "stream",
     "text": [
      "매치됨\n",
      "hi de7ep\n"
     ]
    }
   ],
   "source": [
    "pat=re.compile('[ a-z6-8]+')\n",
    "res=pat.match(\"hi de7ep\")\n",
    "if res: #res에 객체가 저장되었다면\n",
    "    print(\"매치됨\")\n",
    "    print(res.group())\n",
    "else: #None = 매치되지 않았다면(객체가 저장되지 않았다면)\n",
    "    print(\"매치안됨\")"
   ]
  },
  {
   "cell_type": "code",
   "execution_count": 45,
   "metadata": {},
   "outputs": [],
   "source": [
    "pat=re.compile('[a-z]+')"
   ]
  },
  {
   "cell_type": "code",
   "execution_count": 47,
   "metadata": {},
   "outputs": [
    {
     "name": "stdout",
     "output_type": "stream",
     "text": [
      "None\n"
     ]
    }
   ],
   "source": [
    "res=pat.match(\"3 test\")\n",
    "print(res)"
   ]
  },
  {
   "cell_type": "code",
   "execution_count": 48,
   "metadata": {},
   "outputs": [
    {
     "name": "stdout",
     "output_type": "stream",
     "text": [
      "<re.Match object; span=(2, 6), match='test'>\n"
     ]
    }
   ],
   "source": [
    "res=pat.search(\"3 test\")\n",
    "print(res)"
   ]
  },
  {
   "cell_type": "code",
   "execution_count": 52,
   "metadata": {},
   "outputs": [
    {
     "data": {
      "text/plain": [
       "['life', 'is', 'too', 'short']"
      ]
     },
     "execution_count": 52,
     "metadata": {},
     "output_type": "execute_result"
    }
   ],
   "source": [
    "pat.findall(\"7 life is too short\")"
   ]
  },
  {
   "cell_type": "code",
   "execution_count": 53,
   "metadata": {},
   "outputs": [
    {
     "data": {
      "text/plain": [
       "<re.Match object; span=(2, 6), match='life'>"
      ]
     },
     "execution_count": 53,
     "metadata": {},
     "output_type": "execute_result"
    }
   ],
   "source": [
    "pat.search(\"7 life is too short\")"
   ]
  },
  {
   "cell_type": "code",
   "execution_count": 54,
   "metadata": {},
   "outputs": [],
   "source": [
    "pat.match(\"7 life is too short\")"
   ]
  },
  {
   "cell_type": "code",
   "execution_count": 56,
   "metadata": {},
   "outputs": [
    {
     "name": "stdout",
     "output_type": "stream",
     "text": [
      "<callable_iterator object at 0x0000021D09D21828>\n",
      "<re.Match object; span=(2, 6), match='life'>\n",
      "<re.Match object; span=(7, 9), match='is'>\n",
      "<re.Match object; span=(10, 12), match='to'>\n",
      "<re.Match object; span=(13, 18), match='short'>\n"
     ]
    }
   ],
   "source": [
    "res=pat.finditer(\"7 life is to short\")\n",
    "print(res)\n",
    "for i in res:\n",
    "    print(i)"
   ]
  },
  {
   "cell_type": "code",
   "execution_count": 61,
   "metadata": {},
   "outputs": [
    {
     "data": {
      "text/plain": [
       "(0, 5)"
      ]
     },
     "execution_count": 61,
     "metadata": {},
     "output_type": "execute_result"
    }
   ],
   "source": [
    "res=pat.match('hello')\n",
    "res\n",
    "res.group()\n",
    "res.start()\n",
    "res.end()\n",
    "res.span()"
   ]
  },
  {
   "cell_type": "code",
   "execution_count": 63,
   "metadata": {},
   "outputs": [
    {
     "data": {
      "text/plain": [
       "<re.Match object; span=(0, 4), match='test'>"
      ]
     },
     "execution_count": 63,
     "metadata": {},
     "output_type": "execute_result"
    }
   ],
   "source": [
    "pat=re.compile('[a-z]+')\n",
    "res=pat.match(\"test\")\n",
    "res"
   ]
  },
  {
   "cell_type": "code",
   "execution_count": 65,
   "metadata": {},
   "outputs": [
    {
     "data": {
      "text/plain": [
       "<re.Match object; span=(0, 4), match='test'>"
      ]
     },
     "execution_count": 65,
     "metadata": {},
     "output_type": "execute_result"
    }
   ],
   "source": [
    "res=re.match('[a-z]+',\"test\")\n",
    "res"
   ]
  },
  {
   "cell_type": "code",
   "execution_count": 70,
   "metadata": {},
   "outputs": [
    {
     "name": "stdout",
     "output_type": "stream",
     "text": [
      "<re.Match object; span=(0, 1), match='c'>\n"
     ]
    }
   ],
   "source": [
    "p=re.compile('[abcd]')\n",
    "res=p.match('c')\n",
    "print(res)"
   ]
  },
  {
   "cell_type": "code",
   "execution_count": 81,
   "metadata": {},
   "outputs": [
    {
     "name": "stdout",
     "output_type": "stream",
     "text": [
      "<re.Match object; span=(0, 5), match='hello'>\n"
     ]
    }
   ],
   "source": [
    "p=re.compile('hello|hi') #hello 또는 hi 인 경우에 매치\n",
    "res=p.match('hello')\n",
    "print(res)"
   ]
  },
  {
   "cell_type": "code",
   "execution_count": 94,
   "metadata": {},
   "outputs": [
    {
     "name": "stdout",
     "output_type": "stream",
     "text": [
      "<re.Match object; span=(0, 4), match='Life'>\n"
     ]
    }
   ],
   "source": [
    "# ^로 시작하는 문자열\n",
    "pat=re.compile('^Life')\n",
    "res=pat.search('Life is too short')\n",
    "print(res)"
   ]
  },
  {
   "cell_type": "code",
   "execution_count": 96,
   "metadata": {},
   "outputs": [
    {
     "name": "stdout",
     "output_type": "stream",
     "text": [
      "None\n"
     ]
    }
   ],
   "source": [
    "# 문자열 끝이 short 단어 끝남\n",
    "pat=re.compile('short$') \n",
    "res=pat.search('Life is too short Life')\n",
    "print(res)"
   ]
  },
  {
   "cell_type": "code",
   "execution_count": 98,
   "metadata": {},
   "outputs": [
    {
     "name": "stdout",
     "output_type": "stream",
     "text": [
      "<re.Match object; span=(0, 3), match='ABC'>\n"
     ]
    }
   ],
   "source": [
    "# 그룹: ( )\n",
    "p=re.compile('ABC')\n",
    "res=p.match('ABCABCABC DEF')\n",
    "print(res)"
   ]
  },
  {
   "cell_type": "code",
   "execution_count": 99,
   "metadata": {},
   "outputs": [
    {
     "name": "stdout",
     "output_type": "stream",
     "text": [
      "<re.Match object; span=(0, 3), match='ABC'>\n"
     ]
    }
   ],
   "source": [
    "p=re.compile('ABC')\n",
    "res=p.search('ABCABCABC DEF')\n",
    "print(res)"
   ]
  },
  {
   "cell_type": "code",
   "execution_count": 101,
   "metadata": {},
   "outputs": [
    {
     "name": "stdout",
     "output_type": "stream",
     "text": [
      "['ABC', 'ABC', 'ABC']\n"
     ]
    }
   ],
   "source": [
    "p=re.compile('ABC')\n",
    "res=p.findall('ABCABCABC DEF')\n",
    "print(res)"
   ]
  },
  {
   "cell_type": "code",
   "execution_count": 113,
   "metadata": {},
   "outputs": [
    {
     "name": "stdout",
     "output_type": "stream",
     "text": [
      "<re.Match object; span=(0, 9), match='ABCABCABC'>\n"
     ]
    }
   ],
   "source": [
    "p=re.compile('(ABC)+')#ABC가 여러번 반복\n",
    "res=p.search('ABCABCABC DEF')\n",
    "print(res)"
   ]
  },
  {
   "cell_type": "code",
   "execution_count": 140,
   "metadata": {},
   "outputs": [
    {
     "name": "stdout",
     "output_type": "stream",
     "text": [
      "<re.Match object; span=(0, 17), match='kim 010-1234-5678'>\n",
      "kim 010-1234-5678\n",
      "kim 010-1234-5678\n",
      "kim\n",
      "010-1234-5678\n",
      "1234\n"
     ]
    }
   ],
   "source": [
    "pat=re.compile(\"(\\w+)\\s+(\\d+[-](\\d+)[-]\\d+)\")\n",
    "res=pat.search(\"kim 010-1234-5678\")\n",
    "print(res)\n",
    "print(res.group())#매치된 전체 문자열\n",
    "print(res.group(0))#매치된 전체 문자열\n",
    "print(res.group(1))#매치된 1번째 그룹 문자열\n",
    "print(res.group(2))#매치된 2번째 그룹 문자열\n",
    "print(res.group(3))#매치된 3번째 그룹 문자열\n",
    "\n",
    "# 이름+ \" \"+전화번호\n",
    "# kim 010-1234-5678 (o)\n",
    "# 010-1234-5678     (x)\n",
    "# 010-1234-5678 lee (x)\n",
    "# kim010-1234-5678  (x)"
   ]
  },
  {
   "cell_type": "code",
   "execution_count": 7,
   "metadata": {},
   "outputs": [
    {
     "name": "stdout",
     "output_type": "stream",
     "text": [
      "<re.Match object; span=(0, 1), match='b'>\n",
      "<re.Match object; span=(0, 3), match='aab'>\n",
      "<re.Match object; span=(0, 3), match='aab'>\n"
     ]
    }
   ],
   "source": [
    "re.match('[0-9]*','1234')\n",
    "re.match('[0-9]+','1234')\n",
    "re.match('[0-9]+','abcd')\n",
    "print(re.match('a*b','b'))\n",
    "print(re.match('a*b','aab'))\n",
    "print(re.match('a+b','aab')) \n",
    "print(re.match('K?','K'))  # ?는 있어도 되고 없어도 되고\n",
    "print(re.match('K?','K9'))\n",
    "print(re.match('K.','K9')) # .은 문자한개가 꼭 나와야함\n"
   ]
  },
  {
   "cell_type": "code",
   "execution_count": 13,
   "metadata": {},
   "outputs": [
    {
     "name": "stdout",
     "output_type": "stream",
     "text": [
      "None\n",
      "<re.Match object; span=(0, 3), match='kkk'>\n",
      "<re.Match object; span=(0, 6), match='hihihi'>\n",
      "<re.Match object; span=(0, 1), match='0'>\n",
      "<re.Match object; span=(0, 3), match='010'>\n",
      "<re.Match object; span=(0, 3), match='010'>\n"
     ]
    }
   ],
   "source": [
    "print(re.match('k{3}','kkabc')) # {n} n개 있어야한다\n",
    "print(re.match('k{3}','kkkabc'))\n",
    "print(re.match('(hi){3}','hihihihikkabc')) # ()그룹으로 묶인것이 {n}번 반복\n",
    "print(re.match('[0-9]','010-123-456'))\n",
    "print(re.match('[0-9]{3}','010-123-456'))\n",
    "print(re.match('[0-9]{1,3}','010-123-456')) # 1개 이상 3개 이하"
   ]
  },
  {
   "cell_type": "code",
   "execution_count": 24,
   "metadata": {},
   "outputs": [
    {
     "name": "stdout",
     "output_type": "stream",
     "text": [
      "<re.Match object; span=(0, 8), match='Hello123'>\n",
      "<re.Match object; span=(0, 8), match='Hello123'>\n",
      "<re.Match object; span=(0, 3), match='딥러닝'>\n",
      "<re.Match object; span=(0, 2), match='he'>\n",
      "None\n",
      "<re.Match object; span=(0, 3), match='HEK'>\n",
      "None\n"
     ]
    }
   ],
   "source": [
    "print(re.match('\\w+\\d+',\"Hello123\"))\n",
    "print(re.match('[a-zA-Z0-9]+',\"Hello123\"))\n",
    "print(re.match('[가-힣]+',\"딥러닝\")) # 자음시작'ㄱ'+모음시작'ㅏ'  - 모음끝'ㅎ'+모음'ㅣ'\n",
    "\n",
    "print(re.match('[^A-Z]+',\"heLlo\")) # ^  제외해라\n",
    "print(re.match('^[A-Z]+',\"heLlo\")) # ^[] : 의미가 달라진다 \n",
    "print(re.match('^[A-Z]+',\"HEKlo\")) # ^[]  []로 시작하는 부분만 출력된다"
   ]
  },
  {
   "cell_type": "code",
   "execution_count": 35,
   "metadata": {},
   "outputs": [
    {
     "name": "stdout",
     "output_type": "stream",
     "text": [
      "<re.Match object; span=(3, 4), match='7'>\n",
      "<re.Match object; span=(3, 7), match='7564'>\n",
      "None\n",
      "<re.Match object; span=(3, 4), match='*'>\n",
      "<re.Match object; span=(3, 7), match='****'>\n"
     ]
    }
   ],
   "source": [
    "print(re.search('[0-9]$',\"dlf7\"))\n",
    "print(re.search('[0-9]+$',\"dlf7564\"))\n",
    "print(re.search('[0-9]+$',\"dlf7564abd\"))\n",
    "\n"
   ]
  },
  {
   "cell_type": "code",
   "execution_count": 37,
   "metadata": {},
   "outputs": [
    {
     "name": "stdout",
     "output_type": "stream",
     "text": [
      "<re.Match object; span=(3, 5), match='**'>\n",
      "<re.Match object; span=(3, 4), match='*'>\n",
      "<re.Match object; span=(3, 7), match='****'>\n"
     ]
    }
   ],
   "source": [
    "### 메타 문자로 약속이 되어 있는 문자의 경우 --> '\\'를 붙여서 출력\n",
    "\n",
    "print(re.search('\\*+' , \"100**2\")) \n",
    "print(re.search('[*]' , \"100*2\"))\n",
    "print(re.search('[*]{4}' , \"100****2\"))"
   ]
  },
  {
   "cell_type": "code",
   "execution_count": 42,
   "metadata": {},
   "outputs": [
    {
     "name": "stdout",
     "output_type": "stream",
     "text": [
      "<re.Match object; span=(0, 6), match='10 200'>\n",
      "<re.Match object; span=(0, 6), match='10 200'>\n",
      "<re.Match object; span=(0, 6), match='10 200'>\n",
      "<re.Match object; span=(0, 6), match='10 200'>\n"
     ]
    },
    {
     "data": {
      "text/plain": [
       "('10', '200')"
      ]
     },
     "execution_count": 42,
     "metadata": {},
     "output_type": "execute_result"
    }
   ],
   "source": [
    "# 숫자space숫자를 출력하고 싶다면?\n",
    "print(re.match('[0-9 ]+', '10 200'))\n",
    "print(re.match('[0-9]+ [0-9]+', '10 200'))\n",
    "print(re.match('[0-9]+\\s[0-9]+', '10 200'))\n",
    "\n",
    "print(re.match('([0-9]+)\\s[0-9]+', '10 200'))  # ()그룹으로 묶는다면, \n",
    "res = re.match('([0-9]+) ([0-9]+)', '10 200')   # 변수에 저장하여 그룹단위로 사용 가능\n",
    "res.group(2)\n",
    "res.groups()  # 튜플형식으로 그룹으로 묶인 내용 출력"
   ]
  },
  {
   "cell_type": "code",
   "execution_count": 52,
   "metadata": {},
   "outputs": [
    {
     "data": {
      "text/plain": [
       "'010'"
      ]
     },
     "execution_count": 52,
     "metadata": {},
     "output_type": "execute_result"
    }
   ],
   "source": [
    "res = re.match('(?P<localName>[0-9]+)[-](?P<Name>[0-9]+)[-](?P<local>[0-9]+)','010-1234-5678')\n",
    "res.group(2)\n",
    "res.group('localName')"
   ]
  },
  {
   "cell_type": "code",
   "execution_count": null,
   "metadata": {},
   "outputs": [],
   "source": [
    "\"1 2 abc 3 4 5 abc 67\" 1,2,3,4,5,67 추출\n",
    "findall(\"[0-9]\")"
   ]
  },
  {
   "cell_type": "code",
   "execution_count": 56,
   "metadata": {
    "scrolled": false
   },
   "outputs": [
    {
     "ename": "SyntaxError",
     "evalue": "invalid syntax (<ipython-input-56-d943c2c64fed>, line 4)",
     "output_type": "error",
     "traceback": [
      "\u001b[1;36m  File \u001b[1;32m\"<ipython-input-56-d943c2c64fed>\"\u001b[1;36m, line \u001b[1;32m4\u001b[0m\n\u001b[1;33m    -------------------------------\u001b[0m\n\u001b[1;37m                                   ^\u001b[0m\n\u001b[1;31mSyntaxError\u001b[0m\u001b[1;31m:\u001b[0m invalid syntax\n"
     ]
    }
   ],
   "source": [
    "print(re.findall('\\w+','hello.world')) #(o)\n",
    "# hello.1234(x)\n",
    "# hello(o)\n",
    "-------------------------------\n",
    "문자열은 꼭나오고\n",
    "문자열 뒤에 숫자는 출력되지 않도록!"
   ]
  },
  {
   "cell_type": "code",
   "execution_count": 72,
   "metadata": {},
   "outputs": [
    {
     "name": "stdout",
     "output_type": "stream",
     "text": [
      "[]\n"
     ]
    }
   ],
   "source": [
    "print(re.findall('\\w+\\.[a-zA-Z]+','hello.1234'))\n",
    "print(re.findall('[a-zA-Z]+\\.[a-zA-Z]+','hello.1234')) # [.]* 에서 *은 없을 수도 있다는 의미\n",
    "print(re.match(\"[a-zA-Z]+[.]*[a-zA-Z]*$\", \"hello.asdasd\"))"
   ]
  },
  {
   "cell_type": "code",
   "execution_count": 84,
   "metadata": {},
   "outputs": [
    {
     "data": {
      "text/plain": [
       "True"
      ]
     },
     "execution_count": 84,
     "metadata": {},
     "output_type": "execute_result"
    }
   ],
   "source": [
    "\"asdf\".capitalize() # 첫번째문자를 대문자로 변환\n",
    "\"asdfasdf\".count('f') # 몇번 사용되었는지 출력\n",
    "\"asdf asdf\".startswith('as')\n",
    "\"asdf asdf\".endswith(\"fd\")\n",
    "\"asdf asdf\".find(\"s\")\n",
    "\"asdfdf asdf\".index(\"asdf\")\n",
    "\"asdfdf asdf\".isalpha() # 알파벳인지? --> 공백있어서 false\n",
    "\"222\".isdecimal()\n",
    "\"i am 23\".isalnum() # 공백있어서 False\n",
    "\"iam23\".isalnum()\n"
   ]
  },
  {
   "cell_type": "code",
   "execution_count": 92,
   "metadata": {},
   "outputs": [],
   "source": [
    "df=pd.DataFrame({'a':[1,2,3], 'b':[2,3,4]})\n",
    "df\n",
    "\n",
    "def mysq(x):\n",
    "    return x**2\n",
    "\n",
    "def myexp(x,n):\n",
    "    return x**n"
   ]
  },
  {
   "cell_type": "code",
   "execution_count": 93,
   "metadata": {},
   "outputs": [
    {
     "data": {
      "text/plain": [
       "0     8\n",
       "1    27\n",
       "2    64\n",
       "Name: b, dtype: int64"
      ]
     },
     "execution_count": 93,
     "metadata": {},
     "output_type": "execute_result"
    }
   ],
   "source": [
    "res = df['a'].apply(mysq)\n",
    "res\n",
    "\n",
    "df['b'].apply(myexp,n=3)"
   ]
  },
  {
   "cell_type": "code",
   "execution_count": 94,
   "metadata": {},
   "outputs": [],
   "source": [
    "df\n",
    "def prn(x):\n",
    "    print(x)    "
   ]
  },
  {
   "cell_type": "code",
   "execution_count": 95,
   "metadata": {
    "collapsed": true
   },
   "outputs": [
    {
     "name": "stdout",
     "output_type": "stream",
     "text": [
      "0    1\n",
      "1    2\n",
      "2    3\n",
      "Name: a, dtype: int64\n",
      "0    2\n",
      "1    3\n",
      "2    4\n",
      "Name: b, dtype: int64\n"
     ]
    },
    {
     "data": {
      "text/plain": [
       "a    None\n",
       "b    None\n",
       "dtype: object"
      ]
     },
     "execution_count": 95,
     "metadata": {},
     "output_type": "execute_result"
    }
   ],
   "source": [
    "df.apply(prn,axis=0) # apply() 적용시 axis를 주어 행/열 방향 지정하여 적용가능 "
   ]
  },
  {
   "cell_type": "code",
   "execution_count": null,
   "metadata": {},
   "outputs": [],
   "source": [
    "### e-mail 주소 \n",
    "emails = ['python@mail.example.com', 'python+kr@example.com',              # 올바른 형식\n",
    "          'python-dojang@example.co.kr', 'python_10@example.info',         # 올바른 형식\n",
    "          'python.dojang@e-xample.com',                                    # 올바른 형식\n",
    "          '@example.com', 'python@example', 'python@example-com']          # 잘못된 형식"
   ]
  },
  {
   "cell_type": "code",
   "execution_count": 159,
   "metadata": {
    "scrolled": true
   },
   "outputs": [
    {
     "name": "stdout",
     "output_type": "stream",
     "text": [
      "<re.Match object; span=(0, 28), match='python-dojang@e-xample.co.kr'>\n",
      "['.kr']\n",
      "python-dojang@e-xample.co.kr\n"
     ]
    }
   ],
   "source": [
    "# findall하면 왜 앞에 'python-'' 이 부분은 안뜨는지?\n",
    "\n",
    "print(re.search('[a-zA-Z0-9]+[^a-zA-Z0-9]*[a-zA-Z0-9]+[@][a-zA-Z0-9]+[^a-zA-Z0-9]*[a-zA-Z0-9]+([.][a-zA-Z0-9]+)+','python-dojang@e-xample.co.kr'))\n",
    "print(re.findall('[a-zA-Z0-9]+[^a-zA-Z0-9]*[a-zA-Z0-9]+[@][a-zA-Z0-9]+[^a-zA-Z0-9]*[a-zA-Z0-9]+([.][a-zA-Z0-9]+)+','python-dojang@e-xample.co.kr'))\n",
    "\n",
    "res = (re.finditer('[a-zA-Z0-9]+[^a-zA-Z0-9]*[a-zA-Z0-9]+[@][a-zA-Z0-9]+[^a-zA-Z0-9]*[a-zA-Z0-9]+([.][a-zA-Z0-9]+)+','python-dojang@e-xample.co.kr'))\n",
    "for i in res:\n",
    "    print(i.group())\n"
   ]
  },
  {
   "cell_type": "code",
   "execution_count": null,
   "metadata": {},
   "outputs": [],
   "source": [
    "# 오혁 오라버니 코드.... --> match()써서 출력\n",
    "print(re.match('[^@]+@[^.]+(\\.[^.]+$)','python-dojang@example.com'))"
   ]
  },
  {
   "cell_type": "code",
   "execution_count": null,
   "metadata": {},
   "outputs": [],
   "source": []
  },
  {
   "cell_type": "code",
   "execution_count": null,
   "metadata": {},
   "outputs": [],
   "source": []
  },
  {
   "cell_type": "code",
   "execution_count": null,
   "metadata": {},
   "outputs": [],
   "source": []
  },
  {
   "cell_type": "code",
   "execution_count": null,
   "metadata": {},
   "outputs": [],
   "source": []
  },
  {
   "cell_type": "code",
   "execution_count": null,
   "metadata": {},
   "outputs": [],
   "source": []
  },
  {
   "cell_type": "code",
   "execution_count": null,
   "metadata": {},
   "outputs": [],
   "source": []
  }
 ],
 "metadata": {
  "kernelspec": {
   "display_name": "Python 3",
   "language": "python",
   "name": "python3"
  },
  "language_info": {
   "codemirror_mode": {
    "name": "ipython",
    "version": 3
   },
   "file_extension": ".py",
   "mimetype": "text/x-python",
   "name": "python",
   "nbconvert_exporter": "python",
   "pygments_lexer": "ipython3",
   "version": "3.7.3"
  }
 },
 "nbformat": 4,
 "nbformat_minor": 2
}
