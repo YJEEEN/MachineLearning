{
 "cells": [
  {
   "cell_type": "code",
   "execution_count": 1,
   "metadata": {},
   "outputs": [],
   "source": [
    "import pandas as pd\n",
    "import numpy as np"
   ]
  },
  {
   "cell_type": "code",
   "execution_count": 3,
   "metadata": {},
   "outputs": [
    {
     "name": "stdout",
     "output_type": "stream",
     "text": [
      "(0, 0)->0\n",
      "(0, 1)->0\n",
      "(1, 0)->0\n",
      "(1, 1)->1\n"
     ]
    }
   ],
   "source": [
    "# 모델링을 해서 w와 b값을 구했다고 가정하고, \n",
    "# AND회로처럼 작동하는 함수 작성\n",
    "def AND(x1,x2):\n",
    "    x=np.array([x1,x2])\n",
    "    w=np.array([0.5,0.5])\n",
    "    b=-0.7\n",
    "    hf=np.sum(w*x)+b\n",
    "    # 모델(y=w1x1+w2x2+b)\n",
    "    if hf <= 0:\n",
    "        return 0\n",
    "    else:\n",
    "        return 1\n",
    "    \n",
    "for xs in [(0,0),(0,1),(1,0),(1,1)]: # 리스트 값이 구하려는 값\n",
    "    y=AND(xs[0],xs[1]) # y는 예측 값\n",
    "    print(str(xs)+\"->\"+str(y))"
   ]
  },
  {
   "cell_type": "code",
   "execution_count": 5,
   "metadata": {},
   "outputs": [
    {
     "name": "stdout",
     "output_type": "stream",
     "text": [
      "(0, 0)->0\n",
      "(0, 1)->1\n",
      "(1, 0)->1\n",
      "(1, 1)->1\n"
     ]
    }
   ],
   "source": [
    "# 모델링을 해서 w와 b값을 구했다고 가정하고, \n",
    "# OR회로처럼 작동하는 함수 작성\n",
    "def OR(x1,x2):\n",
    "    x=np.array([x1,x2])\n",
    "    w=np.array([0.5,0.5])\n",
    "    b=-0.3\n",
    "    hf=np.sum(w*x)+b\n",
    "    # 모델(y=w1x1+w2x2+b)\n",
    "    if hf <= 0:\n",
    "        return 0\n",
    "    else:\n",
    "        return 1\n",
    "    \n",
    "for xs in [(0,0),(0,1),(1,0),(1,1)]: # 리스트 값이 구하려는 값\n",
    "    y=OR(xs[0],xs[1]) # y는 예측 값\n",
    "    print(str(xs)+\"->\"+str(y))"
   ]
  },
  {
   "cell_type": "code",
   "execution_count": 8,
   "metadata": {},
   "outputs": [
    {
     "name": "stdout",
     "output_type": "stream",
     "text": [
      "(0, 0)->1\n",
      "(0, 1)->1\n",
      "(1, 0)->1\n",
      "(1, 1)->0\n"
     ]
    }
   ],
   "source": [
    "# 모델링을 해서 w와 b값을 구했다고 가정하고, \n",
    "# AND회로처럼 작동하는 함수 작성\n",
    "def NAND(x1,x2):\n",
    "    x=np.array([x1,x2])\n",
    "    w=np.array([-0.5,-0.5])\n",
    "    b=0.7\n",
    "    hf=np.sum(w*x)+b\n",
    "    # 모델(y=w1x1+w2x2+b)\n",
    "    if hf <= 0:\n",
    "        return 0\n",
    "    else:\n",
    "        return 1\n",
    "    \n",
    "for xs in [(0,0),(0,1),(1,0),(1,1)]: # 리스트 값이 구하려는 값\n",
    "    y=NAND(xs[0],xs[1]) # y는 예측 값\n",
    "    print(str(xs)+\"->\"+str(y))"
   ]
  },
  {
   "cell_type": "code",
   "execution_count": 9,
   "metadata": {},
   "outputs": [
    {
     "name": "stdout",
     "output_type": "stream",
     "text": [
      "(0, 0)->0\n",
      "(0, 1)->1\n",
      "(1, 0)->1\n",
      "(1, 1)->0\n"
     ]
    }
   ],
   "source": [
    "def XOR(x1,x2):\n",
    "    X1 = NAND(x1,x2)\n",
    "    X2 = OR(x1,x2)\n",
    "    y=AND(X1,X2)\n",
    "    return y # y는 x1,x2 입력에 따른 XOR연산의 결과가 나와야한다.\n",
    "\n",
    "for xs in [(0,0),(0,1),(1,0),(1,1)]: # 리스트 값이 구하려는 값\n",
    "    y=XOR(xs[0],xs[1]) # y는 예측 값\n",
    "    print(str(xs)+\"->\"+str(y))"
   ]
  },
  {
   "cell_type": "code",
   "execution_count": null,
   "metadata": {},
   "outputs": [],
   "source": []
  },
  {
   "cell_type": "code",
   "execution_count": null,
   "metadata": {},
   "outputs": [],
   "source": []
  },
  {
   "cell_type": "code",
   "execution_count": null,
   "metadata": {},
   "outputs": [],
   "source": []
  },
  {
   "cell_type": "code",
   "execution_count": null,
   "metadata": {},
   "outputs": [],
   "source": []
  },
  {
   "cell_type": "code",
   "execution_count": null,
   "metadata": {},
   "outputs": [],
   "source": []
  },
  {
   "cell_type": "code",
   "execution_count": null,
   "metadata": {},
   "outputs": [],
   "source": []
  },
  {
   "cell_type": "code",
   "execution_count": null,
   "metadata": {},
   "outputs": [],
   "source": []
  },
  {
   "cell_type": "code",
   "execution_count": null,
   "metadata": {},
   "outputs": [],
   "source": []
  },
  {
   "cell_type": "code",
   "execution_count": null,
   "metadata": {},
   "outputs": [],
   "source": []
  },
  {
   "cell_type": "code",
   "execution_count": null,
   "metadata": {},
   "outputs": [],
   "source": []
  }
 ],
 "metadata": {
  "kernelspec": {
   "display_name": "Python 3",
   "language": "python",
   "name": "python3"
  },
  "language_info": {
   "codemirror_mode": {
    "name": "ipython",
    "version": 3
   },
   "file_extension": ".py",
   "mimetype": "text/x-python",
   "name": "python",
   "nbconvert_exporter": "python",
   "pygments_lexer": "ipython3",
   "version": "3.7.3"
  }
 },
 "nbformat": 4,
 "nbformat_minor": 2
}
