{
 "cells": [
  {
   "cell_type": "markdown",
   "metadata": {},
   "source": [
    "# keras\n",
    "* 텐서플로우를 엔진으로 사용하는 파이썬 패키지\n",
    "* 신경망을 쉽게 구현할 수 있도록 해준다\n",
    "* 연습용 데이터셋 제공"
   ]
  },
  {
   "cell_type": "code",
   "execution_count": 20,
   "metadata": {},
   "outputs": [],
   "source": [
    "from tensorflow import keras"
   ]
  },
  {
   "cell_type": "code",
   "execution_count": 22,
   "metadata": {},
   "outputs": [
    {
     "name": "stdout",
     "output_type": "stream",
     "text": [
      "Downloading data from https://storage.googleapis.com/tensorflow/tf-keras-datasets/mnist.npz\n",
      "11493376/11490434 [==============================] - 0s 0us/step\n"
     ]
    }
   ],
   "source": [
    "mnist=keras.datasets.mnist\n",
    "(xtrain,ytrain),(xtest,ytest)=mnist.load_data()"
   ]
  },
  {
   "cell_type": "code",
   "execution_count": 24,
   "metadata": {},
   "outputs": [
    {
     "data": {
      "image/png": "[encoded data removed]",
      "text/plain": [
       "<Figure size 576x72 with 36 Axes>"
      ]
     },
     "metadata": {
      "needs_background": "light"
     },
     "output_type": "display_data"
    }
   ],
   "source": [
    "plt.figure(figsize=(8,1))\n",
    "for i in range(36):\n",
    "    plt.subplot(3,12,i+1)\n",
    "    plt.imshow(xtrain[i],cmap='gray')\n",
    "    plt.axis(\"off\")\n",
    "plt.show()"
   ]
  },
  {
   "cell_type": "code",
   "execution_count": 26,
   "metadata": {},
   "outputs": [
    {
     "name": "stdout",
     "output_type": "stream",
     "text": [
      "(60000, 28, 28)\n",
      "(60000,)\n",
      "(10000, 28, 28)\n",
      "(10000,)\n"
     ]
    }
   ],
   "source": [
    "print(xtrain.shape)\n",
    "print(ytrain.shape) # shape을 찍어보면 이미지가 레이블만 저장되어있음을 알 수 있다 --> (6000,10)이런 형태가 아니므로 원핫인코딩 안되어있다\n",
    "print(xtest.shape)\n",
    "print(ytest.shape)\n",
    "print(ytrain.shape)"
   ]
  },
  {
   "cell_type": "code",
   "execution_count": 33,
   "metadata": {
    "collapsed": true
   },
   "outputs": [
    {
     "ename": "ValueError",
     "evalue": "cannot reshape array of size 7840000 into shape (60000,784)",
     "output_type": "error",
     "traceback": [
      "\u001b[1;31m---------------------------------------------------------------------------\u001b[0m",
      "\u001b[1;31mValueError\u001b[0m                                Traceback (most recent call last)",
      "\u001b[1;32m<ipython-input-33-eac7673d9c8c>\u001b[0m in \u001b[0;36m<module>\u001b[1;34m\u001b[0m\n\u001b[0;32m      1\u001b[0m \u001b[0mxtrain\u001b[0m\u001b[1;33m=\u001b[0m\u001b[0mxtrain\u001b[0m\u001b[1;33m.\u001b[0m\u001b[0mreshape\u001b[0m\u001b[1;33m(\u001b[0m\u001b[1;36m60000\u001b[0m\u001b[1;33m,\u001b[0m\u001b[1;36m28\u001b[0m\u001b[1;33m*\u001b[0m\u001b[1;36m28\u001b[0m\u001b[1;33m)\u001b[0m\u001b[1;33m.\u001b[0m\u001b[0mastype\u001b[0m\u001b[1;33m(\u001b[0m\u001b[1;34m'float32'\u001b[0m\u001b[1;33m)\u001b[0m\u001b[1;33m/\u001b[0m\u001b[1;36m255.0\u001b[0m\u001b[1;33m\u001b[0m\u001b[1;33m\u001b[0m\u001b[0m\n\u001b[1;32m----> 2\u001b[1;33m \u001b[0mxtest\u001b[0m\u001b[1;33m=\u001b[0m\u001b[0mxtest\u001b[0m\u001b[1;33m.\u001b[0m\u001b[0mreshape\u001b[0m\u001b[1;33m(\u001b[0m\u001b[1;36m60000\u001b[0m\u001b[1;33m,\u001b[0m\u001b[1;36m28\u001b[0m\u001b[1;33m*\u001b[0m\u001b[1;36m28\u001b[0m\u001b[1;33m)\u001b[0m\u001b[1;33m.\u001b[0m\u001b[0mastype\u001b[0m\u001b[1;33m(\u001b[0m\u001b[1;34m'float32'\u001b[0m\u001b[1;33m)\u001b[0m\u001b[1;33m/\u001b[0m\u001b[1;36m255.0\u001b[0m\u001b[1;33m\u001b[0m\u001b[1;33m\u001b[0m\u001b[0m\n\u001b[0m\u001b[0;32m      3\u001b[0m \u001b[0mprint\u001b[0m\u001b[1;33m(\u001b[0m\u001b[0mxtrain\u001b[0m\u001b[1;33m.\u001b[0m\u001b[0mshape\u001b[0m\u001b[1;33m,\u001b[0m\u001b[0mxtrain\u001b[0m\u001b[1;33m.\u001b[0m\u001b[0mdtype\u001b[0m\u001b[1;33m)\u001b[0m\u001b[1;33m\u001b[0m\u001b[1;33m\u001b[0m\u001b[0m\n\u001b[0;32m      4\u001b[0m \u001b[0mprint\u001b[0m\u001b[1;33m(\u001b[0m\u001b[0mxtest\u001b[0m\u001b[1;33m.\u001b[0m\u001b[0mshape\u001b[0m\u001b[1;33m,\u001b[0m\u001b[0mxtest\u001b[0m\u001b[1;33m.\u001b[0m\u001b[0mdtype\u001b[0m\u001b[1;33m)\u001b[0m\u001b[1;33m\u001b[0m\u001b[1;33m\u001b[0m\u001b[0m\n\u001b[0;32m      5\u001b[0m \u001b[0mprint\u001b[0m\u001b[1;33m(\u001b[0m\u001b[0mytrain\u001b[0m\u001b[1;33m[\u001b[0m\u001b[1;33m:\u001b[0m\u001b[1;36m10\u001b[0m\u001b[1;33m]\u001b[0m\u001b[1;33m)\u001b[0m\u001b[1;33m\u001b[0m\u001b[1;33m\u001b[0m\u001b[0m\n",
      "\u001b[1;31mValueError\u001b[0m: cannot reshape array of size 7840000 into shape (60000,784)"
     ]
    }
   ],
   "source": [
    "xtrain=xtrain.reshape(60000,28*28).astype('float32')/255.0\n",
    "xtest=xtest.reshape(60000,28*28).astype('float32')/255.0\n",
    "print(xtrain.shape,xtrain.dtype)\n",
    "print(xtest.shape,xtest.dtype)\n",
    "print(ytrain[:10])"
   ]
  },
  {
   "cell_type": "code",
   "execution_count": 28,
   "metadata": {},
   "outputs": [
    {
     "data": {
      "text/plain": [
       "array([[0., 0., 0., 0., 0., 1., 0., 0., 0., 0.],\n",
       "       [1., 0., 0., 0., 0., 0., 0., 0., 0., 0.],\n",
       "       [0., 0., 0., 0., 1., 0., 0., 0., 0., 0.],\n",
       "       [0., 1., 0., 0., 0., 0., 0., 0., 0., 0.],\n",
       "       [0., 0., 0., 0., 0., 0., 0., 0., 0., 1.],\n",
       "       [0., 0., 1., 0., 0., 0., 0., 0., 0., 0.],\n",
       "       [0., 1., 0., 0., 0., 0., 0., 0., 0., 0.],\n",
       "       [0., 0., 0., 1., 0., 0., 0., 0., 0., 0.],\n",
       "       [0., 1., 0., 0., 0., 0., 0., 0., 0., 0.],\n",
       "       [0., 0., 0., 0., 1., 0., 0., 0., 0., 0.]], dtype=float32)"
      ]
     },
     "execution_count": 28,
     "metadata": {},
     "output_type": "execute_result"
    }
   ],
   "source": [
    "from tensorflow.keras.utils import to_categorical\n",
    "ytrain=to_categorical(ytrain, 10) \n",
    "ytest=to_categorical(ytest, 10)\n",
    "ytrain[:10]"
   ]
  },
  {
   "cell_type": "markdown",
   "metadata": {},
   "source": [
    "## keras로 신경망 구성하는 순서\n",
    "\n",
    "1) Sequential 클래스 -> 객체 생성\n",
    "\n",
    "2) add 매서드 -> 층(레이어)을 추가\n",
    "* 입력부터 순서대로 추가( 입력->히든레이어->출력)\n",
    "* activation활성화 설정\n",
    "\n",
    "3)compile메서드 -> 모델 생성\n",
    "* loss, optimizer(알고리즘), 성능기준설정(정확도,...)\n",
    "\n",
    "4)fit 메서드 -> 트레이닝\n",
    "* 에폭 설정(에폭:1번 트레이닝하는 과정)\n",
    "* 배치크기설정 (분할 모델링 :큐러너 등 사용하여 배치로 데이터를 읽어들임)"
   ]
  },
  {
   "cell_type": "code",
   "execution_count": 34,
   "metadata": {},
   "outputs": [],
   "source": [
    "from tensorflow.keras.models import Sequential\n",
    "from tensorflow.keras.layers import Dense\n",
    "from tensorflow.keras.optimizers import SGD\n",
    "np.random.seed(0)"
   ]
  },
  {
   "cell_type": "code",
   "execution_count": 35,
   "metadata": {},
   "outputs": [
    {
     "name": "stderr",
     "output_type": "stream",
     "text": [
      "W0729 16:17:50.418835 10720 deprecation.py:506] From C:\\Users\\user\\Anaconda3\\lib\\site-packages\\tensorflow\\python\\ops\\init_ops.py:1251: calling VarianceScaling.__init__ (from tensorflow.python.ops.init_ops) with dtype is deprecated and will be removed in a future version.\n",
      "Instructions for updating:\n",
      "Call initializer instance with the dtype argument instead of passing it to the constructor\n"
     ]
    }
   ],
   "source": [
    "model=Sequential()\n",
    "model.add(Dense(15,input_dim=784,activation='sigmoid')) # Dense()를 이용하여 층을 추가한다 input_dim은 맨처음 입력 층에만 있다\n",
    "model.add(Dense(10,activation='sigmoid'))\n",
    "model.compile(optimizer=SGD(lr=0.1),loss='mean_squared_error',metrics=['accuracy'])"
   ]
  },
  {
   "cell_type": "code",
   "execution_count": 36,
   "metadata": {},
   "outputs": [
    {
     "name": "stdout",
     "output_type": "stream",
     "text": [
      "Model: \"sequential\"\n",
      "_________________________________________________________________\n",
      "Layer (type)                 Output Shape              Param #   \n",
      "=================================================================\n",
      "dense (Dense)                (None, 15)                11775     \n",
      "_________________________________________________________________\n",
      "dense_1 (Dense)              (None, 10)                160       \n",
      "=================================================================\n",
      "Total params: 11,935\n",
      "Trainable params: 11,935\n",
      "Non-trainable params: 0\n",
      "_________________________________________________________________\n"
     ]
    }
   ],
   "source": [
    "model.summary()"
   ]
  },
  {
   "cell_type": "code",
   "execution_count": null,
   "metadata": {},
   "outputs": [],
   "source": [
    "## Misson\n",
    "-> cars.csv에서 mpg,hp 데이터를 가지고 훈련하여\n",
    "mpg가 10,20,30,40일 때, hp의 값을 예상하는 최적의 cost,w,b를 출력"
   ]
  },
  {
   "cell_type": "code",
   "execution_count": 39,
   "metadata": {},
   "outputs": [
    {
     "data": {
      "text/html": [
       "<div>\n",
       "<style scoped>\n",
       "    .dataframe tbody tr th:only-of-type {\n",
       "        vertical-align: middle;\n",
       "    }\n",
       "\n",
       "    .dataframe tbody tr th {\n",
       "        vertical-align: top;\n",
       "    }\n",
       "\n",
       "    .dataframe thead th {\n",
       "        text-align: right;\n",
       "    }\n",
       "</style>\n",
       "<table border=\"1\" class=\"dataframe\">\n",
       "  <thead>\n",
       "    <tr style=\"text-align: right;\">\n",
       "      <th></th>\n",
       "      <th>Unnamed: 0</th>\n",
       "      <th>mpg</th>\n",
       "      <th>cyl</th>\n",
       "      <th>disp</th>\n",
       "      <th>hp</th>\n",
       "      <th>drat</th>\n",
       "      <th>wt</th>\n",
       "      <th>qsec</th>\n",
       "      <th>vs</th>\n",
       "      <th>am</th>\n",
       "      <th>gear</th>\n",
       "      <th>carb</th>\n",
       "    </tr>\n",
       "  </thead>\n",
       "  <tbody>\n",
       "    <tr>\n",
       "      <th>0</th>\n",
       "      <td>Mazda RX4</td>\n",
       "      <td>21.0</td>\n",
       "      <td>6</td>\n",
       "      <td>160.0</td>\n",
       "      <td>110</td>\n",
       "      <td>3.90</td>\n",
       "      <td>2.620</td>\n",
       "      <td>16.46</td>\n",
       "      <td>0</td>\n",
       "      <td>1</td>\n",
       "      <td>4</td>\n",
       "      <td>4</td>\n",
       "    </tr>\n",
       "    <tr>\n",
       "      <th>1</th>\n",
       "      <td>Mazda RX4 Wag</td>\n",
       "      <td>21.0</td>\n",
       "      <td>6</td>\n",
       "      <td>160.0</td>\n",
       "      <td>110</td>\n",
       "      <td>3.90</td>\n",
       "      <td>2.875</td>\n",
       "      <td>17.02</td>\n",
       "      <td>0</td>\n",
       "      <td>1</td>\n",
       "      <td>4</td>\n",
       "      <td>4</td>\n",
       "    </tr>\n",
       "    <tr>\n",
       "      <th>2</th>\n",
       "      <td>Datsun 710</td>\n",
       "      <td>22.8</td>\n",
       "      <td>4</td>\n",
       "      <td>108.0</td>\n",
       "      <td>93</td>\n",
       "      <td>3.85</td>\n",
       "      <td>2.320</td>\n",
       "      <td>18.61</td>\n",
       "      <td>1</td>\n",
       "      <td>1</td>\n",
       "      <td>4</td>\n",
       "      <td>1</td>\n",
       "    </tr>\n",
       "    <tr>\n",
       "      <th>3</th>\n",
       "      <td>Hornet 4 Drive</td>\n",
       "      <td>21.4</td>\n",
       "      <td>6</td>\n",
       "      <td>258.0</td>\n",
       "      <td>110</td>\n",
       "      <td>3.08</td>\n",
       "      <td>3.215</td>\n",
       "      <td>19.44</td>\n",
       "      <td>1</td>\n",
       "      <td>0</td>\n",
       "      <td>3</td>\n",
       "      <td>1</td>\n",
       "    </tr>\n",
       "    <tr>\n",
       "      <th>4</th>\n",
       "      <td>Hornet Sportabout</td>\n",
       "      <td>18.7</td>\n",
       "      <td>8</td>\n",
       "      <td>360.0</td>\n",
       "      <td>175</td>\n",
       "      <td>3.15</td>\n",
       "      <td>3.440</td>\n",
       "      <td>17.02</td>\n",
       "      <td>0</td>\n",
       "      <td>0</td>\n",
       "      <td>3</td>\n",
       "      <td>2</td>\n",
       "    </tr>\n",
       "  </tbody>\n",
       "</table>\n",
       "</div>"
      ],
      "text/plain": [
       "          Unnamed: 0   mpg  cyl   disp   hp  drat     wt   qsec  vs  am  gear  \\\n",
       "0          Mazda RX4  21.0    6  160.0  110  3.90  2.620  16.46   0   1     4   \n",
       "1      Mazda RX4 Wag  21.0    6  160.0  110  3.90  2.875  17.02   0   1     4   \n",
       "2         Datsun 710  22.8    4  108.0   93  3.85  2.320  18.61   1   1     4   \n",
       "3     Hornet 4 Drive  21.4    6  258.0  110  3.08  3.215  19.44   1   0     3   \n",
       "4  Hornet Sportabout  18.7    8  360.0  175  3.15  3.440  17.02   0   0     3   \n",
       "\n",
       "   carb  \n",
       "0     4  \n",
       "1     4  \n",
       "2     1  \n",
       "3     1  \n",
       "4     2  "
      ]
     },
     "execution_count": 39,
     "metadata": {},
     "output_type": "execute_result"
    }
   ],
   "source": [
    "import pandas as pd\n",
    "cars=pd.read_csv(\"/Users/user/Downloads/cars.csv\",header=0)\n",
    "cars.head()"
   ]
  },
  {
   "cell_type": "code",
   "execution_count": 40,
   "metadata": {},
   "outputs": [
    {
     "data": {
      "text/html": [
       "<div>\n",
       "<style scoped>\n",
       "    .dataframe tbody tr th:only-of-type {\n",
       "        vertical-align: middle;\n",
       "    }\n",
       "\n",
       "    .dataframe tbody tr th {\n",
       "        vertical-align: top;\n",
       "    }\n",
       "\n",
       "    .dataframe thead th {\n",
       "        text-align: right;\n",
       "    }\n",
       "</style>\n",
       "<table border=\"1\" class=\"dataframe\">\n",
       "  <thead>\n",
       "    <tr style=\"text-align: right;\">\n",
       "      <th></th>\n",
       "      <th>Unnamed: 0</th>\n",
       "      <th>mpg</th>\n",
       "      <th>hp</th>\n",
       "    </tr>\n",
       "  </thead>\n",
       "  <tbody>\n",
       "    <tr>\n",
       "      <th>0</th>\n",
       "      <td>Mazda RX4</td>\n",
       "      <td>21.0</td>\n",
       "      <td>110</td>\n",
       "    </tr>\n",
       "    <tr>\n",
       "      <th>1</th>\n",
       "      <td>Mazda RX4 Wag</td>\n",
       "      <td>21.0</td>\n",
       "      <td>110</td>\n",
       "    </tr>\n",
       "    <tr>\n",
       "      <th>2</th>\n",
       "      <td>Datsun 710</td>\n",
       "      <td>22.8</td>\n",
       "      <td>93</td>\n",
       "    </tr>\n",
       "    <tr>\n",
       "      <th>3</th>\n",
       "      <td>Hornet 4 Drive</td>\n",
       "      <td>21.4</td>\n",
       "      <td>110</td>\n",
       "    </tr>\n",
       "    <tr>\n",
       "      <th>4</th>\n",
       "      <td>Hornet Sportabout</td>\n",
       "      <td>18.7</td>\n",
       "      <td>175</td>\n",
       "    </tr>\n",
       "  </tbody>\n",
       "</table>\n",
       "</div>"
      ],
      "text/plain": [
       "          Unnamed: 0   mpg   hp\n",
       "0          Mazda RX4  21.0  110\n",
       "1      Mazda RX4 Wag  21.0  110\n",
       "2         Datsun 710  22.8   93\n",
       "3     Hornet 4 Drive  21.4  110\n",
       "4  Hornet Sportabout  18.7  175"
      ]
     },
     "execution_count": 40,
     "metadata": {},
     "output_type": "execute_result"
    }
   ],
   "source": [
    "carsdata=cars[['Unnamed: 0','mpg','hp']]\n",
    "carsdata.head()"
   ]
  },
  {
   "cell_type": "code",
   "execution_count": 71,
   "metadata": {},
   "outputs": [
    {
     "name": "stdout",
     "output_type": "stream",
     "text": [
      "w:[3.8832893], b:[-2.942774], loss:404035.8\n",
      "w:[5.3930764], b:[13.482447], loss:305490.03\n",
      "w:[4.6829906], b:[28.989418], loss:281388.3\n",
      "w:[4.008355], b:[43.722218], loss:259633.11\n",
      "w:[3.3674023], b:[57.71944], loss:239996.0\n",
      "w:[2.75845], b:[71.01783], loss:222270.75\n",
      "w:[2.1799016], b:[83.65226], loss:206271.28\n",
      "w:[1.630236], b:[95.655945], loss:191829.42\n",
      "w:[1.1080128], b:[107.06033], loss:178793.61\n",
      "w:[0.61186266], b:[117.89533], loss:167027.0\n",
      "w:[0.14048147], b:[128.18945], loss:156405.89\n",
      "w:[-0.30736318], b:[137.96954], loss:146818.94\n",
      "w:[-0.73284984], b:[147.2614], loss:138165.33\n",
      "w:[-1.1370918], b:[156.08928], loss:130354.266\n",
      "w:[-1.5211529], b:[164.47647], loss:123303.64\n",
      "w:[-1.88604], b:[172.44492], loss:116939.484\n",
      "w:[-2.2327094], b:[180.01556], loss:111194.89\n",
      "w:[-2.5620718], b:[187.20819], loss:106009.64\n",
      "w:[-2.8749895], b:[194.04176], loss:101329.17\n",
      "w:[-3.1722827], b:[200.5341], loss:97104.445\n",
      "w:[-3.4547334], b:[206.70229], loss:93291.03\n",
      "w:[-3.723085], b:[212.56258], loss:89848.86\n",
      "w:[-3.9780369], b:[218.1303], loss:86741.805\n",
      "w:[-4.220259], b:[223.41997], loss:83937.3\n",
      "w:[-4.45039], b:[228.44559], loss:81405.805\n",
      "w:[-4.66903], b:[233.22028], loss:79120.8\n",
      "w:[-4.876756], b:[237.75664], loss:77058.22\n",
      "w:[-5.074112], b:[242.06651], loss:75196.46\n",
      "w:[-5.2616153], b:[246.16127], loss:73515.945\n",
      "w:[-5.439759], b:[250.05157], loss:71999.02\n",
      "w:[-5.6089993], b:[253.74747], loss:70629.875\n",
      "w:[-5.7697973], b:[257.259], loss:69393.97\n",
      "w:[-5.9225855], b:[260.59567], loss:68278.234\n",
      "w:[-6.0677085], b:[263.7648], loss:67271.44\n",
      "w:[-6.2055974], b:[266.77606], loss:66362.55\n",
      "w:[-6.336624], b:[269.63742], loss:65542.02\n",
      "w:[-6.4610767], b:[272.3553], loss:64801.555\n",
      "w:[-6.5793624], b:[274.9384], loss:64132.938\n",
      "w:[-6.6916976], b:[277.39157], loss:63529.656\n",
      "w:[-6.7984514], b:[279.72287], loss:62984.973\n",
      "w:[-6.8998375], b:[281.93704], loss:62493.473\n",
      "w:[-6.9961824], b:[284.041], loss:62049.758\n",
      "w:[-7.087715], b:[286.03992], loss:61649.246\n",
      "w:[-7.174702], b:[287.93958], loss:61287.61\n",
      "w:[-7.2573347], b:[289.7441], loss:60961.25\n",
      "w:[-7.3358173], b:[291.45804], loss:60666.746\n",
      "w:[-7.410384], b:[293.0864], loss:60400.906\n",
      "w:[-7.481291], b:[294.63483], loss:60160.746\n",
      "w:[-7.5485606], b:[296.1039], loss:59944.26\n",
      "w:[-7.612563], b:[297.50165], loss:59748.58\n",
      "w:[-7.6733284], b:[298.82858], loss:59572.082\n",
      "w:[-7.731034], b:[300.08878], loss:59412.83\n",
      "w:[-7.7858806], b:[301.28653], loss:59269.023\n",
      "w:[-7.8380117], b:[302.42496], loss:59139.16\n",
      "w:[-7.8875585], b:[303.50705], loss:59021.89\n",
      "w:[-7.934522], b:[304.53262], loss:58916.29\n",
      "w:[-7.979206], b:[305.5084], loss:58820.836\n",
      "w:[-8.021717], b:[306.4368], loss:58734.555\n",
      "w:[-8.061991], b:[307.31628], loss:58656.89\n",
      "w:[-8.10034], b:[308.15378], loss:58586.633\n",
      "w:[-8.136794], b:[308.9498], loss:58523.18\n",
      "w:[-8.171307], b:[309.70355], loss:58466.098\n",
      "w:[-8.204164], b:[310.42108], loss:58414.47\n",
      "w:[-8.235412], b:[311.10352], loss:58367.82\n",
      "w:[-8.265105], b:[311.75195], loss:58325.71\n",
      "w:[-8.2933035], b:[312.36777], loss:58287.71\n",
      "w:[-8.320072], b:[312.95233], loss:58253.445\n",
      "w:[-8.345482], b:[313.50723], loss:58222.535\n",
      "w:[-8.369613], b:[314.03418], loss:58194.65\n",
      "w:[-8.392553], b:[314.53516], loss:58169.46\n",
      "w:[-8.414406], b:[315.01233], loss:58146.668\n",
      "w:[-8.435281], b:[315.4682], loss:58125.977\n",
      "w:[-8.454842], b:[315.89545], loss:58107.566\n",
      "w:[-8.473473], b:[316.3023], loss:58090.887\n",
      "w:[-8.49141], b:[316.69397], loss:58075.645\n",
      "w:[-8.508177], b:[317.06018], loss:58062.1\n",
      "w:[-8.524195], b:[317.40997], loss:58049.812\n",
      "w:[-8.539564], b:[317.74567], loss:58038.6\n",
      "w:[-8.553872], b:[318.05804], loss:58028.695\n",
      "w:[-8.567843], b:[318.36322], loss:58019.504\n",
      "w:[-8.580688], b:[318.64368], loss:58011.47\n",
      "w:[-8.593263], b:[318.91833], loss:58003.996\n",
      "w:[-8.604948], b:[319.17343], loss:57997.4\n",
      "w:[-8.616125], b:[319.41757], loss:57991.406\n",
      "w:[-8.627028], b:[319.65564], loss:57985.848\n",
      "w:[-8.636809], b:[319.86926], loss:57981.117\n",
      "w:[-8.646589], b:[320.0829], loss:57976.613\n",
      "w:[-8.655802], b:[320.28397], loss:57972.594\n",
      "w:[-8.664185], b:[320.46707], loss:57969.11\n",
      "w:[-8.672568], b:[320.65018], loss:57965.797\n",
      "w:[-8.6807375], b:[320.82852], loss:57962.734\n",
      "w:[-8.687723], b:[320.9811], loss:57960.246\n",
      "w:[-8.694709], b:[321.1337], loss:57957.88\n",
      "w:[-8.7016945], b:[321.2863], loss:57955.633\n",
      "w:[-8.708337], b:[321.4312], loss:57953.6\n",
      "w:[-8.713925], b:[321.55328], loss:57951.977\n",
      "w:[-8.719514], b:[321.67535], loss:57950.438\n",
      "w:[-8.725102], b:[321.79742], loss:57948.96\n",
      "w:[-8.730692], b:[321.9195], loss:57947.566\n",
      "w:[-8.73577], b:[322.03033], loss:57946.375\n",
      "w:[-8.739962], b:[322.1219], loss:57945.43\n",
      "w:[-8.744153], b:[322.21344], loss:57944.523\n",
      "w:[-8.748344], b:[322.305], loss:57943.67\n",
      "w:[-8.752536], b:[322.39655], loss:57942.86\n",
      "w:[-8.756728], b:[322.4881], loss:57942.09\n",
      "w:[-8.76092], b:[322.57965], loss:57941.367\n",
      "w:[-8.763917], b:[322.645], loss:57940.867\n",
      "w:[-8.766711], b:[322.70602], loss:57940.43\n",
      "w:[-8.7695055], b:[322.76706], loss:57940.0\n",
      "w:[-8.7723], b:[322.8281], loss:57939.61\n",
      "w:[-8.775094], b:[322.88913], loss:57939.22\n",
      "w:[-8.777888], b:[322.95016], loss:57938.86\n",
      "w:[-8.7806835], b:[323.0112], loss:57938.51\n",
      "w:[-8.783478], b:[323.07224], loss:57938.184\n",
      "w:[-8.786272], b:[323.13327], loss:57937.883\n",
      "w:[-8.788941], b:[323.1915], loss:57937.6\n",
      "w:[-8.7903385], b:[323.22202], loss:57937.465\n",
      "w:[-8.791736], b:[323.25253], loss:57937.336\n",
      "w:[-8.793133], b:[323.28305], loss:57937.207\n",
      "w:[-8.794531], b:[323.31357], loss:57937.082\n",
      "w:[-8.795928], b:[323.3441], loss:57936.97\n",
      "w:[-8.797324], b:[323.3746], loss:57936.86\n",
      "w:[-8.798722], b:[323.40512], loss:57936.746\n",
      "w:[-8.800119], b:[323.43564], loss:57936.64\n",
      "w:[-8.801517], b:[323.46616], loss:57936.547\n",
      "w:[-8.802914], b:[323.49667], loss:57936.45\n",
      "w:[-8.804311], b:[323.5272], loss:57936.36\n",
      "w:[-8.805708], b:[323.5577], loss:57936.273\n",
      "w:[-8.807105], b:[323.58823], loss:57936.203\n",
      "w:[-8.808502], b:[323.61874], loss:57936.12\n",
      "w:[-8.809899], b:[323.64926], loss:57936.047\n",
      "w:[-8.811296], b:[323.67978], loss:57935.984\n",
      "w:[-8.812694], b:[323.7103], loss:57935.92\n",
      "w:[-8.814091], b:[323.7408], loss:57935.875\n",
      "w:[-8.815488], b:[323.77133], loss:57935.812\n",
      "w:[-8.816104], b:[323.7847], loss:57935.797\n",
      "w:[-8.816104], b:[323.7847], loss:57935.797\n",
      "w:[-8.816104], b:[323.7847], loss:57935.797\n",
      "w:[-8.816104], b:[323.7847], loss:57935.797\n",
      "w:[-8.816104], b:[323.7847], loss:57935.797\n",
      "w:[-8.816104], b:[323.7847], loss:57935.797\n",
      "w:[-8.816104], b:[323.7847], loss:57935.797\n",
      "w:[-8.816104], b:[323.7847], loss:57935.797\n",
      "w:[-8.816104], b:[323.7847], loss:57935.797\n",
      "w:[-8.816104], b:[323.7847], loss:57935.797\n",
      "w:[-8.816104], b:[323.7847], loss:57935.797\n",
      "w:[-8.816104], b:[323.7847], loss:57935.797\n",
      "w:[-8.816104], b:[323.7847], loss:57935.797\n",
      "w:[-8.816104], b:[323.7847], loss:57935.797\n",
      "w:[-8.816104], b:[323.7847], loss:57935.797\n",
      "w:[-8.816104], b:[323.7847], loss:57935.797\n",
      "w:[-8.816104], b:[323.7847], loss:57935.797\n",
      "w:[-8.816104], b:[323.7847], loss:57935.797\n",
      "w:[-8.816104], b:[323.7847], loss:57935.797\n",
      "w:[-8.816104], b:[323.7847], loss:57935.797\n",
      "w:[-8.816104], b:[323.7847], loss:57935.797\n",
      "w:[-8.816104], b:[323.7847], loss:57935.797\n",
      "w:[-8.816104], b:[323.7847], loss:57935.797\n",
      "w:[-8.816104], b:[323.7847], loss:57935.797\n",
      "w:[-8.816104], b:[323.7847], loss:57935.797\n",
      "w:[-8.816104], b:[323.7847], loss:57935.797\n",
      "w:[-8.816104], b:[323.7847], loss:57935.797\n",
      "w:[-8.816104], b:[323.7847], loss:57935.797\n",
      "w:[-8.816104], b:[323.7847], loss:57935.797\n",
      "w:[-8.816104], b:[323.7847], loss:57935.797\n",
      "w:[-8.816104], b:[323.7847], loss:57935.797\n",
      "w:[-8.816104], b:[323.7847], loss:57935.797\n",
      "w:[-8.816104], b:[323.7847], loss:57935.797\n",
      "w:[-8.816104], b:[323.7847], loss:57935.797\n",
      "w:[-8.816104], b:[323.7847], loss:57935.797\n",
      "w:[-8.816104], b:[323.7847], loss:57935.797\n",
      "w:[-8.816104], b:[323.7847], loss:57935.797\n",
      "w:[-8.816104], b:[323.7847], loss:57935.797\n",
      "w:[-8.816104], b:[323.7847], loss:57935.797\n",
      "w:[-8.816104], b:[323.7847], loss:57935.797\n",
      "w:[-8.816104], b:[323.7847], loss:57935.797\n",
      "w:[-8.816104], b:[323.7847], loss:57935.797\n",
      "w:[-8.816104], b:[323.7847], loss:57935.797\n",
      "w:[-8.816104], b:[323.7847], loss:57935.797\n",
      "w:[-8.816104], b:[323.7847], loss:57935.797\n",
      "w:[-8.816104], b:[323.7847], loss:57935.797\n",
      "w:[-8.816104], b:[323.7847], loss:57935.797\n",
      "w:[-8.816104], b:[323.7847], loss:57935.797\n",
      "w:[-8.816104], b:[323.7847], loss:57935.797\n",
      "w:[-8.816104], b:[323.7847], loss:57935.797\n"
     ]
    },
    {
     "name": "stdout",
     "output_type": "stream",
     "text": [
      "w:[-8.816104], b:[323.7847], loss:57935.797\n",
      "w:[-8.816104], b:[323.7847], loss:57935.797\n",
      "w:[-8.816104], b:[323.7847], loss:57935.797\n",
      "w:[-8.816104], b:[323.7847], loss:57935.797\n",
      "w:[-8.816104], b:[323.7847], loss:57935.797\n",
      "w:[-8.816104], b:[323.7847], loss:57935.797\n",
      "w:[-8.816104], b:[323.7847], loss:57935.797\n",
      "w:[-8.816104], b:[323.7847], loss:57935.797\n",
      "w:[-8.816104], b:[323.7847], loss:57935.797\n",
      "w:[-8.816104], b:[323.7847], loss:57935.797\n",
      "w:[-8.816104], b:[323.7847], loss:57935.797\n",
      "w:[-8.816104], b:[323.7847], loss:57935.797\n",
      "w:[-8.816104], b:[323.7847], loss:57935.797\n",
      "w:[-8.816104], b:[323.7847], loss:57935.797\n",
      "w:[-8.816104], b:[323.7847], loss:57935.797\n",
      "w:[-8.816104], b:[323.7847], loss:57935.797\n"
     ]
    }
   ],
   "source": [
    "x=tf.placeholder(tf.float32)\n",
    "y=tf.placeholder(tf.float32)\n",
    "b=tf.Variable([-3.],tf.float32) # b는 계속 갱신되는 데이터이므로 --> 변수(Variable) 타입이어야한다\n",
    "w=tf.Variable([3.],tf.float32)\n",
    "\n",
    "hf=x*w+b\n",
    "loss = tf.reduce_sum(tf.square(hf-y)) # 계산하면 차원이 줄어들어서 reduce_가 붙는다\n",
    "train = tf.train.GradientDescentOptimizer(0.00001).minimize(loss) # 러닝레이트 값을 1로 주면 발산(미분값이 1이라는 것, 너무 작으면 변화거의 없음)\n",
    "xtrain=cars['mpg']\n",
    "ytrain=cars['hp']\n",
    "\n",
    "sess=tf.Session()\n",
    "sess.run(tf.global_variables_initializer())\n",
    "\n",
    "for step in range(200001):   \n",
    "    sess.run(train,feed_dict={x:xtrain,y:ytrain})\n",
    "    if step %1000==0:\n",
    "        wv,bv,lv = sess.run([w,b,loss],feed_dict={x:xtrain,y:ytrain})\n",
    "        print(\"w:%s, b:%s, loss:%s\" % (wv,bv,lv))"
   ]
  },
  {
   "cell_type": "code",
   "execution_count": null,
   "metadata": {},
   "outputs": [],
   "source": []
  }
 ],
 "metadata": {
  "kernelspec": {
   "display_name": "Python 3",
   "language": "python",
   "name": "python3"
  },
  "language_info": {
   "codemirror_mode": {
    "name": "ipython",
    "version": 3
   },
   "file_extension": ".py",
   "mimetype": "text/x-python",
   "name": "python",
   "nbconvert_exporter": "python",
   "pygments_lexer": "ipython3",
   "version": "3.7.3"
  }
 },
 "nbformat": 4,
 "nbformat_minor": 2
}
