{
 "cells": [
  {
   "cell_type": "code",
   "execution_count": 29,
   "metadata": {},
   "outputs": [],
   "source": [
    "import pandas as pd\n",
    "import numpy as np\n",
    "import urllib\n",
    "import urllib.request as req\n",
    "from urllib.request import urlopen\n",
    "from bs4 import BeautifulSoup"
   ]
  },
  {
   "cell_type": "code",
   "execution_count": 6,
   "metadata": {},
   "outputs": [],
   "source": [
    "# css 선택자 추출"
   ]
  },
  {
   "cell_type": "code",
   "execution_count": 14,
   "metadata": {},
   "outputs": [],
   "source": [
    "text = html=\"\"\"\n",
    "<ul id = \"books\">\n",
    "<li id=\"b1\">상실의 시대</li>\n",
    "<li id=\"b2\">데미안</li>\n",
    "<li id=\"b3\">이방인</li>\n",
    "<li id=\"b4\">태백산맥</li>\n",
    "<li id=\"b5\">어린왕자</li>\n",
    "</ul>\"\"\""
   ]
  },
  {
   "cell_type": "code",
   "execution_count": 15,
   "metadata": {},
   "outputs": [],
   "source": [
    "soup = BeautifulSoup(text,'html.parser')\n"
   ]
  },
  {
   "cell_type": "code",
   "execution_count": 16,
   "metadata": {},
   "outputs": [],
   "source": [
    "sel = lambda q:print(soup.select_one(q).string) \n",
    "# 함수 이름: sel, 함수 인자:q\n",
    "# sel함수를 호출할 때, 전달되는 인자(css선택자)로 부터 soup에 저장된 html문서에 해당하는 인자를 찾겠다\n",
    "# 람다함수에 전달되면 숲에서 찾아서 스트링으로 찾겠다"
   ]
  },
  {
   "cell_type": "code",
   "execution_count": 28,
   "metadata": {},
   "outputs": [
    {
     "name": "stdout",
     "output_type": "stream",
     "text": [
      "태백산맥\n",
      "태백산맥\n",
      "태백산맥\n",
      "태백산맥\n",
      "태백산맥\n",
      "태백산맥\n",
      "태백산맥\n",
      "태백산맥\n",
      "태백산맥\n"
     ]
    },
    {
     "data": {
      "text/plain": [
       "'태백산맥'"
      ]
     },
     "execution_count": 28,
     "metadata": {},
     "output_type": "execute_result"
    }
   ],
   "source": [
    "sel(\"#b4\")\n",
    "sel(\"li#b4\") \n",
    "sel(\"ul li#b4\")\n",
    "sel(\"ul > li#b4\")\n",
    "sel(\"#books #b4\")\n",
    "sel(\"#books > #b4\") # id 밑에 id 로도 접근이 가능하다\n",
    "sel(\"li[id='b4']\") # \"\"안에 들어갈 땐, ''로 묶어야한다\n",
    "sel(\"li:nth-child(4)\") # 4자리에 변수넣어서 for문 돌려도 됨\n",
    "sel(\"li:nth-of-type(4)\")\n",
    "soup.select(\"li\")[3].string\n",
    "soup.find_all(\"li\")[3].string"
   ]
  },
  {
   "cell_type": "code",
   "execution_count": null,
   "metadata": {},
   "outputs": [],
   "source": [
    "#question-summary-57067264 > div.summary > div.excerpt\n",
    "#question-summary-57067260 > div.summary > div.excerpt"
   ]
  },
  {
   "cell_type": "code",
   "execution_count": 37,
   "metadata": {},
   "outputs": [
    {
     "data": {
      "text/plain": [
       "312"
      ]
     },
     "execution_count": 37,
     "metadata": {},
     "output_type": "execute_result"
    }
   ],
   "source": [
    "page = urlopen(\"https://stackoverflow.com/questions/tagged/python\")\n",
    "document = page.read()\n",
    "soup = BeautifulSoup(document,'html.parser')\n",
    "questions = soup.find(id=\"questions\")\n",
    "questions.find_all(\"a\")\n",
    "len(questions.find_all(\"a\")) # a태그가 312개 나옴\n",
    "# questions.find(\"a\")\n",
    "# questions.find"
   ]
  },
  {
   "cell_type": "code",
   "execution_count": null,
   "metadata": {},
   "outputs": [],
   "source": []
  },
  {
   "cell_type": "code",
   "execution_count": null,
   "metadata": {},
   "outputs": [],
   "source": []
  },
  {
   "cell_type": "code",
   "execution_count": null,
   "metadata": {},
   "outputs": [],
   "source": []
  },
  {
   "cell_type": "code",
   "execution_count": null,
   "metadata": {},
   "outputs": [],
   "source": []
  }
 ],
 "metadata": {
  "kernelspec": {
   "display_name": "Python 3",
   "language": "python",
   "name": "python3"
  },
  "language_info": {
   "codemirror_mode": {
    "name": "ipython",
    "version": 3
   },
   "file_extension": ".py",
   "mimetype": "text/x-python",
   "name": "python",
   "nbconvert_exporter": "python",
   "pygments_lexer": "ipython3",
   "version": "3.7.3"
  }
 },
 "nbformat": 4,
 "nbformat_minor": 2
}
