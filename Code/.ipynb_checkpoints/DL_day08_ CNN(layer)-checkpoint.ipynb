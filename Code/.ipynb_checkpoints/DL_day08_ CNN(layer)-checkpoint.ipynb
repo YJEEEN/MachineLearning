{
 "cells": [
  {
   "cell_type": "code",
   "execution_count": 0,
   "metadata": {
    "colab": {},
    "colab_type": "code",
    "id": "Cd56fX8-P4Cp"
   },
   "outputs": [],
   "source": [
    "import pandas as pd\n",
    "import numpy as np\n",
    "import tensorflow as tf"
   ]
  },
  {
   "cell_type": "code",
   "execution_count": 20,
   "metadata": {
    "colab": {
     "base_uri": "https://localhost:8080/",
     "height": 89
    },
    "colab_type": "code",
    "id": "6I3nhWPPP4C-",
    "outputId": "61c598d2-690b-4967-dc16-2d68906d33ff",
    "scrolled": true
   },
   "outputs": [
    {
     "name": "stdout",
     "output_type": "stream",
     "text": [
      "Extracting ./mnist/data/train-images-idx3-ubyte.gz\n",
      "Extracting ./mnist/data/train-labels-idx1-ubyte.gz\n",
      "Extracting ./mnist/data/t10k-images-idx3-ubyte.gz\n",
      "Extracting ./mnist/data/t10k-labels-idx1-ubyte.gz\n"
     ]
    }
   ],
   "source": [
    "from tensorflow.examples.tutorials.mnist import input_data\n",
    "from keras.datasets import mnist\n",
    "mnist=input_data.read_data_sets(\"./mnist/data/\",one_hot=True)"
   ]
  },
  {
   "cell_type": "code",
   "execution_count": 0,
   "metadata": {
    "colab": {},
    "colab_type": "code",
    "id": "C5AP46vrP4Du"
   },
   "outputs": [],
   "source": [
    "tf.get_default_graph()\n",
    "x=tf.placeholder(tf.float32,[None,28,28,1])\n",
    "y=tf.placeholder(tf.float32,[None,10])\n",
    "keep_prob=tf.placeholder(tf.float32)"
   ]
  },
  {
   "cell_type": "code",
   "execution_count": 23,
   "metadata": {
    "colab": {
     "base_uri": "https://localhost:8080/",
     "height": 35
    },
    "colab_type": "code",
    "id": "Ju1bcKHvP4Dx",
    "outputId": "0b756922-54d2-4c35-9003-8327977c5be1"
   },
   "outputs": [
    {
     "data": {
      "text/plain": [
       "'\\nw1:[3,3,1,32]\\nL2:[None,214,14,64]\\nmaxpool:[None,7,7,64]\\n'"
      ]
     },
     "execution_count": 23,
     "metadata": {
      "tags": []
     },
     "output_type": "execute_result"
    }
   ],
   "source": [
    "\n",
    "# 3*3필터(커널) 크기, 1채널(특성), 필터 32개 사용\n",
    "# w1=tf.Variable(tf.random_normal([3,3,1,32]))\n",
    "w1=tf.get_variable(\"W1\",shape=(3,3,1,32),initializer=tf.contrib.layers.xavier_initializer())\n",
    "\n",
    "# tf.nn.con2d를 이용 인자는 (input_data, weight, options--> strides,)\n",
    "# strides 옵션: strides=([1,a,b,1]) 형태 a:이동할 칸 수,b:이동할 줄 수\n",
    "L1 = tf.nn.conv2d(x,w1,strides=[1, 1, 1,1],padding='SAME')\n",
    "L1 =tf.nn.relu(L1)\n",
    "# ksize 작을수록 좁은 영역에 대해서 특징을 추출하므로 정확성은 높아지나,\n",
    "# 연산량이 많아진다. 일반적으로 2를 주긴한다. \n",
    "L1=tf.nn.max_pool(L1,ksize=[1,2,2,1],strides=[1,2,2,1],padding='SAME')\n",
    "\n",
    "'''\n",
    "x:[None,28,28,1]\n",
    "w1:[3,3,1,32]\n",
    "L1:[None,28,28,32]\n",
    "maxpool:[None,14,14,32]\n",
    "'''\n",
    "\n",
    "\n",
    "# 이전 계층에서 32개 필터가 사용됨으로 32개채널로 늘어나고, \n",
    "# 두번째 계층에서 필터 64개를 사용하고 싶음으로 64로 지정하면 된다.\n",
    "# w2=tf.Variable(tf.random_normal([3,3,32,64]))\n",
    "w2=tf.get_variable(\"W2\",shape=(3,3,32,64),initializer=tf.contrib.layers.xavier_initializer())\n",
    "L2 = tf.nn.conv2d(L1,w2,strides=[1, 1, 1,1],padding='SAME')\n",
    "L2 =tf.nn.relu(L2)\n",
    "L2=tf.nn.max_pool(L2,ksize=[1,2,2,1],strides=[1,2,2,1],padding='SAME')\n",
    "'''\n",
    "w1:[3,3,1,32]\n",
    "L2:[None,214,14,64]\n",
    "maxpool:[None,7,7,64]\n",
    "'''\n",
    "\n",
    "# F.C계층 :입력 7*7*64-->256 출력된다\n",
    "# w3=tf.Variable(tf.random_normal([7*7*64,256]))\n",
    "w3=tf.get_variable(\"W3\",shape=(7*7*64,256),initializer=tf.contrib.layers.xavier_initializer())\n",
    "\n",
    "# flatten 작업을 수행하여 y(출력)값을 출력한다.\n",
    "L3=tf.reshape(L2,[-1,7*7*64])\n",
    "# [-1,256]으로 뿌려준다\n",
    "L3=tf.matmul(L3,w3) \n",
    "L3=tf.nn.relu(L3)\n",
    "L3=tf.nn.dropout(L3,keep_prob)\n",
    "\n",
    "# 256개를 10개로 출력\n",
    "# w4=tf.Variable(tf.random_normal([256,10]))\n",
    "w4=tf.get_variable(\"W4\",shape=(256,10),initializer=tf.contrib.layers.xavier_initializer())\n",
    "model=tf.matmul(L3,w4) # 여기까지 출력하면 소프트맥스에 넣기전, score가 출력된다\n",
    "                        # 여기서 argmax사용하여 인덱스만 추출하여도 된다\n",
    "\n",
    "# 실제값과 예측값의 소프트맥스를 통해 확률로 원핫인코딩 된 코스트값, cross entropy를 구하는 함수\n",
    "# 위의 값에 reduce_mean을 사용하여 cost의 평균을 구해준다\n",
    "cost=tf.reduce_mean(tf.nn.softmax_cross_entropy_with_logits_v2(logits=model,labels=y))\n",
    "optimizer=tf.train.AdamOptimizer(0.01).minimize(cost)\n",
    "\n",
    "'''\n",
    "w1:[3,3,1,32]\n",
    "L2:[None,214,14,64]\n",
    "maxpool:[None,7,7,64]\n",
    "'''"
   ]
  },
  {
   "cell_type": "code",
   "execution_count": 24,
   "metadata": {
    "colab": {
     "base_uri": "https://localhost:8080/",
     "height": 143
    },
    "colab_type": "code",
    "id": "JJW39bHVP4D2",
    "outputId": "23ffadef-4a20-416e-a61b-454d46f45b53"
   },
   "outputs": [
    {
     "name": "stdout",
     "output_type": "stream",
     "text": [
      "에폭: 1 평균cost: 0.141\n",
      "에폭: 2 평균cost: 0.068\n",
      "에폭: 3 평균cost: 0.058\n",
      "에폭: 4 평균cost: 0.056\n",
      "에폭: 5 평균cost: 0.049\n",
      "모델 생성됨!\n",
      "정확도: 0.9846\n"
     ]
    }
   ],
   "source": [
    "sess=tf.Session()\n",
    "sess.run(tf.global_variables_initializer())\n",
    "batch_size=100 # 한번에 100개씩 읽어서 포워드/백워드를 진행한다\n",
    "total_batch=int(mnist.train.num_examples/batch_size) # 600번 훈련을 진행하게 된다\n",
    "\n",
    "for epoch in range(5): # 총 15번 돌리겠다\n",
    "    total_cost=0\n",
    "    for i in range(total_batch): # 600번 1에폭을 돌리겠다\n",
    "        batch_xs,batch_ys=mnist.train.next_batch(batch_size)\n",
    "        batch_xs=batch_xs.reshape(-1,28,28,1)\n",
    "        _,cv=sess.run([optimizer,cost], # cost함수 써서 cv값구하면 100개에 대한 reduce_mean을 구함\n",
    "                feed_dict={x:batch_xs,\n",
    "                          y:batch_ys,\n",
    "                          keep_prob:0.7}) #keep_porb:몇%를 훈련시킬지\n",
    "        total_cost+=cv # 여기에 100개씩 \n",
    "    print(\"에폭:\",'%d' %(epoch+1),\n",
    "         \"평균cost:\",\"{:.3f}\".format(total_cost/total_batch))\n",
    "print(\"모델 생성됨!\")\n",
    "\n",
    "\n",
    "# 예를들어, 60000개 데이터 훈련시킨다면\n",
    "# batch_size는 한번에 몇 개의 data를 훈련시킬지\n",
    "# total_batch는 몇 번 훈련시킬 지\n",
    "\n",
    "is_correct= tf.equal(tf.argmax(model,1),tf.argmax(y,1))\n",
    "accuracy=tf.reduce_mean(tf.cast(is_correct,tf.float32))\n",
    "print(\"정확도:\", sess.run(accuracy,\n",
    "                      feed_dict={x:mnist.test.images.reshape(-1,28,28,1), y:mnist.test.labels,\n",
    "                                keep_prob:1})) # 실행시엔 전체 데이터를 수행해주어야 한다\n"
   ]
  },
  {
   "cell_type": "code",
   "execution_count": 0,
   "metadata": {
    "colab": {},
    "colab_type": "code",
    "id": "GkrEfu4LP4ES"
   },
   "outputs": [],
   "source": [
    "x=tf.placeholder(tf.float32,[None,28,28,1])\n",
    "y=tf.placeholder(tf.float32,[None,10])"
   ]
  },
  {
   "cell_type": "code",
   "execution_count": 0,
   "metadata": {
    "colab": {},
    "colab_type": "code",
    "id": "JG8DqPZaP4Ep"
   },
   "outputs": [],
   "source": [
    "L1=tf.layers.conv2d(x,32,[3,3],activation=tf.nn.relu)\n",
    "L1=tf.layers.max_pooling2d(L1,[2,2],[2,2])\n",
    "L1=tf.layers.dropout(L1,0.7)\n",
    "\n",
    "L2=tf.layers.conv2d(x,64,[3,3],activation=tf.nn.relu)\n",
    "L2=tf.layers.max_pooling2d(L2,[2,2],[2,2])\n",
    "L2=tf.layers.dropout(L2,0.7)\n",
    "\n",
    "L3=tf.contrib.layers.flatten(L2)\n",
    "L3=tf.layers.dense(L3,256,activation=tf.nn.relu)\n",
    "L3=tf.layers.dropout(L3,0.5)\n",
    "\n",
    "model=tf.layers.dense(L3,10,activation=None)\n",
    "cost=tf.reduce_mean(tf.nn.softmax_cross_entropy_with_logits_v2(logits=model,labels=y))\n",
    "\n",
    "train=tf.train.AdamOptimizer(0.01).minimize(cost)"
   ]
  },
  {
   "cell_type": "code",
   "execution_count": 0,
   "metadata": {
    "colab": {},
    "colab_type": "code",
    "id": "Kr3w5NdKP4FC"
   },
   "outputs": [],
   "source": [
    "from keras import layers\n",
    "from keras import models"
   ]
  },
  {
   "cell_type": "code",
   "execution_count": 36,
   "metadata": {
    "colab": {
     "base_uri": "https://localhost:8080/",
     "height": 145
    },
    "colab_type": "code",
    "id": "zqCUUE7SP4Fb",
    "outputId": "86aa358c-3ac4-4aa6-de5d-6dc942fecbf2"
   },
   "outputs": [
    {
     "name": "stderr",
     "output_type": "stream",
     "text": [
      "W0819 05:48:32.846387 140659350239104 deprecation_wrapper.py:119] From /usr/local/lib/python3.6/dist-packages/keras/backend/tensorflow_backend.py:517: The name tf.placeholder is deprecated. Please use tf.compat.v1.placeholder instead.\n",
      "\n",
      "W0819 05:48:32.852178 140659350239104 deprecation_wrapper.py:119] From /usr/local/lib/python3.6/dist-packages/keras/backend/tensorflow_backend.py:4138: The name tf.random_uniform is deprecated. Please use tf.random.uniform instead.\n",
      "\n",
      "W0819 05:48:32.874402 140659350239104 deprecation_wrapper.py:119] From /usr/local/lib/python3.6/dist-packages/keras/backend/tensorflow_backend.py:3976: The name tf.nn.max_pool is deprecated. Please use tf.nn.max_pool2d instead.\n",
      "\n"
     ]
    }
   ],
   "source": [
    "model=models.Sequential()\n",
    "model.add(layers.Conv2D(32,(3,3),activation='relu',input_shape=(28,28,1)))\n",
    "model.add(layers.MaxPooling2D((2,2)))\n",
    "\n",
    "model.add(layers.Conv2D(64,(3,3),activation='relu'))\n",
    "model.add(layers.MaxPooling2D((2,2)))\n",
    "\n",
    "model.add(layers.Conv2D(64,(3,3),activation='relu'))"
   ]
  },
  {
   "cell_type": "code",
   "execution_count": 37,
   "metadata": {
    "colab": {
     "base_uri": "https://localhost:8080/",
     "height": 323
    },
    "colab_type": "code",
    "id": "LQlqUgaVP4F1",
    "outputId": "0f94377e-30cd-4935-ca35-c3f0b59bd09e"
   },
   "outputs": [
    {
     "name": "stdout",
     "output_type": "stream",
     "text": [
      "_________________________________________________________________\n",
      "Layer (type)                 Output Shape              Param #   \n",
      "=================================================================\n",
      "conv2d_1 (Conv2D)            (None, 26, 26, 32)        320       \n",
      "_________________________________________________________________\n",
      "max_pooling2d_1 (MaxPooling2 (None, 13, 13, 32)        0         \n",
      "_________________________________________________________________\n",
      "conv2d_2 (Conv2D)            (None, 11, 11, 64)        18496     \n",
      "_________________________________________________________________\n",
      "max_pooling2d_2 (MaxPooling2 (None, 5, 5, 64)          0         \n",
      "_________________________________________________________________\n",
      "conv2d_3 (Conv2D)            (None, 3, 3, 64)          36928     \n",
      "=================================================================\n",
      "Total params: 55,744\n",
      "Trainable params: 55,744\n",
      "Non-trainable params: 0\n",
      "_________________________________________________________________\n"
     ]
    }
   ],
   "source": [
    "model.summary()"
   ]
  },
  {
   "cell_type": "code",
   "execution_count": 0,
   "metadata": {
    "colab": {},
    "colab_type": "code",
    "id": "2lmFNmbHP4GW"
   },
   "outputs": [],
   "source": [
    "model.add(layers.Flatten())\n"
   ]
  },
  {
   "cell_type": "code",
   "execution_count": 0,
   "metadata": {
    "colab": {},
    "colab_type": "code",
    "id": "0vx3O_fpP4Gy"
   },
   "outputs": [],
   "source": [
    "model.summary()"
   ]
  },
  {
   "cell_type": "code",
   "execution_count": 0,
   "metadata": {
    "colab": {},
    "colab_type": "code",
    "id": "GeRCFC64P4G5"
   },
   "outputs": [],
   "source": [
    "model.add(layers.Dense(64,activation='relu'))"
   ]
  },
  {
   "cell_type": "code",
   "execution_count": 42,
   "metadata": {
    "colab": {
     "base_uri": "https://localhost:8080/",
     "height": 395
    },
    "colab_type": "code",
    "id": "TcsRhcOqP4HA",
    "outputId": "95296d9f-591c-4774-c3e6-9aa79cd82ef0"
   },
   "outputs": [
    {
     "name": "stdout",
     "output_type": "stream",
     "text": [
      "_________________________________________________________________\n",
      "Layer (type)                 Output Shape              Param #   \n",
      "=================================================================\n",
      "conv2d_1 (Conv2D)            (None, 26, 26, 32)        320       \n",
      "_________________________________________________________________\n",
      "max_pooling2d_1 (MaxPooling2 (None, 13, 13, 32)        0         \n",
      "_________________________________________________________________\n",
      "conv2d_2 (Conv2D)            (None, 11, 11, 64)        18496     \n",
      "_________________________________________________________________\n",
      "max_pooling2d_2 (MaxPooling2 (None, 5, 5, 64)          0         \n",
      "_________________________________________________________________\n",
      "conv2d_3 (Conv2D)            (None, 3, 3, 64)          36928     \n",
      "_________________________________________________________________\n",
      "flatten_1 (Flatten)          (None, 576)               0         \n",
      "_________________________________________________________________\n",
      "dense_1 (Dense)              (None, 64)                36928     \n",
      "=================================================================\n",
      "Total params: 92,672\n",
      "Trainable params: 92,672\n",
      "Non-trainable params: 0\n",
      "_________________________________________________________________\n"
     ]
    }
   ],
   "source": [
    "model.summary()"
   ]
  },
  {
   "cell_type": "code",
   "execution_count": 44,
   "metadata": {
    "colab": {
     "base_uri": "https://localhost:8080/",
     "height": 467
    },
    "colab_type": "code",
    "id": "vRIgylUSP4HF",
    "outputId": "00fb8f1e-769f-4de8-9e31-d653f1880f7c"
   },
   "outputs": [
    {
     "name": "stdout",
     "output_type": "stream",
     "text": [
      "_________________________________________________________________\n",
      "Layer (type)                 Output Shape              Param #   \n",
      "=================================================================\n",
      "conv2d_1 (Conv2D)            (None, 26, 26, 32)        320       \n",
      "_________________________________________________________________\n",
      "max_pooling2d_1 (MaxPooling2 (None, 13, 13, 32)        0         \n",
      "_________________________________________________________________\n",
      "conv2d_2 (Conv2D)            (None, 11, 11, 64)        18496     \n",
      "_________________________________________________________________\n",
      "max_pooling2d_2 (MaxPooling2 (None, 5, 5, 64)          0         \n",
      "_________________________________________________________________\n",
      "conv2d_3 (Conv2D)            (None, 3, 3, 64)          36928     \n",
      "_________________________________________________________________\n",
      "flatten_1 (Flatten)          (None, 576)               0         \n",
      "_________________________________________________________________\n",
      "dense_1 (Dense)              (None, 64)                36928     \n",
      "_________________________________________________________________\n",
      "dense_2 (Dense)              (None, 64)                4160      \n",
      "_________________________________________________________________\n",
      "dense_3 (Dense)              (None, 10)                650       \n",
      "=================================================================\n",
      "Total params: 97,482\n",
      "Trainable params: 97,482\n",
      "Non-trainable params: 0\n",
      "_________________________________________________________________\n"
     ]
    }
   ],
   "source": [
    "model.add(layers.Dense(10,activation='softmax'))\n",
    "model.summary()"
   ]
  },
  {
   "cell_type": "code",
   "execution_count": 0,
   "metadata": {
    "colab": {},
    "colab_type": "code",
    "id": "xLMJLDYrP4HJ"
   },
   "outputs": [],
   "source": [
    "from keras.datasets import mnist\n",
    "from keras.utils import to_categorical"
   ]
  },
  {
   "cell_type": "code",
   "execution_count": 46,
   "metadata": {
    "colab": {
     "base_uri": "https://localhost:8080/",
     "height": 53
    },
    "colab_type": "code",
    "id": "V7qmFC59dYcJ",
    "outputId": "676e2711-eee8-4d2f-c464-8fa430997fcc"
   },
   "outputs": [
    {
     "name": "stdout",
     "output_type": "stream",
     "text": [
      "Downloading data from https://s3.amazonaws.com/img-datasets/mnist.npz\n",
      "11493376/11490434 [==============================] - 2s 0us/step\n"
     ]
    }
   ],
   "source": [
    "(train_images,train_labels),(test_images,test_labels)=mnist.load_data()"
   ]
  },
  {
   "cell_type": "code",
   "execution_count": 0,
   "metadata": {
    "colab": {},
    "colab_type": "code",
    "id": "6U5KsbEqdkYP"
   },
   "outputs": [],
   "source": [
    "train_images.shape\n",
    "train_images=train_images.reshape((60000,28,28,1))\n",
    "train_images=train_images.astype('float32')/255 # 0~1 사이의 값으로 정규화\n",
    "\n",
    "test_images=test_images.reshape((10000,28,28,1))\n",
    "test_images=test_images.astype('float32')/255 # 0~1 사이의 값으로 정규화"
   ]
  },
  {
   "cell_type": "code",
   "execution_count": 50,
   "metadata": {
    "colab": {
     "base_uri": "https://localhost:8080/",
     "height": 35
    },
    "colab_type": "code",
    "id": "i0gWaniLdodk",
    "outputId": "ea06a428-4622-4abf-d88d-e5a9443d51ad"
   },
   "outputs": [
    {
     "data": {
      "text/plain": [
       "(60000,)"
      ]
     },
     "execution_count": 50,
     "metadata": {
      "tags": []
     },
     "output_type": "execute_result"
    }
   ],
   "source": [
    "train_labels.shape"
   ]
  },
  {
   "cell_type": "code",
   "execution_count": 0,
   "metadata": {
    "colab": {},
    "colab_type": "code",
    "id": "W907QM5deSwV"
   },
   "outputs": [],
   "source": [
    " train_labels=to_categorical(train_labels)\n",
    " test_labels=to_categorical(test_labels)"
   ]
  },
  {
   "cell_type": "code",
   "execution_count": 52,
   "metadata": {
    "colab": {
     "base_uri": "https://localhost:8080/",
     "height": 109
    },
    "colab_type": "code",
    "id": "RbMwBv7Veql1",
    "outputId": "95bf284b-9331-495c-84fe-1f55a1cc9343"
   },
   "outputs": [
    {
     "name": "stderr",
     "output_type": "stream",
     "text": [
      "W0819 06:07:55.643733 140659350239104 deprecation_wrapper.py:119] From /usr/local/lib/python3.6/dist-packages/keras/optimizers.py:790: The name tf.train.Optimizer is deprecated. Please use tf.compat.v1.train.Optimizer instead.\n",
      "\n",
      "W0819 06:07:55.674833 140659350239104 deprecation_wrapper.py:119] From /usr/local/lib/python3.6/dist-packages/keras/backend/tensorflow_backend.py:3295: The name tf.log is deprecated. Please use tf.math.log instead.\n",
      "\n"
     ]
    }
   ],
   "source": [
    "model.compile(optimizer='rmsprop',\n",
    "             loss='categorical_crossentropy',\n",
    "             metrics=['accuracy'])"
   ]
  },
  {
   "cell_type": "code",
   "execution_count": 56,
   "metadata": {
    "colab": {
     "base_uri": "https://localhost:8080/",
     "height": 215
    },
    "colab_type": "code",
    "id": "gzpw6bnPfMcT",
    "outputId": "bcf481cd-b611-42fd-9ce3-1a950b8cd78f"
   },
   "outputs": [
    {
     "name": "stdout",
     "output_type": "stream",
     "text": [
      "Epoch 1/5\n",
      "60000/60000 [==============================] - 4s 75us/step - loss: 0.1558 - acc: 0.9627\n",
      "Epoch 2/5\n",
      "60000/60000 [==============================] - 4s 70us/step - loss: 0.1182 - acc: 0.9704\n",
      "Epoch 3/5\n",
      "60000/60000 [==============================] - 4s 71us/step - loss: 0.0957 - acc: 0.9749\n",
      "Epoch 4/5\n",
      "60000/60000 [==============================] - 4s 73us/step - loss: 0.0805 - acc: 0.9787\n",
      "Epoch 5/5\n",
      "60000/60000 [==============================] - 4s 72us/step - loss: 0.0686 - acc: 0.9816\n"
     ]
    },
    {
     "data": {
      "text/plain": [
       "<keras.callbacks.History at 0x7fed1a722b38>"
      ]
     },
     "execution_count": 56,
     "metadata": {
      "tags": []
     },
     "output_type": "execute_result"
    }
   ],
   "source": [
    "model.fit(train_images, train_labels,epochs=5, batch_size=64)"
   ]
  },
  {
   "cell_type": "code",
   "execution_count": 57,
   "metadata": {
    "colab": {
     "base_uri": "https://localhost:8080/",
     "height": 53
    },
    "colab_type": "code",
    "id": "ns3w1A96fMmt",
    "outputId": "639f559e-c6c3-497b-c8d2-f1aca01990aa"
   },
   "outputs": [
    {
     "name": "stdout",
     "output_type": "stream",
     "text": [
      "10000/10000 [==============================] - 1s 56us/step\n"
     ]
    },
    {
     "data": {
      "text/plain": [
       "0.9205"
      ]
     },
     "execution_count": 57,
     "metadata": {
      "tags": []
     },
     "output_type": "execute_result"
    }
   ],
   "source": [
    "test_loss,test_acc=model.evaluate(test_images,test_labels)\n",
    "test_acc"
   ]
  },
  {
   "cell_type": "code",
   "execution_count": 0,
   "metadata": {
    "colab": {},
    "colab_type": "code",
    "id": "jY0gOlsmfMqo"
   },
   "outputs": [],
   "source": []
  },
  {
   "cell_type": "code",
   "execution_count": 0,
   "metadata": {
    "colab": {},
    "colab_type": "code",
    "id": "xz-w-hp6gjku"
   },
   "outputs": [],
   "source": []
  },
  {
   "cell_type": "code",
   "execution_count": 0,
   "metadata": {
    "colab": {},
    "colab_type": "code",
    "id": "IBZZEqN4gjnO"
   },
   "outputs": [],
   "source": []
  },
  {
   "cell_type": "code",
   "execution_count": 0,
   "metadata": {
    "colab": {},
    "colab_type": "code",
    "id": "ueWYcfLxgjsX"
   },
   "outputs": [],
   "source": []
  },
  {
   "cell_type": "code",
   "execution_count": 0,
   "metadata": {
    "colab": {},
    "colab_type": "code",
    "id": "ZGemSGlqgjqd"
   },
   "outputs": [],
   "source": []
  },
  {
   "cell_type": "code",
   "execution_count": 0,
   "metadata": {
    "colab": {},
    "colab_type": "code",
    "id": "w5tSiLNPfMtV"
   },
   "outputs": [],
   "source": []
  },
  {
   "cell_type": "code",
   "execution_count": 0,
   "metadata": {
    "colab": {},
    "colab_type": "code",
    "id": "eC9UQFWCfMvi"
   },
   "outputs": [],
   "source": []
  }
 ],
 "metadata": {
  "accelerator": "GPU",
  "colab": {
   "collapsed_sections": [],
   "name": "DL_day08_.ipynb",
   "provenance": [],
   "version": "0.3.2"
  },
  "kernelspec": {
   "display_name": "Python 3",
   "language": "python",
   "name": "python3"
  },
  "language_info": {
   "codemirror_mode": {
    "name": "ipython",
    "version": 3
   },
   "file_extension": ".py",
   "mimetype": "text/x-python",
   "name": "python",
   "nbconvert_exporter": "python",
   "pygments_lexer": "ipython3",
   "version": "3.7.3"
  }
 },
 "nbformat": 4,
 "nbformat_minor": 1
}
