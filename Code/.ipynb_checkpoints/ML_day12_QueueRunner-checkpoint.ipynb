{
 "cells": [
  {
   "cell_type": "markdown",
   "metadata": {},
   "source": [
    "# QUEUE"
   ]
  },
  {
   "cell_type": "code",
   "execution_count": null,
   "metadata": {},
   "outputs": [],
   "source": [
    "- File -> Data -> (Enqueue: queue runner(멀티스레드(동작) 기반)) -> Queue\n",
    "- 현재 실행 중인 프로그램 : 프로세스\n",
    "- 프로세스 내에서 독립적으로 작동하는 단위 : 스레드 (단일 스레드는 어떤 동작 중이면 다른 사람은 그 동작에 접근이 불가능하다 )"
   ]
  },
  {
   "cell_type": "code",
   "execution_count": null,
   "metadata": {},
   "outputs": [],
   "source": [
    "import pandas as pd\n",
    "import numpy as np\n",
    "import tensorflow as tf"
   ]
  },
  {
   "cell_type": "code",
   "execution_count": null,
   "metadata": {},
   "outputs": [],
   "source": [
    "QUEUE_LENGTH=20\n",
    "q=tf.FIFOQueue(QUEUE_LENGTH,'float') # tf.FIFOQueue( ) --> 큐를 생성하는 함수"
   ]
  },
  {
   "cell_type": "code",
   "execution_count": null,
   "metadata": {},
   "outputs": [],
   "source": [
    "enq_ops = q.enqueue_many(([1.0,2.0,3.0,4.0],))\n",
    "enq_ops1 = q.enqueue_many(([5.0,6.0,7.0,8.0],))\n",
    "enq_ops2 = q.enqueue_many(([9.0,10.0,11.0,12.0],))\n",
    "qr = tf.train.QueueRunner(q,[enq_ops,enq_ops1,enq_ops2]) # list 형식으로 데이터를 넘겨줘야한다. 3개의 스레드를 주었다"
   ]
  },
  {
   "cell_type": "code",
   "execution_count": 11,
   "metadata": {
    "collapsed": true
   },
   "outputs": [
    {
     "name": "stdout",
     "output_type": "stream",
     "text": [
      "1.0\n",
      "2.0\n",
      "3.0\n",
      "4.0\n",
      "1.0\n",
      "2.0\n",
      "3.0\n",
      "4.0\n",
      "9.0\n",
      "10.0\n",
      "11.0\n",
      "12.0\n",
      "1.0\n",
      "2.0\n",
      "3.0\n",
      "4.0\n",
      "5.0\n",
      "6.0\n",
      "7.0\n",
      "8.0\n"
     ]
    }
   ],
   "source": [
    "sess=tf.Session()\n",
    "coord=tf.train.Coordinator() # 스레드 작업을 중간에서 조율하는 역할\n",
    "threads = qr.create_threads(sess,coord=coord,start=True) # \n",
    "\n",
    "for step in range(20):\n",
    "    print(sess.run((q.dequeue())))\n",
    "    \n",
    "coord.request_stop()\n",
    "coord.join(threads)"
   ]
  },
  {
   "cell_type": "markdown",
   "metadata": {},
   "source": [
    "## 파일에서 데이터 읽기 작업 순서"
   ]
  },
  {
   "cell_type": "code",
   "execution_count": null,
   "metadata": {},
   "outputs": [],
   "source": [
    "1. 파일 목록 읽기\n",
    "2. 파일 목록을 파일이름큐에 저장\n",
    "3. reader가 파일이름큐에서 파일을 하나씩 읽어온다 \n",
    "4. decoder는 파일에 있는 데이터를 읽어들인다\n",
    "5. 데이터 정제(전처리 작업)\n",
    "6. 정제된 데이터를 example queue에 저장 (실제 학습시키고자 하는 데이터가 examplequeue에 저장)\n",
    "7. 학습"
   ]
  },
  {
   "cell_type": "code",
   "execution_count": 15,
   "metadata": {},
   "outputs": [],
   "source": [
    "queue=tf.train.string_input_producer(['q_1.txt','q_2.txt','q_3.txt'],shuffle=True) # q_1,q_2,q_3가 각각 큐가 된다\n",
    "coord=tf.train.Coordinator()"
   ]
  },
  {
   "cell_type": "code",
   "execution_count": null,
   "metadata": {},
   "outputs": [],
   "source": [
    "reader=tf.TextLineReader()\n",
    "key,value=reader.read(queue=queue) # key값은 , value값은 데이터\n",
    "print(sess.run(key))\n",
    "print(sess.run(value))"
   ]
  },
  {
   "cell_type": "code",
   "execution_count": null,
   "metadata": {},
   "outputs": [],
   "source": [
    "for i in range(100):\n",
    "    speed,distance = tf.decode_csv(value,record_defaults=[[0],[0]]) # 결측치에 대해서는 0,0으로 처리하겠다\n",
    "    print(sess.run(speed,distance))\n",
    "coord.request_stop()\n",
    "coord.join(threads)"
   ]
  },
  {
   "cell_type": "code",
   "execution_count": null,
   "metadata": {},
   "outputs": [],
   "source": []
  },
  {
   "cell_type": "code",
   "execution_count": null,
   "metadata": {},
   "outputs": [],
   "source": []
  },
  {
   "cell_type": "code",
   "execution_count": null,
   "metadata": {},
   "outputs": [],
   "source": []
  },
  {
   "cell_type": "code",
   "execution_count": null,
   "metadata": {},
   "outputs": [],
   "source": []
  },
  {
   "cell_type": "code",
   "execution_count": null,
   "metadata": {},
   "outputs": [],
   "source": []
  },
  {
   "cell_type": "code",
   "execution_count": null,
   "metadata": {},
   "outputs": [],
   "source": []
  },
  {
   "cell_type": "code",
   "execution_count": null,
   "metadata": {},
   "outputs": [],
   "source": []
  }
 ],
 "metadata": {
  "kernelspec": {
   "display_name": "Python 3",
   "language": "python",
   "name": "python3"
  },
  "language_info": {
   "codemirror_mode": {
    "name": "ipython",
    "version": 3
   },
   "file_extension": ".py",
   "mimetype": "text/x-python",
   "name": "python",
   "nbconvert_exporter": "python",
   "pygments_lexer": "ipython3",
   "version": "3.7.3"
  }
 },
 "nbformat": 4,
 "nbformat_minor": 2
}
