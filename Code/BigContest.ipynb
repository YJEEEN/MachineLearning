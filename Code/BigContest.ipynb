{
 "cells": [
  {
   "cell_type": "code",
   "execution_count": 1,
   "metadata": {},
   "outputs": [],
   "source": [
    "import pandas as pd\n",
    "import numpy as np\n"
   ]
  },
  {
   "cell_type": "code",
   "execution_count": 12,
   "metadata": {},
   "outputs": [
    {
     "name": "stdout",
     "output_type": "stream",
     "text": [
      "<class 'pandas.core.frame.DataFrame'>\n",
      "RangeIndex: 437760 entries, 0 to 437759\n",
      "Data columns (total 11 columns):\n",
      "tm             437760 non-null int64\n",
      "serial         437760 non-null object\n",
      "flag           437760 non-null int64\n",
      "pm10           437760 non-null int64\n",
      "co2            437760 non-null int64\n",
      "vocs           437760 non-null int64\n",
      "noise          437760 non-null int64\n",
      "temp           437760 non-null float64\n",
      "humi           437760 non-null int64\n",
      "pm25           417423 non-null float64\n",
      "Unnamed: 10    0 non-null float64\n",
      "dtypes: float64(3), int64(7), object(1)\n",
      "memory usage: 36.7+ MB\n"
     ]
    },
    {
     "data": {
      "text/plain": [
       " 1      417423\n",
       "-999     20337\n",
       "Name: flag, dtype: int64"
      ]
     },
     "execution_count": 12,
     "metadata": {},
     "output_type": "execute_result"
    }
   ],
   "source": [
    "env = pd.read_csv(\"/Users/user/Desktop/BigData/환경기상데이터/노원구/V10O1610102.csv\")\n",
    "env.describe()\n",
    "env.info()\n",
    "env['flag'].value_counts()\n",
    "# env.isnull().value_counts().sum()"
   ]
  },
  {
   "cell_type": "code",
   "execution_count": null,
   "metadata": {},
   "outputs": [],
   "source": []
  }
 ],
 "metadata": {
  "kernelspec": {
   "display_name": "Python 3",
   "language": "python",
   "name": "python3"
  },
  "language_info": {
   "codemirror_mode": {
    "name": "ipython",
    "version": 3
   },
   "file_extension": ".py",
   "mimetype": "text/x-python",
   "name": "python",
   "nbconvert_exporter": "python",
   "pygments_lexer": "ipython3",
   "version": "3.7.3"
  }
 },
 "nbformat": 4,
 "nbformat_minor": 2
}
