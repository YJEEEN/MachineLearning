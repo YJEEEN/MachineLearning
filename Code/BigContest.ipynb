{
 "cells": [
  {
   "cell_type": "code",
   "execution_count": 3,
   "metadata": {},
   "outputs": [],
   "source": [
    "import pandas as pd\n",
    "import numpy as np\n",
    "import glob"
   ]
  },
  {
   "cell_type": "code",
   "execution_count": 13,
   "metadata": {},
   "outputs": [
    {
     "name": "stdout",
     "output_type": "stream",
     "text": [
      "['/Users/user/Desktop/BigData/환경기상데이터/종로구\\\\V01o1610468.csv', '/Users/user/Desktop/BigData/환경기상데이터/종로구\\\\V10O1610252.csv', '/Users/user/Desktop/BigData/환경기상데이터/종로구\\\\V10O1610540.csv', '/Users/user/Desktop/BigData/환경기상데이터/종로구\\\\V10O1610542.csv', '/Users/user/Desktop/BigData/환경기상데이터/종로구\\\\V10O1610543.csv', '/Users/user/Desktop/BigData/환경기상데이터/종로구\\\\V10O1610544.csv', '/Users/user/Desktop/BigData/환경기상데이터/종로구\\\\V10O1610545.csv', '/Users/user/Desktop/BigData/환경기상데이터/종로구\\\\V10O1610546.csv', '/Users/user/Desktop/BigData/환경기상데이터/종로구\\\\V10O1610567.csv', '/Users/user/Desktop/BigData/환경기상데이터/종로구\\\\V10O1611145.csv', '/Users/user/Desktop/BigData/환경기상데이터/종로구\\\\V10O1611151.csv', '/Users/user/Desktop/BigData/환경기상데이터/종로구\\\\V10O1611170.csv', '/Users/user/Desktop/BigData/환경기상데이터/종로구\\\\V10O1611172.csv', '/Users/user/Desktop/BigData/환경기상데이터/종로구\\\\V10O1611173.csv', '/Users/user/Desktop/BigData/환경기상데이터/종로구\\\\V10O1611220.csv', '/Users/user/Desktop/BigData/환경기상데이터/종로구\\\\V10O1611251.csv', '/Users/user/Desktop/BigData/환경기상데이터/종로구\\\\V10O1611255.csv', '/Users/user/Desktop/BigData/환경기상데이터/종로구\\\\V10O1611258.csv', '/Users/user/Desktop/BigData/환경기상데이터/종로구\\\\V10O1611289.csv', '/Users/user/Desktop/BigData/환경기상데이터/종로구\\\\V10O1611623.csv', '/Users/user/Desktop/BigData/환경기상데이터/종로구\\\\V10O1611634.csv', '/Users/user/Desktop/BigData/환경기상데이터/종로구\\\\V10O1611639.csv', '/Users/user/Desktop/BigData/환경기상데이터/종로구\\\\V10O1611645.csv', '/Users/user/Desktop/BigData/환경기상데이터/종로구\\\\V10O1611658.csv', '/Users/user/Desktop/BigData/환경기상데이터/종로구\\\\V10O1611684.csv', '/Users/user/Desktop/BigData/환경기상데이터/종로구\\\\V10O1611698.csv', '/Users/user/Desktop/BigData/환경기상데이터/종로구\\\\V10O1611722.csv', '/Users/user/Desktop/BigData/환경기상데이터/종로구\\\\V10O1611750.csv', '/Users/user/Desktop/BigData/환경기상데이터/종로구\\\\V10O1611887.csv', '/Users/user/Desktop/BigData/환경기상데이터/종로구\\\\V10O1612106.csv', '/Users/user/Desktop/BigData/환경기상데이터/종로구\\\\V10O1612113.csv']\n"
     ]
    }
   ],
   "source": [
    "path = \"/Users/user/Desktop/BigData/환경기상데이터/종로구\"\n",
    "all_filenames = glob.glob(path+\"/*.csv\") #[i for i in glob.glob('*.{}'.format(extension))] \n",
    "# print(all_filenames)\n",
    "# len(all_filenames)\n",
    "\n",
    "dfs = [] # 종로구 31개 지점의 파일명 저장\n",
    "for filename in all_filenames:\n",
    "    dfs.append(pd.read_csv(filename))\n",
    "    \n",
    "big_frame = pd.concat(dfs) # 모든 csv파일 concat"
   ]
  },
  {
   "cell_type": "code",
   "execution_count": 19,
   "metadata": {
    "scrolled": true
   },
   "outputs": [
    {
     "name": "stdout",
     "output_type": "stream",
     "text": [
      "<class 'pandas.core.frame.DataFrame'>\n",
      "Int64Index: 14610240 entries, 0 to 525599\n",
      "Data columns (total 11 columns):\n",
      "tm             int64\n",
      "serial         object\n",
      "flag           int64\n",
      "pm10           int64\n",
      "co2            int64\n",
      "vocs           int64\n",
      "noise          int64\n",
      "temp           float64\n",
      "humi           int64\n",
      "pm25           float64\n",
      "Unnamed: 10    float64\n",
      "dtypes: float64(3), int64(7), object(1)\n",
      "memory usage: 1.3+ GB\n"
     ]
    }
   ],
   "source": [
    "big_frame # 2018.04 ~ 2019.03까지 1년치 데이터 \n",
    "big_frame.shape #(14610240, 11)\n",
    "big_frame.info() #"
   ]
  },
  {
   "cell_type": "code",
   "execution_count": null,
   "metadata": {},
   "outputs": [],
   "source": []
  }
 ],
 "metadata": {
  "kernelspec": {
   "display_name": "Python 3",
   "language": "python",
   "name": "python3"
  },
  "language_info": {
   "codemirror_mode": {
    "name": "ipython",
    "version": 3
   },
   "file_extension": ".py",
   "mimetype": "text/x-python",
   "name": "python",
   "nbconvert_exporter": "python",
   "pygments_lexer": "ipython3",
   "version": "3.7.3"
  }
 },
 "nbformat": 4,
 "nbformat_minor": 2
}
