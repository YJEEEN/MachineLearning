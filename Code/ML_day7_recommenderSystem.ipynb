{
 "cells": [
  {
   "cell_type": "code",
   "execution_count": 1,
   "metadata": {},
   "outputs": [],
   "source": [
    "import pandas as pd\n",
    "import numpy as np\n"
   ]
  },
  {
   "cell_type": "code",
   "execution_count": 3,
   "metadata": {},
   "outputs": [
    {
     "data": {
      "text/plain": [
       "2.23606797749979"
      ]
     },
     "execution_count": 3,
     "metadata": {},
     "output_type": "execute_result"
    }
   ],
   "source": [
    "x=np.array([2,1])\n",
    "np.linalg.norm(x)"
   ]
  },
  {
   "cell_type": "code",
   "execution_count": 4,
   "metadata": {},
   "outputs": [
    {
     "data": {
      "text/plain": [
       "0"
      ]
     },
     "execution_count": 4,
     "metadata": {},
     "output_type": "execute_result"
    }
   ],
   "source": [
    "a=np.array([-1,1])\n",
    "b=np.array([1,1])\n",
    "a@b"
   ]
  },
  {
   "cell_type": "markdown",
   "metadata": {},
   "source": [
    "# CF 기반 추천 시스템\n",
    "* CF : 유사도 기반의 평점 예측, 영화 추천, 음악 추천 등에 활용된다\n",
    "* CF 종류\n",
    "\n",
    "  1)사용자 기반 \n",
    "  \n",
    "  2)아이템 기반(하이브리드) : 사용자에 대한 정보가 부족하거나 여러 트랜젝션에서 중복 아이템이 적은 경우 적합하다\n",
    "  \n",
    "  ex) 홍길동(트랜젝션) : A, B 음악 / 임꺽정 : C, D 음악 ---> 홍길동에게 음악 추천? 중복되는 음악이 없어서 추천하기 어렵다\n",
    "                                                        ---> 중복되는 아이템이 적은 경우, 사용자 정보를 분석하여 \n",
    "                                                             비슷한 사용자가 듣는 음악을 추천한다"
   ]
  },
  {
   "cell_type": "code",
   "execution_count": 5,
   "metadata": {},
   "outputs": [],
   "source": [
    "critics={\n",
    "    'BTS':{'암수살인':5, '바울':4, '할로윈':1.5},\n",
    "    '손흥민':{'바울':5, '할로윈':2},\n",
    "    '조용필':{'암수살인':2.5, '바울':2, '할로윈':1},\n",
    "    '나훈아':{'암수살인':3.5, '바울':4, '할로윈':5}\n",
    "}"
   ]
  },
  {
   "cell_type": "code",
   "execution_count": null,
   "metadata": {},
   "outputs": [],
   "source": [
    "'''\n",
    "평점 기반으로 가장 비슷한 사람은 누구일까?\n",
    "손흥민과 가장 비슷한 사람은?\n",
    "\n",
    "영화를 차원으로 생각하면, \n",
    "손흥민 2차원 데이터/ BTS 3차원 데이터간의 '평점'을 비교함으로써 유클리디안 디스턴스를 구한다\n",
    "'''"
   ]
  },
  {
   "cell_type": "code",
   "execution_count": 6,
   "metadata": {},
   "outputs": [
    {
     "data": {
      "text/plain": [
       "{'BTS': {'암수살인': 5, '바울': 4, '할로윈': 1.5},\n",
       " '손흥민': {'바울': 5, '할로윈': 2},\n",
       " '조용필': {'암수살인': 2.5, '바울': 2, '할로윈': 1},\n",
       " '나훈아': {'암수살인': 3.5, '바울': 4, '할로윈': 5}}"
      ]
     },
     "execution_count": 6,
     "metadata": {},
     "output_type": "execute_result"
    }
   ],
   "source": [
    "critics"
   ]
  },
  {
   "cell_type": "code",
   "execution_count": 10,
   "metadata": {},
   "outputs": [
    {
     "name": "stdout",
     "output_type": "stream",
     "text": [
      "{'암수살인': 5, '바울': 4, '할로윈': 1.5}\n",
      "{'암수살인': 5, '바울': 4, '할로윈': 1.5}\n"
     ]
    }
   ],
   "source": [
    "### critics.get('BTS')와 critics['BTS']의 차이??\n",
    "print(critics.get('BTS2')) # None\n",
    "print(critics['BTS2']) # 에러"
   ]
  },
  {
   "cell_type": "markdown",
   "metadata": {},
   "source": [
    "#### 피타고라스의 정리(2차원)"
   ]
  },
  {
   "cell_type": "code",
   "execution_count": 11,
   "metadata": {},
   "outputs": [
    {
     "data": {
      "text/plain": [
       "3.1622776601683795"
      ]
     },
     "execution_count": 11,
     "metadata": {},
     "output_type": "execute_result"
    }
   ],
   "source": [
    "from math import sqrt\n",
    "sqrt(pow(1,2)+pow(3,2)) # pow: 제곱 sqrt:제곱근"
   ]
  },
  {
   "cell_type": "code",
   "execution_count": 13,
   "metadata": {},
   "outputs": [],
   "source": [
    "# 유사도를 구해주는 함수\n",
    "def sim(i,j): \n",
    "    return sqrt(pow(i,2)+pow(j,2))"
   ]
  },
  {
   "cell_type": "code",
   "execution_count": 14,
   "metadata": {},
   "outputs": [
    {
     "data": {
      "text/plain": [
       "3.1622776601683795"
      ]
     },
     "execution_count": 14,
     "metadata": {},
     "output_type": "execute_result"
    }
   ],
   "source": [
    "var1 = critics['손흥민']['바울']-critics['조용필']['바울'] # 바울이란 영화에 대한 두 사람의 평점 차이\n",
    "var2 = critics['손흥민']['할로윈']-critics['조용필']['할로윈'] \n",
    "sim(var1, var2)"
   ]
  },
  {
   "cell_type": "code",
   "execution_count": 21,
   "metadata": {},
   "outputs": [
    {
     "name": "stdout",
     "output_type": "stream",
     "text": [
      "BTS : 0.4721359549995794\n",
      "조용필 : 0.2402530733520421\n",
      "나훈아 : 0.2402530733520421\n"
     ]
    }
   ],
   "source": [
    "# 손흥민을 대상으로 다른 사람들과의 유사도\n",
    "for i in critics: # i에는 critics의 key값이 하나씩 들어간다\n",
    "    if i != '손흥민':\n",
    "        var1 = critics['손흥민']['바울']-critics[i]['바울'] # 바울이란 영화에 대한 두 사람의 평점 차이\n",
    "        var2 = critics['손흥민']['할로윈']-critics[i]['할로윈'] \n",
    "#         print(i ,\":\", sim(var1, var2))\n",
    "        print(i ,\":\", 1/(1+sim(var1, var2))) # 정규화 해준다 --> 1에 가까울수록 유사하다\n",
    "        \n",
    "        \n",
    "# 이렇게 구현했을 경우, \n",
    "# 특정 영화에 대한 평점에 의해 거리 차이가 심해질 수 있다.\n",
    "# ex) 손흥민 BTS 9편은 동일한 평점을 주고, 1편의 영화만 0점/ 100점으로 극명하게 점수에 차이를 줬다면,\n",
    "#     하나의 영화로 인해 거리가 10이 되어버린다."
   ]
  },
  {
   "cell_type": "code",
   "execution_count": 27,
   "metadata": {
    "collapsed": true
   },
   "outputs": [
    {
     "ename": "TypeError",
     "evalue": "sim() missing 1 required positional argument: 'j'",
     "output_type": "error",
     "traceback": [
      "\u001b[1;31m---------------------------------------------------------------------------\u001b[0m",
      "\u001b[1;31mTypeError\u001b[0m                                 Traceback (most recent call last)",
      "\u001b[1;32m<ipython-input-27-c2a2fbee379f>\u001b[0m in \u001b[0;36m<module>\u001b[1;34m\u001b[0m\n\u001b[0;32m      9\u001b[0m \u001b[1;33m\u001b[0m\u001b[0m\n\u001b[0;32m     10\u001b[0m \u001b[1;33m\u001b[0m\u001b[0m\n\u001b[1;32m---> 11\u001b[1;33m \u001b[0msim_dist\u001b[0m\u001b[1;33m(\u001b[0m\u001b[0mcritics\u001b[0m\u001b[1;33m,\u001b[0m \u001b[1;34m'손흥민'\u001b[0m\u001b[1;33m,\u001b[0m\u001b[1;34m'BTS'\u001b[0m\u001b[1;33m)\u001b[0m\u001b[1;33m\u001b[0m\u001b[1;33m\u001b[0m\u001b[0m\n\u001b[0m",
      "\u001b[1;32m<ipython-input-27-c2a2fbee379f>\u001b[0m in \u001b[0;36msim_dist\u001b[1;34m(a, b, c)\u001b[0m\n\u001b[0;32m      6\u001b[0m             \u001b[0mrsum\u001b[0m \u001b[1;33m+=\u001b[0m \u001b[0mpow\u001b[0m\u001b[1;33m(\u001b[0m\u001b[0ma\u001b[0m\u001b[1;33m[\u001b[0m\u001b[0mb\u001b[0m\u001b[1;33m]\u001b[0m\u001b[1;33m[\u001b[0m\u001b[0mi\u001b[0m\u001b[1;33m]\u001b[0m\u001b[1;33m-\u001b[0m\u001b[0ma\u001b[0m\u001b[1;33m[\u001b[0m\u001b[0mc\u001b[0m\u001b[1;33m]\u001b[0m\u001b[1;33m[\u001b[0m\u001b[0mi\u001b[0m\u001b[1;33m]\u001b[0m\u001b[1;33m,\u001b[0m\u001b[1;36m2\u001b[0m\u001b[1;33m)\u001b[0m\u001b[1;33m\u001b[0m\u001b[1;33m\u001b[0m\u001b[0m\n\u001b[0;32m      7\u001b[0m \u001b[1;31m#             var1 = critics[b][a] -critics[c][a]\u001b[0m\u001b[1;33m\u001b[0m\u001b[1;33m\u001b[0m\u001b[1;33m\u001b[0m\u001b[0m\n\u001b[1;32m----> 8\u001b[1;33m     \u001b[1;32mreturn\u001b[0m \u001b[1;33m(\u001b[0m\u001b[1;36m1\u001b[0m\u001b[1;33m+\u001b[0m\u001b[0msim\u001b[0m\u001b[1;33m(\u001b[0m\u001b[0msqrt\u001b[0m\u001b[1;33m(\u001b[0m\u001b[0mrsum\u001b[0m\u001b[1;33m)\u001b[0m\u001b[1;33m)\u001b[0m\u001b[1;33m)\u001b[0m\u001b[1;33m\u001b[0m\u001b[1;33m\u001b[0m\u001b[0m\n\u001b[0m\u001b[0;32m      9\u001b[0m \u001b[1;33m\u001b[0m\u001b[0m\n\u001b[0;32m     10\u001b[0m \u001b[1;33m\u001b[0m\u001b[0m\n",
      "\u001b[1;31mTypeError\u001b[0m: sim() missing 1 required positional argument: 'j'"
     ]
    }
   ],
   "source": [
    "# 유클리디안 기반 거리(같은 영화에 대해서만 계산이 수행되어야 함)\n",
    "def sim_dist(a,b,c): # a영화 b,c가 사용자\n",
    "    rsum=0 # 두 사용자의 영화에 대한 평점의 총 합\n",
    "    for i in a[b]: # i에는 b가 본 a영화가 들어간다\n",
    "        if i in a[c]: # c가 본 a영화에 i가 있다면\n",
    "            rsum += pow(a[b][i]-a[c][i],2)\n",
    "#             var1 = critics[b][a] -critics[c][a]\n",
    "    return (1+sim(sqrt(rsum)))\n",
    "\n",
    "\n",
    "sim_dist(critics, '손흥민','BTS')"
   ]
  },
  {
   "cell_type": "code",
   "execution_count": 25,
   "metadata": {
    "collapsed": true
   },
   "outputs": [
    {
     "ename": "TypeError",
     "evalue": "sim() missing 1 required positional argument: 'j'",
     "output_type": "error",
     "traceback": [
      "\u001b[1;31m---------------------------------------------------------------------------\u001b[0m",
      "\u001b[1;31mTypeError\u001b[0m                                 Traceback (most recent call last)",
      "\u001b[1;32m<ipython-input-25-4f5dcf258be2>\u001b[0m in \u001b[0;36m<module>\u001b[1;34m\u001b[0m\n\u001b[0;32m     25\u001b[0m \u001b[1;33m\u001b[0m\u001b[0m\n\u001b[0;32m     26\u001b[0m \u001b[1;33m\u001b[0m\u001b[0m\n\u001b[1;32m---> 27\u001b[1;33m \u001b[0mtop_match\u001b[0m\u001b[1;33m(\u001b[0m\u001b[0mcritics\u001b[0m\u001b[1;33m,\u001b[0m \u001b[1;34m'손흥민'\u001b[0m\u001b[1;33m)\u001b[0m\u001b[1;33m\u001b[0m\u001b[1;33m\u001b[0m\u001b[0m\n\u001b[0m\u001b[0;32m     28\u001b[0m \u001b[1;33m\u001b[0m\u001b[0m\n\u001b[0;32m     29\u001b[0m \u001b[1;31m# 유사도,이름 형태로 출력\u001b[0m\u001b[1;33m\u001b[0m\u001b[1;33m\u001b[0m\u001b[1;33m\u001b[0m\u001b[0m\n",
      "\u001b[1;32m<ipython-input-25-4f5dcf258be2>\u001b[0m in \u001b[0;36mtop_match\u001b[1;34m(data, name, n, sim_f)\u001b[0m\n\u001b[0;32m     15\u001b[0m     \u001b[1;32mfor\u001b[0m \u001b[0mi\u001b[0m \u001b[1;32min\u001b[0m \u001b[0mdata\u001b[0m\u001b[1;33m:\u001b[0m\u001b[1;33m\u001b[0m\u001b[1;33m\u001b[0m\u001b[0m\n\u001b[0;32m     16\u001b[0m         \u001b[1;32mif\u001b[0m \u001b[0mname\u001b[0m \u001b[1;33m!=\u001b[0m \u001b[0mi\u001b[0m\u001b[1;33m:\u001b[0m\u001b[1;33m\u001b[0m\u001b[1;33m\u001b[0m\u001b[0m\n\u001b[1;32m---> 17\u001b[1;33m             \u001b[0mmyList\u001b[0m\u001b[1;33m.\u001b[0m\u001b[0mappend\u001b[0m\u001b[1;33m(\u001b[0m\u001b[1;33m(\u001b[0m\u001b[0msim_f\u001b[0m\u001b[1;33m(\u001b[0m\u001b[0mdata\u001b[0m\u001b[1;33m,\u001b[0m\u001b[0mname\u001b[0m\u001b[1;33m,\u001b[0m\u001b[0mi\u001b[0m\u001b[1;33m)\u001b[0m\u001b[1;33m,\u001b[0m\u001b[0mi\u001b[0m\u001b[1;33m)\u001b[0m\u001b[1;33m)\u001b[0m\u001b[1;33m\u001b[0m\u001b[1;33m\u001b[0m\u001b[0m\n\u001b[0m\u001b[0;32m     18\u001b[0m \u001b[1;31m#             val = sim_f(data[i], name, i)\u001b[0m\u001b[1;33m\u001b[0m\u001b[1;33m\u001b[0m\u001b[1;33m\u001b[0m\u001b[0m\n\u001b[0;32m     19\u001b[0m \u001b[1;31m#             print(val)\u001b[0m\u001b[1;33m\u001b[0m\u001b[1;33m\u001b[0m\u001b[1;33m\u001b[0m\u001b[0m\n",
      "\u001b[1;32m<ipython-input-25-4f5dcf258be2>\u001b[0m in \u001b[0;36msim_dist\u001b[1;34m(a, b, c)\u001b[0m\n\u001b[0;32m      7\u001b[0m             \u001b[0mrsum\u001b[0m \u001b[1;33m+=\u001b[0m \u001b[0mpow\u001b[0m\u001b[1;33m(\u001b[0m\u001b[0ma\u001b[0m\u001b[1;33m[\u001b[0m\u001b[0mb\u001b[0m\u001b[1;33m]\u001b[0m\u001b[1;33m[\u001b[0m\u001b[0mi\u001b[0m\u001b[1;33m]\u001b[0m\u001b[1;33m-\u001b[0m\u001b[0ma\u001b[0m\u001b[1;33m[\u001b[0m\u001b[0mc\u001b[0m\u001b[1;33m]\u001b[0m\u001b[1;33m[\u001b[0m\u001b[0mi\u001b[0m\u001b[1;33m]\u001b[0m\u001b[1;33m,\u001b[0m\u001b[1;36m2\u001b[0m\u001b[1;33m)\u001b[0m\u001b[1;33m\u001b[0m\u001b[1;33m\u001b[0m\u001b[0m\n\u001b[0;32m      8\u001b[0m \u001b[1;31m#             var1 = critics[b][a] -critics[c][a]\u001b[0m\u001b[1;33m\u001b[0m\u001b[1;33m\u001b[0m\u001b[1;33m\u001b[0m\u001b[0m\n\u001b[1;32m----> 9\u001b[1;33m     \u001b[1;32mreturn\u001b[0m \u001b[1;33m(\u001b[0m\u001b[1;36m1\u001b[0m\u001b[1;33m+\u001b[0m\u001b[0msim\u001b[0m\u001b[1;33m(\u001b[0m\u001b[0msqrt\u001b[0m\u001b[1;33m(\u001b[0m\u001b[0mrsum\u001b[0m\u001b[1;33m)\u001b[0m\u001b[1;33m)\u001b[0m\u001b[1;33m)\u001b[0m\u001b[1;33m\u001b[0m\u001b[1;33m\u001b[0m\u001b[0m\n\u001b[0m\u001b[0;32m     10\u001b[0m \u001b[1;33m\u001b[0m\u001b[0m\n\u001b[0;32m     11\u001b[0m \u001b[1;33m\u001b[0m\u001b[0m\n",
      "\u001b[1;31mTypeError\u001b[0m: sim() missing 1 required positional argument: 'j'"
     ]
    }
   ],
   "source": [
    "# 인원에 상관없이 \n",
    "# 정렬하여 가장 유사한 상위 n명을 추출하는 기능 (평점을 가장 유사하게 준 n명)\n",
    "\n",
    "# top_match(영화평점딕셔너리, 기준이 되는 사람, 상위n명, 적용 함수) 형태로 구현\n",
    "def top_match(data, name, n=2, sim_f=sim_dist): # n=2은 기본 2명을 반환하겠다는 말이다 #sim_f란 이름으로 sim_dist란 함수를 쓰겠다\n",
    "    myList=[] # 상위 n명을 저장하는 빈 리스트 \n",
    "    for i in data:\n",
    "        if name != i:\n",
    "            myList.append((sim_f(data,name,i),i))\n",
    "#             val = sim_f(data[i], name, i)\n",
    "#             print(val)\n",
    "#             val.sort(ascending=False)\n",
    "        myList.sort()\n",
    "        myList.reverse()\n",
    "        return myList[:n]\n",
    "#     return print(val,i)\n",
    "    \n",
    "top_match(critics, '손흥민')\n",
    "\n",
    "# 유사도,이름 형태로 출력"
   ]
  },
  {
   "cell_type": "code",
   "execution_count": 33,
   "metadata": {},
   "outputs": [],
   "source": [
    "critics = {\n",
    "    '조용필': {\n",
    "        '택시운전사': 2.5,\n",
    "        '겨울왕국': 3.5,\n",
    "        '리빙라스베가스': 3.0,\n",
    "        '넘버3': 3.5,\n",
    "        '사랑과전쟁': 2.5,\n",
    "        '세계대전': 3.0,\n",
    "    },\n",
    "    'BTS': {\n",
    "        '택시운전사': 1.0,\n",
    "        '겨울왕국': 4.5,\n",
    "        '리빙라스베가스': 0.5,\n",
    "        '넘버3': 1.5,\n",
    "        '사랑과전쟁': 4.5,\n",
    "        '세계대전': 5.0,\n",
    "    },\n",
    "    '강감찬': {\n",
    "        '택시운전사': 3.0,\n",
    "        '겨울왕국': 3.5,\n",
    "        '리빙라스베가스': 1.5,\n",
    "        '넘버3': 5.0,\n",
    "        '세계대전': 3.0,\n",
    "        '사랑과전쟁': 3.5,\n",
    "    },\n",
    "    '을지문덕': {\n",
    "        '택시운전사': 2.5,\n",
    "        '겨울왕국': 3.0,\n",
    "        '넘버3': 3.5,\n",
    "        '세계대전': 4.0,\n",
    "    },\n",
    "    '김유신': {\n",
    "        '겨울왕국': 3.5,\n",
    "        '리빙라스베가스': 3.0,\n",
    "        '세계대전': 4.5,\n",
    "        '넘버3': 4.0,\n",
    "        '사랑과전쟁': 2.5,\n",
    "    },\n",
    "    '유성룡': {\n",
    "        '택시운전사': 3.0,\n",
    "        '겨울왕국': 4.0,\n",
    "        '리빙라스베가스': 2.0,\n",
    "        '넘버3': 3.0,\n",
    "        '세계대전': 3.5,\n",
    "        '사랑과전쟁': 2.0,\n",
    "    },\n",
    "    '이황': {\n",
    "        '택시운전사': 3.0,\n",
    "        '겨울왕국': 4.0,\n",
    "        '세계대전': 3.0,\n",
    "        '넘버3': 5.0,\n",
    "        '사랑과전쟁': 3.5,\n",
    "    },\n",
    "    '이이': {'겨울왕국': 4.5, '사랑과전쟁': 1.0,\n",
    "             '넘버3': 4.0},\n",
    "}"
   ]
  },
  {
   "cell_type": "code",
   "execution_count": 56,
   "metadata": {},
   "outputs": [
    {
     "name": "stdout",
     "output_type": "stream",
     "text": [
      "{'조용필': {'택시운전사': 2.5, '겨울왕국': 3.5, '리빙라스베가스': 3.0, '넘버3': 3.5, '사랑과전쟁': 2.5, '세계대전': 3.0}, 'BTS': {'택시운전사': 1.0, '겨울왕국': 4.5, '리빙라스베가스': 0.5, '넘버3': 1.5, '사랑과전쟁': 4.5, '세계대전': 5.0}, '강감찬': {'택시운전사': 3.0, '겨울왕국': 3.5, '리빙라스베가스': 1.5, '넘버3': 5.0, '세계대전': 3.0, '사랑과전쟁': 3.5}, '을지문덕': {'택시운전사': 2.5, '겨울왕국': 3.0, '넘버3': 3.5, '세계대전': 4.0}, '김유신': {'겨울왕국': 3.5, '리빙라스베가스': 3.0, '세계대전': 4.5, '넘버3': 4.0, '사랑과전쟁': 2.5}, '유성룡': {'택시운전사': 3.0, '겨울왕국': 4.0, '리빙라스베가스': 2.0, '넘버3': 3.0, '세계대전': 3.5, '사랑과전쟁': 2.0}, '이황': {'택시운전사': 3.0, '겨울왕국': 4.0, '세계대전': 3.0, '넘버3': 5.0, '사랑과전쟁': 3.5}, '이이': {'겨울왕국': 4.5, '사랑과전쟁': 1.0, '넘버3': 4.0}}\n",
      "{'조용필': {'택시운전사': 2.5, '겨울왕국': 3.5, '리빙라스베가스': 3.0, '넘버3': 3.5, '사랑과전쟁': 2.5, '세계대전': 3.0}, 'BTS': {'택시운전사': 1.0, '겨울왕국': 4.5, '리빙라스베가스': 0.5, '넘버3': 1.5, '사랑과전쟁': 4.5, '세계대전': 5.0}, '강감찬': {'택시운전사': 3.0, '겨울왕국': 3.5, '리빙라스베가스': 1.5, '넘버3': 5.0, '세계대전': 3.0, '사랑과전쟁': 3.5}, '을지문덕': {'택시운전사': 2.5, '겨울왕국': 3.0, '넘버3': 3.5, '세계대전': 4.0}, '김유신': {'겨울왕국': 3.5, '리빙라스베가스': 3.0, '세계대전': 4.5, '넘버3': 4.0, '사랑과전쟁': 2.5}, '유성룡': {'택시운전사': 3.0, '겨울왕국': 4.0, '리빙라스베가스': 2.0, '넘버3': 3.0, '세계대전': 3.5, '사랑과전쟁': 2.0}, '이황': {'택시운전사': 3.0, '겨울왕국': 4.0, '세계대전': 3.0, '넘버3': 5.0, '사랑과전쟁': 3.5}, '이이': {'겨울왕국': 4.5, '사랑과전쟁': 1.0, '넘버3': 4.0}}\n",
      "{'조용필': {'택시운전사': 2.5, '겨울왕국': 3.5, '리빙라스베가스': 3.0, '넘버3': 3.5, '사랑과전쟁': 2.5, '세계대전': 3.0}, 'BTS': {'택시운전사': 1.0, '겨울왕국': 4.5, '리빙라스베가스': 0.5, '넘버3': 1.5, '사랑과전쟁': 4.5, '세계대전': 5.0}, '강감찬': {'택시운전사': 3.0, '겨울왕국': 3.5, '리빙라스베가스': 1.5, '넘버3': 5.0, '세계대전': 3.0, '사랑과전쟁': 3.5}, '을지문덕': {'택시운전사': 2.5, '겨울왕국': 3.0, '넘버3': 3.5, '세계대전': 4.0}, '김유신': {'겨울왕국': 3.5, '리빙라스베가스': 3.0, '세계대전': 4.5, '넘버3': 4.0, '사랑과전쟁': 2.5}, '유성룡': {'택시운전사': 3.0, '겨울왕국': 4.0, '리빙라스베가스': 2.0, '넘버3': 3.0, '세계대전': 3.5, '사랑과전쟁': 2.0}, '이황': {'택시운전사': 3.0, '겨울왕국': 4.0, '세계대전': 3.0, '넘버3': 5.0, '사랑과전쟁': 3.5}, '이이': {'겨울왕국': 4.5, '사랑과전쟁': 1.0, '넘버3': 4.0}}\n",
      "{'조용필': {'택시운전사': 2.5, '겨울왕국': 3.5, '리빙라스베가스': 3.0, '넘버3': 3.5, '사랑과전쟁': 2.5, '세계대전': 3.0}, 'BTS': {'택시운전사': 1.0, '겨울왕국': 4.5, '리빙라스베가스': 0.5, '넘버3': 1.5, '사랑과전쟁': 4.5, '세계대전': 5.0}, '강감찬': {'택시운전사': 3.0, '겨울왕국': 3.5, '리빙라스베가스': 1.5, '넘버3': 5.0, '세계대전': 3.0, '사랑과전쟁': 3.5}, '을지문덕': {'택시운전사': 2.5, '겨울왕국': 3.0, '넘버3': 3.5, '세계대전': 4.0}, '김유신': {'겨울왕국': 3.5, '리빙라스베가스': 3.0, '세계대전': 4.5, '넘버3': 4.0, '사랑과전쟁': 2.5}, '유성룡': {'택시운전사': 3.0, '겨울왕국': 4.0, '리빙라스베가스': 2.0, '넘버3': 3.0, '세계대전': 3.5, '사랑과전쟁': 2.0}, '이황': {'택시운전사': 3.0, '겨울왕국': 4.0, '세계대전': 3.0, '넘버3': 5.0, '사랑과전쟁': 3.5}, '이이': {'겨울왕국': 4.5, '사랑과전쟁': 1.0, '넘버3': 4.0}}\n",
      "{'조용필': {'택시운전사': 2.5, '겨울왕국': 3.5, '리빙라스베가스': 3.0, '넘버3': 3.5, '사랑과전쟁': 2.5, '세계대전': 3.0}, 'BTS': {'택시운전사': 1.0, '겨울왕국': 4.5, '리빙라스베가스': 0.5, '넘버3': 1.5, '사랑과전쟁': 4.5, '세계대전': 5.0}, '강감찬': {'택시운전사': 3.0, '겨울왕국': 3.5, '리빙라스베가스': 1.5, '넘버3': 5.0, '세계대전': 3.0, '사랑과전쟁': 3.5}, '을지문덕': {'택시운전사': 2.5, '겨울왕국': 3.0, '넘버3': 3.5, '세계대전': 4.0}, '김유신': {'겨울왕국': 3.5, '리빙라스베가스': 3.0, '세계대전': 4.5, '넘버3': 4.0, '사랑과전쟁': 2.5}, '유성룡': {'택시운전사': 3.0, '겨울왕국': 4.0, '리빙라스베가스': 2.0, '넘버3': 3.0, '세계대전': 3.5, '사랑과전쟁': 2.0}, '이황': {'택시운전사': 3.0, '겨울왕국': 4.0, '세계대전': 3.0, '넘버3': 5.0, '사랑과전쟁': 3.5}, '이이': {'겨울왕국': 4.5, '사랑과전쟁': 1.0, '넘버3': 4.0}}\n",
      "{'조용필': {'택시운전사': 2.5, '겨울왕국': 3.5, '리빙라스베가스': 3.0, '넘버3': 3.5, '사랑과전쟁': 2.5, '세계대전': 3.0}, 'BTS': {'택시운전사': 1.0, '겨울왕국': 4.5, '리빙라스베가스': 0.5, '넘버3': 1.5, '사랑과전쟁': 4.5, '세계대전': 5.0}, '강감찬': {'택시운전사': 3.0, '겨울왕국': 3.5, '리빙라스베가스': 1.5, '넘버3': 5.0, '세계대전': 3.0, '사랑과전쟁': 3.5}, '을지문덕': {'택시운전사': 2.5, '겨울왕국': 3.0, '넘버3': 3.5, '세계대전': 4.0}, '김유신': {'겨울왕국': 3.5, '리빙라스베가스': 3.0, '세계대전': 4.5, '넘버3': 4.0, '사랑과전쟁': 2.5}, '유성룡': {'택시운전사': 3.0, '겨울왕국': 4.0, '리빙라스베가스': 2.0, '넘버3': 3.0, '세계대전': 3.5, '사랑과전쟁': 2.0}, '이황': {'택시운전사': 3.0, '겨울왕국': 4.0, '세계대전': 3.0, '넘버3': 5.0, '사랑과전쟁': 3.5}, '이이': {'겨울왕국': 4.5, '사랑과전쟁': 1.0, '넘버3': 4.0}}\n",
      "{'조용필': {'택시운전사': 2.5, '겨울왕국': 3.5, '리빙라스베가스': 3.0, '넘버3': 3.5, '사랑과전쟁': 2.5, '세계대전': 3.0}, 'BTS': {'택시운전사': 1.0, '겨울왕국': 4.5, '리빙라스베가스': 0.5, '넘버3': 1.5, '사랑과전쟁': 4.5, '세계대전': 5.0}, '강감찬': {'택시운전사': 3.0, '겨울왕국': 3.5, '리빙라스베가스': 1.5, '넘버3': 5.0, '세계대전': 3.0, '사랑과전쟁': 3.5}, '을지문덕': {'택시운전사': 2.5, '겨울왕국': 3.0, '넘버3': 3.5, '세계대전': 4.0}, '김유신': {'겨울왕국': 3.5, '리빙라스베가스': 3.0, '세계대전': 4.5, '넘버3': 4.0, '사랑과전쟁': 2.5}, '유성룡': {'택시운전사': 3.0, '겨울왕국': 4.0, '리빙라스베가스': 2.0, '넘버3': 3.0, '세계대전': 3.5, '사랑과전쟁': 2.0}, '이황': {'택시운전사': 3.0, '겨울왕국': 4.0, '세계대전': 3.0, '넘버3': 5.0, '사랑과전쟁': 3.5}, '이이': {'겨울왕국': 4.5, '사랑과전쟁': 1.0, '넘버3': 4.0}}\n",
      "{'조용필': {'택시운전사': 2.5, '겨울왕국': 3.5, '리빙라스베가스': 3.0, '넘버3': 3.5, '사랑과전쟁': 2.5, '세계대전': 3.0}, 'BTS': {'택시운전사': 1.0, '겨울왕국': 4.5, '리빙라스베가스': 0.5, '넘버3': 1.5, '사랑과전쟁': 4.5, '세계대전': 5.0}, '강감찬': {'택시운전사': 3.0, '겨울왕국': 3.5, '리빙라스베가스': 1.5, '넘버3': 5.0, '세계대전': 3.0, '사랑과전쟁': 3.5}, '을지문덕': {'택시운전사': 2.5, '겨울왕국': 3.0, '넘버3': 3.5, '세계대전': 4.0}, '김유신': {'겨울왕국': 3.5, '리빙라스베가스': 3.0, '세계대전': 4.5, '넘버3': 4.0, '사랑과전쟁': 2.5}, '유성룡': {'택시운전사': 3.0, '겨울왕국': 4.0, '리빙라스베가스': 2.0, '넘버3': 3.0, '세계대전': 3.5, '사랑과전쟁': 2.0}, '이황': {'택시운전사': 3.0, '겨울왕국': 4.0, '세계대전': 3.0, '넘버3': 5.0, '사랑과전쟁': 3.5}, '이이': {'겨울왕국': 4.5, '사랑과전쟁': 1.0, '넘버3': 4.0}}\n"
     ]
    }
   ],
   "source": [
    "for i in range(8):\n",
    "    print(critics)"
   ]
  },
  {
   "cell_type": "markdown",
   "metadata": {},
   "source": [
    "#### 한글 깨지지 않게 출력, 경고문 무시하는 코드"
   ]
  },
  {
   "cell_type": "code",
   "execution_count": 28,
   "metadata": {},
   "outputs": [],
   "source": [
    "import matplotlib\n",
    "from matplotlib import font_manager, rc\n",
    "import platform\n",
    "if platform.system()==\"Windows\":\n",
    "    font_name=font_manager.FontProperties(fname=\"c:/Windows/Fonts/malgun.ttf\").get_name()\n",
    "    rc('font', family=font_name)\n",
    "matplotlib.rcParams['axes.unicode_minus']=False\n",
    "\n",
    "import warnings\n",
    "warnings.filterwarnings(\"ignore\")"
   ]
  },
  {
   "cell_type": "code",
   "execution_count": 29,
   "metadata": {},
   "outputs": [],
   "source": [
    "import matplotlib.pylab as plt"
   ]
  },
  {
   "cell_type": "code",
   "execution_count": 32,
   "metadata": {},
   "outputs": [
    {
     "data": {
      "text/plain": [
       "[0, 5, 0, 5]"
      ]
     },
     "execution_count": 32,
     "metadata": {},
     "output_type": "execute_result"
    },
    {
     "data": {
      "image/png": "[encoded data removed]",
      "text/plain": [
       "<Figure size 1008x576 with 1 Axes>"
      ]
     },
     "metadata": {
      "needs_background": "light"
     },
     "output_type": "display_data"
    }
   ],
   "source": [
    "plt.figure(figsize=(14,8))\n",
    "plt.plot([1,2,3],[1,2,3],'g^') # 그린색상의 삼각형 도형 출력\n",
    "plt.text(1,1,'사과') # 1,1위치에 '사과'라는 텍스트 출력\n",
    "plt.axis([0,5,0,5])"
   ]
  },
  {
   "cell_type": "code",
   "execution_count": 35,
   "metadata": {},
   "outputs": [
    {
     "data": {
      "text/plain": [
       "{'택시운전사': 2.5, '겨울왕국': 3.0, '넘버3': 3.5, '세계대전': 4.0}"
      ]
     },
     "execution_count": 35,
     "metadata": {},
     "output_type": "execute_result"
    }
   ],
   "source": [
    "critics['을지문덕']#['넘버3']"
   ]
  },
  {
   "cell_type": "code",
   "execution_count": 38,
   "metadata": {},
   "outputs": [
    {
     "data": {
      "image/png": "[encoded data removed]",
      "text/plain": [
       "<Figure size 1008x576 with 1 Axes>"
      ]
     },
     "metadata": {
      "needs_background": "light"
     },
     "output_type": "display_data"
    }
   ],
   "source": [
    "# 시각화 시켜주는 함수\n",
    "def drawGraph(data,name1,name2):\n",
    "    li1=[]\n",
    "    li2=[]\n",
    "    plt.figure(figsize=(14,8))\n",
    "    for i in data[name1]:\n",
    "        if i in data[name2]:\n",
    "            li1.append(data[name1][i]) # data[name][i]는 영화 평점을 의미한다\n",
    "            li2.append(data[name2][i])\n",
    "            plt.text(data[name1][i],data[name2][i],i)\n",
    "    plt.plot(li1,li2,'ro')\n",
    " \n",
    "drawGraph(critics,'BTS','강감찬')"
   ]
  },
  {
   "cell_type": "code",
   "execution_count": 41,
   "metadata": {},
   "outputs": [],
   "source": [
    "def sim_pearson(data,name1,name2):\n",
    "    # 상관계수 계산\n",
    "    # 리턴\n",
    "    sumX=0 # X의 합\n",
    "    sumY=0 # Y의 합\n",
    "    sumPowX=0 # X 제곱의 합\n",
    "    sumPowY=0 # Y 제곱의 합\n",
    "    sumXY=0 # X*Y의 합\n",
    "    count=0 #영화 개수\n",
    "    \n",
    "    for i in data[name1]: # i = key\n",
    "        if i in data[name2]: # 같은 영화를 평가했을때만\n",
    "            sumX+=data[name1][i]\n",
    "            sumY+=data[name2][i]\n",
    "            sumPowX+=pow(data[name1][i],2)\n",
    "            sumPowY+=pow(data[name2][i],2)\n",
    "            sumXY+=data[name1][i]*data[name2][i]\n",
    "            count+=1\n",
    "    \n",
    "    return ( sumXY- ((sumX*sumY)/count) )/ sqrt( (sumPowX - (pow(sumX,2) / count)) * (sumPowY - (pow(sumY,2)/count)))\n"
   ]
  },
  {
   "cell_type": "code",
   "execution_count": 42,
   "metadata": {},
   "outputs": [
    {
     "name": "stdout",
     "output_type": "stream",
     "text": [
      "0.21693045781865616\n"
     ]
    }
   ],
   "source": [
    "print(sim_pearson(critics,'BTS','강감찬'))\n",
    "\n",
    "# 두 사람의 상관계수 출력\n",
    "# 'BTS'와 나머지 사람들간의 상관계수 출력\n",
    "# 전체에 대한 상관계수 "
   ]
  },
  {
   "cell_type": "code",
   "execution_count": 44,
   "metadata": {},
   "outputs": [],
   "source": [
    "def top_match(data, name, n=3, sim_f=sim_pearson): # n=2은 기본 2명을 반환하겠다는 말이다 #sim_f란 이름으로 sim_dist란 함수를 쓰겠다\n",
    "    myList=[] # 상위 n명을 저장하는 빈 리스트 \n",
    "    for i in data:\n",
    "        if name != i:\n",
    "            myList.append((sim_f(data,name,i),i))\n",
    "    myList.sort()\n",
    "    myList.reverse()\n",
    "    return myList[:n]"
   ]
  },
  {
   "cell_type": "code",
   "execution_count": 46,
   "metadata": {},
   "outputs": [
    {
     "data": {
      "text/plain": [
       "[(0.963795681875635, '이황'),\n",
       " (0.39605901719066977, '조용필'),\n",
       " (0.38124642583151164, '이이')]"
      ]
     },
     "execution_count": 46,
     "metadata": {},
     "output_type": "execute_result"
    }
   ],
   "source": [
    "top_match(critics,'강감찬',3)"
   ]
  },
  {
   "cell_type": "markdown",
   "metadata": {},
   "source": [
    "### Mission\n",
    "\n",
    "추천 시스템\n",
    "\n",
    "1) 예상 평점을 구해보자 (예상 점수: 유사도*(상대방의 평점))\n",
    "\n",
    "   ex) 강감찬이 안본 영화 중 'A'영화를 다른 사람들은 각각 4,3,2점 주었다면,\n",
    "   \n",
    "        유사도를 구해보니 각각 0.9,0.3,0.7로 나왔을 때,\n",
    "        \n",
    "        0.9점 *4점 ==> 3.6점 예상\n",
    "        \n",
    "        0.3점 *3점 ==> 0.9점 예상\n",
    "        \n",
    "        0.7점 *2점 ==> 1.4점 예상\n",
    "        \n",
    "       예상 점수 총합 = 5.9(예상 총합) / 1.9점(유사도 합)  --> 평균 약 3점 예상됨\n",
    "        \n",
    "        만약 A,B,C 영화 각각 3,2,4점으로 예상되었다면,\n",
    "        강감찬에게는 'C'영화를 추천한다"
   ]
  },
  {
   "cell_type": "code",
   "execution_count": null,
   "metadata": {},
   "outputs": [],
   "source": [
    "def sim_pearson(data,name1,name2):\n",
    "    # 상관계수 계산\n",
    "    # 리턴\n",
    "    sumX=0 # X의 합\n",
    "    sumY=0 # Y의 합\n",
    "    sumPowX=0 # X 제곱의 합\n",
    "    sumPowY=0 # Y 제곱의 합\n",
    "    sumXY=0 # X*Y의 합\n",
    "    count=0 #영화 개수\n",
    "    \n",
    "    for i in data[name1]: # i = key\n",
    "        if i in data[name2]: # 같은 영화를 평가했을때만\n",
    "            sumX+=data[name1][i]\n",
    "            sumY+=data[name2][i]\n",
    "            sumPowX+=pow(data[name1][i],2)\n",
    "            sumPowY+=pow(data[name2][i],2)\n",
    "            sumXY+=data[name1][i]*data[name2][i]\n",
    "            count+=1\n",
    "    \n",
    "    return ( sumXY- ((sumX*sumY)/count) )/ sqrt( (sumPowX - (pow(sumX,2) / count)) * (sumPowY - (pow(sumY,2)/count)))\n",
    "\n",
    "\n",
    "def exp_score(data,user1,user2):\n",
    "    expList = []\n",
    "    max_score=0\n",
    "    for i in data['user1']: # i : user1이 본 영화\n",
    "        if i != data['user2']: # i가 user2가 본 영화와 같지 않다면(못 본 영화라면)\n",
    "            #안 본 영화에 대한 평균 총점 구하기\n",
    "            sum_expScore = data['user2'][i] *(sim_pearson(i, user1,user2))\n",
    "            sum_simScore = sim_pearson(i, user1,user2)\n",
    "            avg_expScore = sum_expScore / sum_simScore\n",
    "            expList = avg_expScore\n",
    "    return expList.max()\n",
    "\n",
    "exp_score(critics,'이이')"
   ]
  },
  {
   "cell_type": "code",
   "execution_count": null,
   "metadata": {},
   "outputs": [],
   "source": []
  },
  {
   "cell_type": "code",
   "execution_count": null,
   "metadata": {},
   "outputs": [],
   "source": []
  },
  {
   "cell_type": "code",
   "execution_count": null,
   "metadata": {},
   "outputs": [],
   "source": []
  },
  {
   "cell_type": "code",
   "execution_count": null,
   "metadata": {},
   "outputs": [],
   "source": []
  },
  {
   "cell_type": "code",
   "execution_count": null,
   "metadata": {},
   "outputs": [],
   "source": []
  }
 ],
 "metadata": {
  "kernelspec": {
   "display_name": "Python 3",
   "language": "python",
   "name": "python3"
  },
  "language_info": {
   "codemirror_mode": {
    "name": "ipython",
    "version": 3
   },
   "file_extension": ".py",
   "mimetype": "text/x-python",
   "name": "python",
   "nbconvert_exporter": "python",
   "pygments_lexer": "ipython3",
   "version": "3.7.3"
  }
 },
 "nbformat": 4,
 "nbformat_minor": 2
}
