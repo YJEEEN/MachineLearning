{
 "cells": [
  {
   "cell_type": "code",
   "execution_count": 29,
   "metadata": {},
   "outputs": [],
   "source": [
    "import pandas as pd\n",
    "import numpy as np\n",
    "import urllib\n",
    "import urllib.request as req\n",
    "from urllib.request import urlopen\n",
    "from bs4 import BeautifulSoup"
   ]
  },
  {
   "cell_type": "code",
   "execution_count": 6,
   "metadata": {},
   "outputs": [],
   "source": [
    "# css 선택자 추출"
   ]
  },
  {
   "cell_type": "code",
   "execution_count": 14,
   "metadata": {},
   "outputs": [],
   "source": [
    "text = html=\"\"\"\n",
    "<ul id = \"books\">\n",
    "<li id=\"b1\">상실의 시대</li>\n",
    "<li id=\"b2\">데미안</li>\n",
    "<li id=\"b3\">이방인</li>\n",
    "<li id=\"b4\">태백산맥</li>\n",
    "<li id=\"b5\">어린왕자</li>\n",
    "</ul>\"\"\""
   ]
  },
  {
   "cell_type": "code",
   "execution_count": 15,
   "metadata": {},
   "outputs": [],
   "source": [
    "soup = BeautifulSoup(text,'html.parser')\n"
   ]
  },
  {
   "cell_type": "code",
   "execution_count": 16,
   "metadata": {},
   "outputs": [],
   "source": [
    "sel = lambda q:print(soup.select_one(q).string) \n",
    "# 함수 이름: sel, 함수 인자:q\n",
    "# sel함수를 호출할 때, 전달되는 인자(css선택자)로 부터 soup에 저장된 html문서에 해당하는 인자를 찾겠다\n",
    "# 람다함수에 전달되면 숲에서 찾아서 스트링으로 찾겠다"
   ]
  },
  {
   "cell_type": "code",
   "execution_count": 28,
   "metadata": {},
   "outputs": [
    {
     "name": "stdout",
     "output_type": "stream",
     "text": [
      "태백산맥\n",
      "태백산맥\n",
      "태백산맥\n",
      "태백산맥\n",
      "태백산맥\n",
      "태백산맥\n",
      "태백산맥\n",
      "태백산맥\n",
      "태백산맥\n"
     ]
    },
    {
     "data": {
      "text/plain": [
       "'태백산맥'"
      ]
     },
     "execution_count": 28,
     "metadata": {},
     "output_type": "execute_result"
    }
   ],
   "source": [
    "sel(\"#b4\")\n",
    "sel(\"li#b4\") \n",
    "sel(\"ul li#b4\")\n",
    "sel(\"ul > li#b4\")\n",
    "sel(\"#books #b4\")\n",
    "sel(\"#books > #b4\") # id 밑에 id 로도 접근이 가능하다\n",
    "sel(\"li[id='b4']\") # \"\"안에 들어갈 땐, ''로 묶어야한다\n",
    "sel(\"li:nth-child(4)\") # 4자리에 변수넣어서 for문 돌려도 됨\n",
    "sel(\"li:nth-of-type(4)\")\n",
    "soup.select(\"li\")[3].string\n",
    "soup.find_all(\"li\")[3].string"
   ]
  },
  {
   "cell_type": "code",
   "execution_count": null,
   "metadata": {},
   "outputs": [],
   "source": [
    "#question-summary-57067264 > div.summary > div.excerpt\n",
    "#question-summary-57067260 > div.summary > div.excerpt"
   ]
  },
  {
   "cell_type": "code",
   "execution_count": 44,
   "metadata": {
    "collapsed": true
   },
   "outputs": [
    {
     "name": "stdout",
     "output_type": "stream",
     "text": [
      "질문: Iconbitmap file not found\n",
      "========================================\n",
      "답변: http://stackoverflow.com//questions/57067509/iconbitmap-file-not-found\n",
      "질문: API Design: Python packages containing modules with the same name\n",
      "========================================\n",
      "답변: http://stackoverflow.com//questions/57067499/api-design-python-packages-containing-modules-with-the-same-name\n",
      "질문: How to compile a multiple python files into an android app\n",
      "========================================\n",
      "답변: http://stackoverflow.com//questions/57067493/how-to-compile-a-multiple-python-files-into-an-android-app\n",
      "질문: How to write double for loop code more pythonically\n",
      "========================================\n",
      "답변: http://stackoverflow.com//questions/57067461/how-to-write-double-for-loop-code-more-pythonically\n",
      "질문: Divide a region of space in several sub-regions\n",
      "========================================\n",
      "답변: http://stackoverflow.com//questions/57067447/divide-a-region-of-space-in-several-sub-regions\n",
      "질문: How to export an Excel file using Requests in Python\n",
      "========================================\n",
      "답변: http://stackoverflow.com//questions/57067414/how-to-export-an-excel-file-using-requests-in-python\n",
      "질문: Trouble locating element with selenium and determing ID\n",
      "========================================\n",
      "답변: http://stackoverflow.com//questions/57067406/trouble-locating-element-with-selenium-and-determing-id\n",
      "질문: How to define function to categorize value in new column using pandas data frame?\n",
      "========================================\n",
      "답변: http://stackoverflow.com//questions/57067360/how-to-define-function-to-categorize-value-in-new-column-using-pandas-data-frame\n",
      "질문: Pandas merge failing with “FutureWarning: elementwise comparison failed”\n",
      "========================================\n",
      "답변: http://stackoverflow.com//questions/57067333/pandas-merge-failing-with-futurewarning-elementwise-comparison-failed\n",
      "질문: Assigning a random letter when a server clocks in for work [on hold]\n",
      "========================================\n",
      "답변: http://stackoverflow.com//questions/57067316/assigning-a-random-letter-when-a-server-clocks-in-for-work\n",
      "질문: Filter a query set in Django based on aggregate of one of its fields for a foreign key?\n",
      "========================================\n",
      "답변: http://stackoverflow.com//questions/57067315/filter-a-query-set-in-django-based-on-aggregate-of-one-of-its-fields-for-a-forei\n",
      "질문: Taking average of second ele in tuple in list\n",
      "========================================\n",
      "답변: http://stackoverflow.com//questions/57067314/taking-average-of-second-ele-in-tuple-in-list\n",
      "질문: Calculate the sum between the fixed time range using Pandas\n",
      "========================================\n",
      "답변: http://stackoverflow.com//questions/57067311/calculate-the-sum-between-the-fixed-time-range-using-pandas\n",
      "질문: How do I get all combinations of a list's elements, according to a specific element(s)?\n",
      "========================================\n",
      "답변: http://stackoverflow.com//questions/57067264/how-do-i-get-all-combinations-of-a-lists-elements-according-to-a-specific-elem\n",
      "질문: receiving data from java program that calls python script is too slow\n",
      "========================================\n",
      "답변: http://stackoverflow.com//questions/57067260/receiving-data-from-java-program-that-calls-python-script-is-too-slow\n",
      "질문: Better way to create/append to a list value in a dictionary\n",
      "========================================\n",
      "답변: http://stackoverflow.com//questions/57067252/better-way-to-create-append-to-a-list-value-in-a-dictionary\n",
      "질문: in a keras / tensorflow based basic code I got an error says “Incompatible shapes: [128,30] vs. [128]”\n",
      "========================================\n",
      "답변: http://stackoverflow.com//questions/57067236/in-a-keras-tensorflow-based-basic-code-i-got-an-error-says-incompatible-shape\n",
      "질문: Findall regex pattern not finding all the text that is there?\n",
      "========================================\n",
      "답변: http://stackoverflow.com//questions/57067216/findall-regex-pattern-not-finding-all-the-text-that-is-there\n",
      "질문: How to set django HttpResponse content after create？\n",
      "========================================\n",
      "답변: http://stackoverflow.com//questions/57067206/how-to-set-django-httpresponse-content-after-create\n",
      "질문: How to put this data into this format\n",
      "========================================\n",
      "답변: http://stackoverflow.com//questions/57067205/how-to-put-this-data-into-this-format\n",
      "질문: given a Redis Broker and a db-backend, where do Celery Task requests first get written to?\n",
      "========================================\n",
      "답변: http://stackoverflow.com//questions/57067191/given-a-redis-broker-and-a-db-backend-where-do-celery-task-requests-first-get-w\n",
      "질문: How can I get the host IP using nmap with a for loop?\n",
      "========================================\n",
      "답변: http://stackoverflow.com//questions/57067189/how-can-i-get-the-host-ip-using-nmap-with-a-for-loop\n",
      "질문: Separate values in a pandas series and stack them all into a list?\n",
      "========================================\n",
      "답변: http://stackoverflow.com//questions/57067183/separate-values-in-a-pandas-series-and-stack-them-all-into-a-list\n",
      "질문: How to implement add sections of python code dynamically\n",
      "========================================\n",
      "답변: http://stackoverflow.com//questions/57067134/how-to-implement-add-sections-of-python-code-dynamically\n",
      "질문: Selenium-PythonBindings, Why does this script work in ATOM but not in TaskScheduler\n",
      "========================================\n",
      "답변: http://stackoverflow.com//questions/57067127/selenium-pythonbindings-why-does-this-script-work-in-atom-but-not-in-taskschedu\n",
      "질문: Modular Neural Network\n",
      "========================================\n",
      "답변: http://stackoverflow.com//questions/57067122/modular-neural-network\n",
      "질문: How do I convert seconds to hh:mm:ss in django template\n",
      "========================================\n",
      "답변: http://stackoverflow.com//questions/57067120/how-do-i-convert-seconds-to-hhmmss-in-django-template\n",
      "질문: broken dag trying to connect airflow to snowflake\n",
      "========================================\n",
      "답변: http://stackoverflow.com//questions/57067109/broken-dag-trying-to-connect-airflow-to-snowflake\n",
      "질문: Assignment to a variable is changing all other references to that variable's previous value\n",
      "========================================\n",
      "답변: http://stackoverflow.com//questions/57067106/assignment-to-a-variable-is-changing-all-other-references-to-that-variables-pre\n",
      "질문: Can't change value in numpy array\n",
      "========================================\n",
      "답변: http://stackoverflow.com//questions/57067097/cant-change-value-in-numpy-array\n",
      "질문: Will Windows API “CreateWindowEx” work in a DLL used by Python (3.6.8) 64-bit?\n",
      "========================================\n",
      "답변: http://stackoverflow.com//questions/57067094/will-windows-api-createwindowex-work-in-a-dll-used-by-python-3-6-8-64-bit\n",
      "질문: For loop export to CSV with dynamic CSV naming\n",
      "========================================\n",
      "답변: http://stackoverflow.com//questions/57067040/for-loop-export-to-csv-with-dynamic-csv-naming\n",
      "질문: Can we use Haar Classifier to detect Iris of an eye as done for face and eyes?\n",
      "========================================\n",
      "답변: http://stackoverflow.com//questions/57067036/can-we-use-haar-classifier-to-detect-iris-of-an-eye-as-done-for-face-and-eyes\n",
      "질문: How to fix 'int' object is not iterable in TF-IDF freqDict_list\n",
      "========================================\n",
      "답변: http://stackoverflow.com//questions/57067029/how-to-fix-int-object-is-not-iterable-in-tf-idf-freqdict-list\n",
      "질문: Keras multi input : MLP model with different scale inputs\n",
      "========================================\n",
      "답변: http://stackoverflow.com//questions/57066997/keras-multi-input-mlp-model-with-different-scale-inputs\n",
      "질문: Anaconda: “kraken” is not running in my virtual environment despite being installed there\n",
      "========================================\n",
      "답변: http://stackoverflow.com//questions/57066966/anaconda-kraken-is-not-running-in-my-virtual-environment-despite-being-instal\n",
      "질문: Old programmer needs advice on where to start w/Python & Pandas [on hold]\n",
      "========================================\n",
      "답변: http://stackoverflow.com//questions/57066958/old-programmer-needs-advice-on-where-to-start-w-python-pandas\n",
      "질문: Merge two datasets based on specific column data\n",
      "========================================\n",
      "답변: http://stackoverflow.com//questions/57066949/merge-two-datasets-based-on-specific-column-data\n",
      "질문: MySQL-Python code not working, generating various errors each time i attempt to fix\n",
      "========================================\n",
      "답변: http://stackoverflow.com//questions/57066941/mysql-python-code-not-working-generating-various-errors-each-time-i-attempt-to\n",
      "질문: How to get_attribute('innerHTML') from a list of URLs - Selenium?\n",
      "========================================\n",
      "답변: http://stackoverflow.com//questions/57066938/how-to-get-attributeinnerhtml-from-a-list-of-urls-selenium\n",
      "질문: Glob files for a range of numbers [duplicate]\n",
      "========================================\n",
      "답변: http://stackoverflow.com//questions/57066931/glob-files-for-a-range-of-numbers\n",
      "질문: Java dynamic imports like Python?\n",
      "========================================\n",
      "답변: http://stackoverflow.com//questions/57066902/java-dynamic-imports-like-python\n",
      "질문: Custom python webserver keep loading\n",
      "========================================\n",
      "답변: http://stackoverflow.com//questions/57066894/custom-python-webserver-keep-loading\n",
      "질문: How to generate a 2D LOG kernel in array LxH with radius x and y?\n",
      "========================================\n",
      "답변: http://stackoverflow.com//questions/57066876/how-to-generate-a-2d-log-kernel-in-array-lxh-with-radius-x-and-y\n",
      "질문: I get a 404 not found error when trying to run a website using flask and apache\n",
      "========================================\n",
      "답변: http://stackoverflow.com//questions/57066864/i-get-a-404-not-found-error-when-trying-to-run-a-website-using-flask-and-apache\n",
      "질문: Tkinter - Placing transparent image on top of Frames?\n",
      "========================================\n",
      "답변: http://stackoverflow.com//questions/57066807/tkinter-placing-transparent-image-on-top-of-frames\n",
      "질문: Why do I receive an error stating coercing to unicode in Python?\n",
      "========================================\n",
      "답변: http://stackoverflow.com//questions/57066803/why-do-i-receive-an-error-stating-coercing-to-unicode-in-python\n",
      "질문: AttributeError: 'NoneType' object has no attribute 'request_envelope' ask-sdk for Alexa get_slot\n",
      "========================================\n",
      "답변: http://stackoverflow.com//questions/57066802/attributeerror-nonetype-object-has-no-attribute-request-envelope-ask-sdk-fo\n",
      "질문: how to make guided_attention loss in tensorflow?\n",
      "========================================\n",
      "답변: http://stackoverflow.com//questions/57066794/how-to-make-guided-attention-loss-in-tensorflow\n",
      "질문: How do I get JavaScript and Python to communicate continuously via Flask?\n",
      "========================================\n",
      "답변: http://stackoverflow.com//questions/57066785/how-do-i-get-javascript-and-python-to-communicate-continuously-via-flask\n"
     ]
    }
   ],
   "source": [
    "page = urlopen(\"https://stackoverflow.com/questions/tagged/python\")\n",
    "document = page.read()\n",
    "soup = BeautifulSoup(document,'html.parser')\n",
    "questions = soup.find(id=\"questions\")\n",
    "questions_list = questions.find_all(\"a\",class_=\"question-hyperlink\")\n",
    "for questions in questions_list:\n",
    "#     print(questions.string)\n",
    "    print(\"질문:\", questions.string)\n",
    "    print(\"=\"*40)\n",
    "    print(\"답변:\",'http://stackoverflow.com/' + questions.get('href'))\n",
    "# len(questions.find_all(\"a\")) # a태그가 312개 나옴\n",
    "# questions.find(\"a\")\n",
    "# questions.find"
   ]
  },
  {
   "cell_type": "code",
   "execution_count": 84,
   "metadata": {},
   "outputs": [
    {
     "ename": "AttributeError",
     "evalue": "'list' object has no attribute 'get'",
     "output_type": "error",
     "traceback": [
      "\u001b[1;31m---------------------------------------------------------------------------\u001b[0m",
      "\u001b[1;31mAttributeError\u001b[0m                            Traceback (most recent call last)",
      "\u001b[1;32m<ipython-input-84-d041d42e4611>\u001b[0m in \u001b[0;36m<module>\u001b[1;34m\u001b[0m\n\u001b[0;32m      7\u001b[0m \u001b[0mlist_tb\u001b[0m \u001b[1;33m=\u001b[0m \u001b[0mtable\u001b[0m\u001b[1;33m.\u001b[0m\u001b[0mselect\u001b[0m\u001b[1;33m(\u001b[0m\u001b[1;34m\"td.middle_col > a\"\u001b[0m\u001b[1;33m)\u001b[0m\u001b[1;33m\u001b[0m\u001b[1;33m\u001b[0m\u001b[0m\n\u001b[0;32m      8\u001b[0m \u001b[0mlist_tb\u001b[0m\u001b[1;33m\u001b[0m\u001b[1;33m\u001b[0m\u001b[0m\n\u001b[1;32m----> 9\u001b[1;33m \u001b[0mlist_href\u001b[0m \u001b[1;33m=\u001b[0m \u001b[0mlist_tb\u001b[0m\u001b[1;33m.\u001b[0m\u001b[0mget\u001b[0m\u001b[1;33m(\u001b[0m\u001b[1;34m\"href\"\u001b[0m\u001b[1;33m)\u001b[0m\u001b[1;33m\u001b[0m\u001b[1;33m\u001b[0m\u001b[0m\n\u001b[0m\u001b[0;32m     10\u001b[0m \u001b[0mlink\u001b[0m \u001b[1;33m=\u001b[0m \u001b[1;34m\"https://www.rottentomatoes.com/\"\u001b[0m \u001b[1;33m+\u001b[0m \u001b[0mlist_href\u001b[0m\u001b[1;33m\u001b[0m\u001b[1;33m\u001b[0m\u001b[0m\n\u001b[0;32m     11\u001b[0m \u001b[1;31m# print(link)\u001b[0m\u001b[1;33m\u001b[0m\u001b[1;33m\u001b[0m\u001b[1;33m\u001b[0m\u001b[0m\n",
      "\u001b[1;31mAttributeError\u001b[0m: 'list' object has no attribute 'get'"
     ]
    }
   ],
   "source": [
    "page = urlopen(\"https://www.rottentomatoes.com/\")\n",
    "document = page.read()\n",
    "soup = BeautifulSoup(document,'html.parser')\n",
    "table = soup.find(id=\"Top-Box-Office\")\n",
    "table\n",
    "\n",
    "list_tb = table.select(\"td.middle_col > a\")\n",
    "list_tb\n",
    "list_href = list_tb.get(\"href\")\n",
    "link = \"https://www.rottentomatoes.com/\" + list_href\n",
    "# print(link)\n",
    "for data in list_tb:\n",
    "    print(\"list_name :\", data.string)\n",
    "    print(\"list_link :\", link)\n",
    "    \n",
    "\n",
    "############################################################################\n",
    "url = \"https://www.rottentomatoes.com/\"\n",
    "soup = get_soup(url)"
   ]
  },
  {
   "cell_type": "code",
   "execution_count": null,
   "metadata": {},
   "outputs": [],
   "source": []
  },
  {
   "cell_type": "code",
   "execution_count": null,
   "metadata": {},
   "outputs": [],
   "source": []
  }
 ],
 "metadata": {
  "kernelspec": {
   "display_name": "Python 3",
   "language": "python",
   "name": "python3"
  },
  "language_info": {
   "codemirror_mode": {
    "name": "ipython",
    "version": 3
   },
   "file_extension": ".py",
   "mimetype": "text/x-python",
   "name": "python",
   "nbconvert_exporter": "python",
   "pygments_lexer": "ipython3",
   "version": "3.7.3"
  }
 },
 "nbformat": 4,
 "nbformat_minor": 2
}
