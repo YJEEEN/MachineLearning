{
 "cells": [
  {
   "cell_type": "code",
   "execution_count": 1,
   "metadata": {},
   "outputs": [],
   "source": [
    "#dataframe정렬:sort_values()\n",
    "#list정렬:list.sort(), sorted(list)\n",
    "#tuple정렬:sorted(tuple,키)\n",
    "\n",
    "#정렬:선택,버블,삽입,...(O(n^2))\n",
    "#퀵,병합,힙(O(nlogn))\n",
    "#계수(O(m+n))#데이터 정렬: "
   ]
  },
  {
   "cell_type": "code",
   "execution_count": null,
   "metadata": {},
   "outputs": [],
   "source": [
    "#                        DF                Series\n",
    "# 행 개수 세기        len(df)             len(s)\n",
    "#                     df.shape[0]          s.size\n",
    "#                    len(df.index)        len(s.index)\n",
    "# 열 개수 세기        df.shape[1]             x\n",
    "#                   len(df.columns)\n",
    "# NULL 아닌 행 개수   df.count()            s.count()\n",
    "# 그룹단위 행 개수     df.groupby().size()    s.groupby().size()     \n",
    "# 그룹단위 NULL 아닌 행 개수 df.groupby().count() "
   ]
  },
  {
   "cell_type": "code",
   "execution_count": 2,
   "metadata": {},
   "outputs": [],
   "source": [
    "import pandas as pd\n",
    "import numpy as np\n",
    "import matplotlib.pylab as plt\n",
    "import seaborn as sns\n",
    "import re"
   ]
  },
  {
   "cell_type": "code",
   "execution_count": 5,
   "metadata": {},
   "outputs": [
    {
     "ename": "TypeError",
     "evalue": "sort_values() missing 1 required positional argument: 'by'",
     "output_type": "error",
     "traceback": [
      "\u001b[1;31m---------------------------------------------------------------------------\u001b[0m",
      "\u001b[1;31mTypeError\u001b[0m                                 Traceback (most recent call last)",
      "\u001b[1;32m<ipython-input-5-26c02723e42d>\u001b[0m in \u001b[0;36m<module>\u001b[1;34m\u001b[0m\n\u001b[0;32m      3\u001b[0m               'age':[30,20,40]})\n\u001b[0;32m      4\u001b[0m \u001b[0mdf\u001b[0m\u001b[1;33m\u001b[0m\u001b[1;33m\u001b[0m\u001b[0m\n\u001b[1;32m----> 5\u001b[1;33m \u001b[0mdf\u001b[0m\u001b[1;33m.\u001b[0m\u001b[0msort_values\u001b[0m\u001b[1;33m(\u001b[0m\u001b[1;33m)\u001b[0m\u001b[1;33m\u001b[0m\u001b[1;33m\u001b[0m\u001b[0m\n\u001b[0m",
      "\u001b[1;31mTypeError\u001b[0m: sort_values() missing 1 required positional argument: 'by'"
     ]
    }
   ],
   "source": [
    "df = pd.DataFrame ({'s':[1,3,2],\n",
    "              'name':['choi','kim','lee'],\n",
    "              'age':[30,20,40]})\n",
    "df"
   ]
  },
  {
   "cell_type": "code",
   "execution_count": 10,
   "metadata": {},
   "outputs": [],
   "source": [
    "df.sort_values(by='s',ascending=False, kind ='quicksort',inplace=True)"
   ]
  },
  {
   "cell_type": "code",
   "execution_count": 7,
   "metadata": {},
   "outputs": [
    {
     "ename": "AttributeError",
     "evalue": "'DataFrame' object has no attribute 'sort'",
     "output_type": "error",
     "traceback": [
      "\u001b[1;31m---------------------------------------------------------------------------\u001b[0m",
      "\u001b[1;31mAttributeError\u001b[0m                            Traceback (most recent call last)",
      "\u001b[1;32m<ipython-input-7-9bef6cbfdb7c>\u001b[0m in \u001b[0;36m<module>\u001b[1;34m\u001b[0m\n\u001b[1;32m----> 1\u001b[1;33m \u001b[0mdf\u001b[0m\u001b[1;33m.\u001b[0m\u001b[0msort\u001b[0m\u001b[1;33m(\u001b[0m\u001b[0maxis\u001b[0m\u001b[1;33m=\u001b[0m\u001b[1;36m1\u001b[0m\u001b[1;33m)\u001b[0m\u001b[1;33m\u001b[0m\u001b[1;33m\u001b[0m\u001b[0m\n\u001b[0m",
      "\u001b[1;32m~\\AppData\\Roaming\\Python\\Python37\\site-packages\\pandas\\core\\generic.py\u001b[0m in \u001b[0;36m__getattr__\u001b[1;34m(self, name)\u001b[0m\n\u001b[0;32m   5065\u001b[0m             \u001b[1;32mif\u001b[0m \u001b[0mself\u001b[0m\u001b[1;33m.\u001b[0m\u001b[0m_info_axis\u001b[0m\u001b[1;33m.\u001b[0m\u001b[0m_can_hold_identifiers_and_holds_name\u001b[0m\u001b[1;33m(\u001b[0m\u001b[0mname\u001b[0m\u001b[1;33m)\u001b[0m\u001b[1;33m:\u001b[0m\u001b[1;33m\u001b[0m\u001b[1;33m\u001b[0m\u001b[0m\n\u001b[0;32m   5066\u001b[0m                 \u001b[1;32mreturn\u001b[0m \u001b[0mself\u001b[0m\u001b[1;33m[\u001b[0m\u001b[0mname\u001b[0m\u001b[1;33m]\u001b[0m\u001b[1;33m\u001b[0m\u001b[1;33m\u001b[0m\u001b[0m\n\u001b[1;32m-> 5067\u001b[1;33m             \u001b[1;32mreturn\u001b[0m \u001b[0mobject\u001b[0m\u001b[1;33m.\u001b[0m\u001b[0m__getattribute__\u001b[0m\u001b[1;33m(\u001b[0m\u001b[0mself\u001b[0m\u001b[1;33m,\u001b[0m \u001b[0mname\u001b[0m\u001b[1;33m)\u001b[0m\u001b[1;33m\u001b[0m\u001b[1;33m\u001b[0m\u001b[0m\n\u001b[0m\u001b[0;32m   5068\u001b[0m \u001b[1;33m\u001b[0m\u001b[0m\n\u001b[0;32m   5069\u001b[0m     \u001b[1;32mdef\u001b[0m \u001b[0m__setattr__\u001b[0m\u001b[1;33m(\u001b[0m\u001b[0mself\u001b[0m\u001b[1;33m,\u001b[0m \u001b[0mname\u001b[0m\u001b[1;33m,\u001b[0m \u001b[0mvalue\u001b[0m\u001b[1;33m)\u001b[0m\u001b[1;33m:\u001b[0m\u001b[1;33m\u001b[0m\u001b[1;33m\u001b[0m\u001b[0m\n",
      "\u001b[1;31mAttributeError\u001b[0m: 'DataFrame' object has no attribute 'sort'"
     ]
    }
   ],
   "source": [
    "df.sort(axis=1)"
   ]
  },
  {
   "cell_type": "code",
   "execution_count": 13,
   "metadata": {},
   "outputs": [
    {
     "data": {
      "text/plain": [
       "[(1, 'park', 30), (2, 'lee', 20), (3, 'choi', 40)]"
      ]
     },
     "execution_count": 13,
     "metadata": {},
     "output_type": "execute_result"
    }
   ],
   "source": [
    "tp = [(1,'park',30),\n",
    "     (2,'lee',20),\n",
    "     (3,'choi',40)]\n",
    "tp"
   ]
  },
  {
   "cell_type": "code",
   "execution_count": 15,
   "metadata": {},
   "outputs": [
    {
     "data": {
      "text/plain": [
       "[(2, 'lee', 20), (1, 'park', 30), (3, 'choi', 40)]"
      ]
     },
     "execution_count": 15,
     "metadata": {},
     "output_type": "execute_result"
    }
   ],
   "source": [
    "sorted(tp, key=lambda la:la[2]) #la로 tp가 전달되어 la의 튜플"
   ]
  },
  {
   "cell_type": "code",
   "execution_count": 16,
   "metadata": {},
   "outputs": [
    {
     "data": {
      "text/plain": [
       "[0, 2, 4, 7, 9]"
      ]
     },
     "execution_count": 16,
     "metadata": {},
     "output_type": "execute_result"
    }
   ],
   "source": [
    "mylist=[0,9,7,2,4]\n",
    "sorted(mylist)"
   ]
  },
  {
   "cell_type": "code",
   "execution_count": 85,
   "metadata": {},
   "outputs": [
    {
     "data": {
      "text/plain": [
       "[0, 2, 4, 7, 9]"
      ]
     },
     "execution_count": 85,
     "metadata": {},
     "output_type": "execute_result"
    }
   ],
   "source": [
    "mylist.sort()\n",
    "mylist"
   ]
  },
  {
   "cell_type": "code",
   "execution_count": 20,
   "metadata": {},
   "outputs": [
    {
     "data": {
      "text/html": [
       "<div>\n",
       "<style scoped>\n",
       "    .dataframe tbody tr th:only-of-type {\n",
       "        vertical-align: middle;\n",
       "    }\n",
       "\n",
       "    .dataframe tbody tr th {\n",
       "        vertical-align: top;\n",
       "    }\n",
       "\n",
       "    .dataframe thead th {\n",
       "        text-align: right;\n",
       "    }\n",
       "</style>\n",
       "<table border=\"1\" class=\"dataframe\">\n",
       "  <thead>\n",
       "    <tr style=\"text-align: right;\">\n",
       "      <th></th>\n",
       "      <th>grp</th>\n",
       "      <th>val</th>\n",
       "    </tr>\n",
       "  </thead>\n",
       "  <tbody>\n",
       "    <tr>\n",
       "      <th>0</th>\n",
       "      <td>A</td>\n",
       "      <td>1.0</td>\n",
       "    </tr>\n",
       "    <tr>\n",
       "      <th>1</th>\n",
       "      <td>A</td>\n",
       "      <td>2.0</td>\n",
       "    </tr>\n",
       "    <tr>\n",
       "      <th>2</th>\n",
       "      <td>A</td>\n",
       "      <td>NaN</td>\n",
       "    </tr>\n",
       "    <tr>\n",
       "      <th>3</th>\n",
       "      <td>B</td>\n",
       "      <td>4.0</td>\n",
       "    </tr>\n",
       "    <tr>\n",
       "      <th>4</th>\n",
       "      <td>B</td>\n",
       "      <td>NaN</td>\n",
       "    </tr>\n",
       "    <tr>\n",
       "      <th>5</th>\n",
       "      <td>B</td>\n",
       "      <td>NaN</td>\n",
       "    </tr>\n",
       "    <tr>\n",
       "      <th>6</th>\n",
       "      <td>C</td>\n",
       "      <td>7.0</td>\n",
       "    </tr>\n",
       "    <tr>\n",
       "      <th>7</th>\n",
       "      <td>C</td>\n",
       "      <td>8.0</td>\n",
       "    </tr>\n",
       "    <tr>\n",
       "      <th>8</th>\n",
       "      <td>C</td>\n",
       "      <td>9.0</td>\n",
       "    </tr>\n",
       "  </tbody>\n",
       "</table>\n",
       "</div>"
      ],
      "text/plain": [
       "  grp  val\n",
       "0   A  1.0\n",
       "1   A  2.0\n",
       "2   A  NaN\n",
       "3   B  4.0\n",
       "4   B  NaN\n",
       "5   B  NaN\n",
       "6   C  7.0\n",
       "7   C  8.0\n",
       "8   C  9.0"
      ]
     },
     "execution_count": 20,
     "metadata": {},
     "output_type": "execute_result"
    }
   ],
   "source": [
    "df = pd.DataFrame({'grp': ['A', 'A', 'A', 'B', 'B', 'B', 'C', 'C', 'C'],  \n",
    "                           'val': [1, 2, np.nan, 4, np.nan, np.nan, 7, 8, 9]}) \n",
    "s = pd.Series([1, 2, np.nan, 4, np.nan, np.nan, 7, 8, 9])\n",
    "df"
   ]
  },
  {
   "cell_type": "code",
   "execution_count": 24,
   "metadata": {},
   "outputs": [
    {
     "data": {
      "text/plain": [
       "9"
      ]
     },
     "execution_count": 24,
     "metadata": {},
     "output_type": "execute_result"
    }
   ],
   "source": [
    "len(df)\n",
    "df.shape[0]\n",
    "len(df.index)"
   ]
  },
  {
   "cell_type": "code",
   "execution_count": 26,
   "metadata": {},
   "outputs": [
    {
     "data": {
      "text/plain": [
       "9"
      ]
     },
     "execution_count": 26,
     "metadata": {},
     "output_type": "execute_result"
    }
   ],
   "source": [
    "len(s)\n",
    "s.size\n",
    "len(s.index)"
   ]
  },
  {
   "cell_type": "code",
   "execution_count": 28,
   "metadata": {},
   "outputs": [
    {
     "data": {
      "text/plain": [
       "(9, 2)"
      ]
     },
     "execution_count": 28,
     "metadata": {},
     "output_type": "execute_result"
    }
   ],
   "source": [
    "df.shape[1]\n",
    "len(df.columns)"
   ]
  },
  {
   "cell_type": "code",
   "execution_count": 31,
   "metadata": {},
   "outputs": [
    {
     "data": {
      "text/plain": [
       "6"
      ]
     },
     "execution_count": 31,
     "metadata": {},
     "output_type": "execute_result"
    }
   ],
   "source": [
    "df.count()\n",
    "df['val'].count()\n",
    "s.count()\n",
    "\n",
    "df.groupby('grp').size() #NaN 포함한 각 그룹의 행 개수\n",
    "df.groupby('grp').count()#NaN을 제외한 각 그룹의 행 개수"
   ]
  },
  {
   "cell_type": "code",
   "execution_count": null,
   "metadata": {},
   "outputs": [],
   "source": [
    "s.groupby(df.grp).size() #NaN 포함한 각 그룹의 행 개수\n",
    "s.groupby(df.grp).count()#NaN을 제외한 각 그룹의 행 개수"
   ]
  },
  {
   "cell_type": "code",
   "execution_count": null,
   "metadata": {},
   "outputs": [],
   "source": []
  },
  {
   "cell_type": "code",
   "execution_count": 32,
   "metadata": {
    "scrolled": true
   },
   "outputs": [
    {
     "data": {
      "text/html": [
       "<div>\n",
       "<style scoped>\n",
       "    .dataframe tbody tr th:only-of-type {\n",
       "        vertical-align: middle;\n",
       "    }\n",
       "\n",
       "    .dataframe tbody tr th {\n",
       "        vertical-align: top;\n",
       "    }\n",
       "\n",
       "    .dataframe thead th {\n",
       "        text-align: right;\n",
       "    }\n",
       "</style>\n",
       "<table border=\"1\" class=\"dataframe\">\n",
       "  <thead>\n",
       "    <tr style=\"text-align: right;\">\n",
       "      <th></th>\n",
       "      <th>id</th>\n",
       "      <th>val</th>\n",
       "    </tr>\n",
       "  </thead>\n",
       "  <tbody>\n",
       "    <tr>\n",
       "      <th>0</th>\n",
       "      <td>A_001</td>\n",
       "      <td>0</td>\n",
       "    </tr>\n",
       "    <tr>\n",
       "      <th>1</th>\n",
       "      <td>A_002</td>\n",
       "      <td>1</td>\n",
       "    </tr>\n",
       "    <tr>\n",
       "      <th>2</th>\n",
       "      <td>A_003</td>\n",
       "      <td>2</td>\n",
       "    </tr>\n",
       "    <tr>\n",
       "      <th>3</th>\n",
       "      <td>B_001</td>\n",
       "      <td>3</td>\n",
       "    </tr>\n",
       "    <tr>\n",
       "      <th>4</th>\n",
       "      <td>C_001</td>\n",
       "      <td>4</td>\n",
       "    </tr>\n",
       "    <tr>\n",
       "      <th>5</th>\n",
       "      <td>C_002</td>\n",
       "      <td>5</td>\n",
       "    </tr>\n",
       "  </tbody>\n",
       "</table>\n",
       "</div>"
      ],
      "text/plain": [
       "      id  val\n",
       "0  A_001    0\n",
       "1  A_002    1\n",
       "2  A_003    2\n",
       "3  B_001    3\n",
       "4  C_001    4\n",
       "5  C_002    5"
      ]
     },
     "execution_count": 32,
     "metadata": {},
     "output_type": "execute_result"
    }
   ],
   "source": [
    "df = pd.DataFrame({'id': ['A_001', 'A_002', 'A_003', 'B_001', 'C_001', 'C_002'],  \n",
    "                          'val': np.arange(6)})\n",
    "df"
   ]
  },
  {
   "cell_type": "code",
   "execution_count": 36,
   "metadata": {
    "scrolled": true
   },
   "outputs": [
    {
     "ename": "AttributeError",
     "evalue": "'Series' object has no attribute 'split'",
     "output_type": "error",
     "traceback": [
      "\u001b[1;31m---------------------------------------------------------------------------\u001b[0m",
      "\u001b[1;31mAttributeError\u001b[0m                            Traceback (most recent call last)",
      "\u001b[1;32m<ipython-input-36-6d1f35850b33>\u001b[0m in \u001b[0;36m<module>\u001b[1;34m\u001b[0m\n\u001b[0;32m      1\u001b[0m \u001b[0mdf\u001b[0m\u001b[1;33m.\u001b[0m\u001b[0mid\u001b[0m\u001b[1;33m\u001b[0m\u001b[1;33m\u001b[0m\u001b[0m\n\u001b[1;32m----> 2\u001b[1;33m \u001b[0mdf\u001b[0m\u001b[1;33m.\u001b[0m\u001b[0mid\u001b[0m\u001b[1;33m.\u001b[0m\u001b[0msplit\u001b[0m\u001b[1;33m(\u001b[0m\u001b[1;34m'_'\u001b[0m\u001b[1;33m)\u001b[0m \u001b[1;31m# --> split은 문자열함수에서 사용 가능하다\u001b[0m\u001b[1;33m\u001b[0m\u001b[1;33m\u001b[0m\u001b[0m\n\u001b[0m\u001b[0;32m      3\u001b[0m \u001b[0mdf\u001b[0m\u001b[1;33m.\u001b[0m\u001b[0mid\u001b[0m\u001b[1;33m.\u001b[0m\u001b[0mstr\u001b[0m\u001b[1;33m.\u001b[0m\u001b[0msplit\u001b[0m\u001b[1;33m(\u001b[0m\u001b[1;34m'_'\u001b[0m\u001b[1;33m)\u001b[0m\u001b[1;33m\u001b[0m\u001b[1;33m\u001b[0m\u001b[0m\n",
      "\u001b[1;32m~\\AppData\\Roaming\\Python\\Python37\\site-packages\\pandas\\core\\generic.py\u001b[0m in \u001b[0;36m__getattr__\u001b[1;34m(self, name)\u001b[0m\n\u001b[0;32m   5065\u001b[0m             \u001b[1;32mif\u001b[0m \u001b[0mself\u001b[0m\u001b[1;33m.\u001b[0m\u001b[0m_info_axis\u001b[0m\u001b[1;33m.\u001b[0m\u001b[0m_can_hold_identifiers_and_holds_name\u001b[0m\u001b[1;33m(\u001b[0m\u001b[0mname\u001b[0m\u001b[1;33m)\u001b[0m\u001b[1;33m:\u001b[0m\u001b[1;33m\u001b[0m\u001b[1;33m\u001b[0m\u001b[0m\n\u001b[0;32m   5066\u001b[0m                 \u001b[1;32mreturn\u001b[0m \u001b[0mself\u001b[0m\u001b[1;33m[\u001b[0m\u001b[0mname\u001b[0m\u001b[1;33m]\u001b[0m\u001b[1;33m\u001b[0m\u001b[1;33m\u001b[0m\u001b[0m\n\u001b[1;32m-> 5067\u001b[1;33m             \u001b[1;32mreturn\u001b[0m \u001b[0mobject\u001b[0m\u001b[1;33m.\u001b[0m\u001b[0m__getattribute__\u001b[0m\u001b[1;33m(\u001b[0m\u001b[0mself\u001b[0m\u001b[1;33m,\u001b[0m \u001b[0mname\u001b[0m\u001b[1;33m)\u001b[0m\u001b[1;33m\u001b[0m\u001b[1;33m\u001b[0m\u001b[0m\n\u001b[0m\u001b[0;32m   5068\u001b[0m \u001b[1;33m\u001b[0m\u001b[0m\n\u001b[0;32m   5069\u001b[0m     \u001b[1;32mdef\u001b[0m \u001b[0m__setattr__\u001b[0m\u001b[1;33m(\u001b[0m\u001b[0mself\u001b[0m\u001b[1;33m,\u001b[0m \u001b[0mname\u001b[0m\u001b[1;33m,\u001b[0m \u001b[0mvalue\u001b[0m\u001b[1;33m)\u001b[0m\u001b[1;33m:\u001b[0m\u001b[1;33m\u001b[0m\u001b[1;33m\u001b[0m\u001b[0m\n",
      "\u001b[1;31mAttributeError\u001b[0m: 'Series' object has no attribute 'split'"
     ]
    }
   ],
   "source": [
    "df.id\n",
    "df.id.split('_') # --> split은 문자열함수에서 사용 가능하다\n",
    "df.id.str.split('_')"
   ]
  },
  {
   "cell_type": "code",
   "execution_count": 40,
   "metadata": {},
   "outputs": [
    {
     "data": {
      "text/html": [
       "<div>\n",
       "<style scoped>\n",
       "    .dataframe tbody tr th:only-of-type {\n",
       "        vertical-align: middle;\n",
       "    }\n",
       "\n",
       "    .dataframe tbody tr th {\n",
       "        vertical-align: top;\n",
       "    }\n",
       "\n",
       "    .dataframe thead th {\n",
       "        text-align: right;\n",
       "    }\n",
       "</style>\n",
       "<table border=\"1\" class=\"dataframe\">\n",
       "  <thead>\n",
       "    <tr style=\"text-align: right;\">\n",
       "      <th></th>\n",
       "      <th>id</th>\n",
       "      <th>val</th>\n",
       "    </tr>\n",
       "  </thead>\n",
       "  <tbody>\n",
       "    <tr>\n",
       "      <th>0</th>\n",
       "      <td>A_001</td>\n",
       "      <td>0</td>\n",
       "    </tr>\n",
       "    <tr>\n",
       "      <th>1</th>\n",
       "      <td>A_002</td>\n",
       "      <td>1</td>\n",
       "    </tr>\n",
       "    <tr>\n",
       "      <th>2</th>\n",
       "      <td>A_003</td>\n",
       "      <td>2</td>\n",
       "    </tr>\n",
       "    <tr>\n",
       "      <th>3</th>\n",
       "      <td>B_001</td>\n",
       "      <td>3</td>\n",
       "    </tr>\n",
       "    <tr>\n",
       "      <th>4</th>\n",
       "      <td>C_001</td>\n",
       "      <td>4</td>\n",
       "    </tr>\n",
       "    <tr>\n",
       "      <th>5</th>\n",
       "      <td>C_002</td>\n",
       "      <td>5</td>\n",
       "    </tr>\n",
       "  </tbody>\n",
       "</table>\n",
       "</div>"
      ],
      "text/plain": [
       "      id  val\n",
       "0  A_001    0\n",
       "1  A_002    1\n",
       "2  A_003    2\n",
       "3  B_001    3\n",
       "4  C_001    4\n",
       "5  C_002    5"
      ]
     },
     "execution_count": 40,
     "metadata": {},
     "output_type": "execute_result"
    }
   ],
   "source": [
    "df.id.str.split('_') # str써서 문자열로 형변환 시켜주고\n",
    "df.id.str.split('_')[0] # [0]번 인덴스 행 데이터\n",
    "df.id.str.split('_').str[0] # 인덱스의 첫 글자만 추출\n",
    "df"
   ]
  },
  {
   "cell_type": "code",
   "execution_count": 41,
   "metadata": {},
   "outputs": [
    {
     "data": {
      "text/plain": [
       "['A', 'A', 'A', 'B', 'C', 'C']"
      ]
     },
     "execution_count": 41,
     "metadata": {},
     "output_type": "execute_result"
    }
   ],
   "source": [
    "df.id.str.split('_').str[0].tolist() # --> 시리즈에서 리스트로 형변환 가능 "
   ]
  },
  {
   "cell_type": "code",
   "execution_count": 45,
   "metadata": {},
   "outputs": [
    {
     "ename": "AttributeError",
     "evalue": "'numpy.int32' object has no attribute 'split'",
     "output_type": "error",
     "traceback": [
      "\u001b[1;31m---------------------------------------------------------------------------\u001b[0m",
      "\u001b[1;31mAttributeError\u001b[0m                            Traceback (most recent call last)",
      "\u001b[1;32m<ipython-input-45-a8a19eb7b9f3>\u001b[0m in \u001b[0;36m<module>\u001b[1;34m\u001b[0m\n\u001b[0;32m      1\u001b[0m \u001b[1;32mfor\u001b[0m \u001b[0mi\u001b[0m \u001b[1;32min\u001b[0m \u001b[0mrange\u001b[0m\u001b[1;33m(\u001b[0m\u001b[0mdf\u001b[0m\u001b[1;33m.\u001b[0m\u001b[0mshape\u001b[0m\u001b[1;33m[\u001b[0m\u001b[1;36m0\u001b[0m\u001b[1;33m]\u001b[0m\u001b[1;33m)\u001b[0m\u001b[1;33m:\u001b[0m\u001b[1;33m\u001b[0m\u001b[1;33m\u001b[0m\u001b[0m\n\u001b[0;32m      2\u001b[0m \u001b[1;31m#     print(df.loc[i,'val'].split('_')[0])\u001b[0m\u001b[1;33m\u001b[0m\u001b[1;33m\u001b[0m\u001b[1;33m\u001b[0m\u001b[0m\n\u001b[1;32m----> 3\u001b[1;33m     \u001b[0mdf\u001b[0m\u001b[1;33m.\u001b[0m\u001b[0mloc\u001b[0m\u001b[1;33m[\u001b[0m\u001b[0mi\u001b[0m\u001b[1;33m,\u001b[0m\u001b[1;34m'gg'\u001b[0m\u001b[1;33m]\u001b[0m \u001b[1;33m=\u001b[0m \u001b[0mdf\u001b[0m\u001b[1;33m.\u001b[0m\u001b[0mloc\u001b[0m\u001b[1;33m[\u001b[0m\u001b[0mi\u001b[0m\u001b[1;33m,\u001b[0m\u001b[1;34m'val'\u001b[0m\u001b[1;33m]\u001b[0m\u001b[1;33m.\u001b[0m\u001b[0msplit\u001b[0m\u001b[1;33m(\u001b[0m\u001b[1;34m'_'\u001b[0m\u001b[1;33m)\u001b[0m\u001b[1;33m[\u001b[0m\u001b[1;36m0\u001b[0m\u001b[1;33m]\u001b[0m\u001b[1;33m\u001b[0m\u001b[1;33m\u001b[0m\u001b[0m\n\u001b[0m",
      "\u001b[1;31mAttributeError\u001b[0m: 'numpy.int32' object has no attribute 'split'"
     ]
    }
   ],
   "source": [
    "for i in range(df.shape[0]):\n",
    "#     print(df.loc[i,'val'].split('_')[0])\n",
    "    df.loc[i,'gg'] = df.loc[i,'val'].split('_')[0]"
   ]
  },
  {
   "cell_type": "code",
   "execution_count": 49,
   "metadata": {},
   "outputs": [
    {
     "data": {
      "text/html": [
       "<div>\n",
       "<style scoped>\n",
       "    .dataframe tbody tr th:only-of-type {\n",
       "        vertical-align: middle;\n",
       "    }\n",
       "\n",
       "    .dataframe tbody tr th {\n",
       "        vertical-align: top;\n",
       "    }\n",
       "\n",
       "    .dataframe thead th {\n",
       "        text-align: right;\n",
       "    }\n",
       "</style>\n",
       "<table border=\"1\" class=\"dataframe\">\n",
       "  <thead>\n",
       "    <tr style=\"text-align: right;\">\n",
       "      <th></th>\n",
       "      <th>c1</th>\n",
       "      <th>c2</th>\n",
       "    </tr>\n",
       "  </thead>\n",
       "  <tbody>\n",
       "    <tr>\n",
       "      <th>0</th>\n",
       "      <td>1</td>\n",
       "      <td>2</td>\n",
       "    </tr>\n",
       "    <tr>\n",
       "      <th>1</th>\n",
       "      <td>3</td>\n",
       "      <td>4</td>\n",
       "    </tr>\n",
       "  </tbody>\n",
       "</table>\n",
       "</div>"
      ],
      "text/plain": [
       "   c1  c2\n",
       "0   1   2\n",
       "1   3   4"
      ]
     },
     "execution_count": 49,
     "metadata": {},
     "output_type": "execute_result"
    }
   ],
   "source": [
    "df = pd.DataFrame({'c1':[1,3], 'c2':[2,4]})\n",
    "df\n",
    "df.assign(c3=df['c1']*df['c2']) #--> assign은 할당할 뿐 저장되지 않는다\n",
    "df"
   ]
  },
  {
   "cell_type": "code",
   "execution_count": 50,
   "metadata": {},
   "outputs": [
    {
     "ename": "SyntaxError",
     "evalue": "invalid syntax (<ipython-input-50-63b1f0d87be1>, line 2)",
     "output_type": "error",
     "traceback": [
      "\u001b[1;36m  File \u001b[1;32m\"<ipython-input-50-63b1f0d87be1>\"\u001b[1;36m, line \u001b[1;32m2\u001b[0m\n\u001b[1;33m    del df[열이름]  df.drop([열이름],1)\u001b[0m\n\u001b[1;37m                  ^\u001b[0m\n\u001b[1;31mSyntaxError\u001b[0m\u001b[1;31m:\u001b[0m invalid syntax\n"
     ]
    }
   ],
   "source": [
    "# 데이터프레임의 컬럼 삭제\n",
    "# del df[열이름]  df.drop([열이름],1) \n",
    "# .drop()은 데이터 자체가 삭제되는 것은 아니다\n",
    "# del df['c3'] --> del은 갱신이 되어 두 번 실행되면 에러가 뜬다"
   ]
  },
  {
   "cell_type": "code",
   "execution_count": 51,
   "metadata": {},
   "outputs": [
    {
     "data": {
      "text/html": [
       "<div>\n",
       "<style scoped>\n",
       "    .dataframe tbody tr th:only-of-type {\n",
       "        vertical-align: middle;\n",
       "    }\n",
       "\n",
       "    .dataframe tbody tr th {\n",
       "        vertical-align: top;\n",
       "    }\n",
       "\n",
       "    .dataframe thead th {\n",
       "        text-align: right;\n",
       "    }\n",
       "</style>\n",
       "<table border=\"1\" class=\"dataframe\">\n",
       "  <thead>\n",
       "    <tr style=\"text-align: right;\">\n",
       "      <th></th>\n",
       "      <th>c1</th>\n",
       "      <th>c2</th>\n",
       "    </tr>\n",
       "  </thead>\n",
       "  <tbody>\n",
       "    <tr>\n",
       "      <th>0</th>\n",
       "      <td>1</td>\n",
       "      <td>2</td>\n",
       "    </tr>\n",
       "    <tr>\n",
       "      <th>1</th>\n",
       "      <td>3</td>\n",
       "      <td>4</td>\n",
       "    </tr>\n",
       "  </tbody>\n",
       "</table>\n",
       "</div>"
      ],
      "text/plain": [
       "   c1  c2\n",
       "0   1   2\n",
       "1   3   4"
      ]
     },
     "execution_count": 51,
     "metadata": {},
     "output_type": "execute_result"
    }
   ],
   "source": [
    "df"
   ]
  },
  {
   "cell_type": "code",
   "execution_count": null,
   "metadata": {},
   "outputs": [],
   "source": [
    "# 텍스트를 단어로 분리 --> 단어 단위 원핫인코딩\n",
    "\n",
    "# how are you\n",
    "# what is your name\n",
    "\n",
    "# how는 1번으로 인덱싱 --> 1000000\n",
    "# are는 2번으로 --> 0100000\n",
    "\n",
    "# 전처리에서 is/are는 be로 you/your는 you로 처리되면 7개 단어  --> 5개 단어\n",
    "#따라서 원핫인코딩시 7개에서 5개로 단어가 줄어듬"
   ]
  },
  {
   "cell_type": "code",
   "execution_count": 70,
   "metadata": {},
   "outputs": [
    {
     "name": "stdout",
     "output_type": "stream",
     "text": [
      "Python programming language, from wikipedia\n",
      "\n",
      "Python is an interpreted, high-level, general-purpose programming language. Created by Guido van Rossum and first released in 1991, Python's design philosophy emphasizes code readability with its notable use of significant whitespace. Its language constructs and object-oriented approach aims to help programmers write clear, logical code for small and large-scale projects.[26]\n",
      "\n",
      "Python is dynamically typed and garbage-collected. It supports multiple programming paradigms, including procedural, object-oriented, and functional programming. Python is often described as a \"batteries included\" language due to its comprehensive standard library.[27]\n",
      "\n",
      "Python was conceived in the late 1980s as a successor to the ABC language. Python 2.0, released 2000, introduced features like list comprehensions and a garbage collection system capable of collecting reference cycles. Python 3.0, released 2008, was a major revision of the language that is not completely backward-compatible, and much Python 2 code does not run unmodified on Python 3. Due to concern about the amount of code written for Python 2, support for Python 2.7 (the last release in the 2.x series) was extended to 2020. Language developer Guido van Rossum shouldered sole responsibility for the project until July 2018 but now shares his leadership as a member of a five-person steering council.[28][29][30]\n",
      "\n",
      "Python interpreters are available for many operating systems. A global community of programmers develops and maintains CPython, an open source[31] reference implementation. A non-profit organization, the Python Software Foundation, manages and directs resources for Python and CPython development.\n"
     ]
    }
   ],
   "source": [
    "file_opened = open('python_wikipedia.txt')\n",
    "file_opened\n",
    "# file_opened.readlines()\n",
    "for line in file_opened.readlines():\n",
    "    print(line)\n",
    "    \n",
    "# 전처리(소문자, stopword, 콤마, 대괄호, 특수문자, ... , 숫자)\n",
    "def word_preprocess(word):\n",
    "    word = word.lower()  # 단어를 소문자로 바꿔줌\n",
    "    stop_words = ['a', 'an', 'the', 'in', 'with', 'to', 'for', 'from', 'of', 'at', 'on', 'until', 'by', 'and', 'but', 'is', 'are', 'was', 'were', 'it', 'that', 'this', 'my', 'his', 'her', 'our', 'as', 'not'] # make your own list\n",
    "    symbols = [',', '.', ':', '-', '+', '/', '*', '&', '%', '[', ']', '(', ')'] # make your own list\n",
    "    \n",
    "    for stop_word in stop_words:\n",
    "        if word != stop_word: #불용어가 아닐경우\n",
    "            word=word\n",
    "        else:\n",
    "            word=''\n",
    "    for symbol in symbols:\n",
    "        word.replace(symbol,'') # word 내에서의 특수문자 제거는 replace로 공백처리해준다\n",
    "    return word       \n",
    "            \n",
    "\n",
    "            "
   ]
  },
  {
   "cell_type": "code",
   "execution_count": 72,
   "metadata": {
    "collapsed": true
   },
   "outputs": [
    {
     "name": "stdout",
     "output_type": "stream",
     "text": [
      "python\n",
      "programming\n",
      "language,\n",
      "\n",
      "wikipedia\n",
      "python\n",
      "\n",
      "\n",
      "interpreted,\n",
      "high-level,\n",
      "general-purpose\n",
      "programming\n",
      "language.\n",
      "created\n",
      "\n",
      "guido\n",
      "van\n",
      "rossum\n",
      "\n",
      "first\n",
      "released\n",
      "\n",
      "1991,\n",
      "python's\n",
      "design\n",
      "philosophy\n",
      "emphasizes\n",
      "code\n",
      "readability\n",
      "\n",
      "its\n",
      "notable\n",
      "use\n",
      "\n",
      "significant\n",
      "whitespace.\n",
      "its\n",
      "language\n",
      "constructs\n",
      "\n",
      "object-oriented\n",
      "approach\n",
      "aims\n",
      "\n",
      "help\n",
      "programmers\n",
      "write\n",
      "clear,\n",
      "logical\n",
      "code\n",
      "\n",
      "small\n",
      "\n",
      "large-scale\n",
      "projects.[26]\n",
      "python\n",
      "\n",
      "dynamically\n",
      "typed\n",
      "\n",
      "garbage-collected.\n",
      "\n",
      "supports\n",
      "multiple\n",
      "programming\n",
      "paradigms,\n",
      "including\n",
      "procedural,\n",
      "object-oriented,\n",
      "\n",
      "functional\n",
      "programming.\n",
      "python\n",
      "\n",
      "often\n",
      "described\n",
      "\n",
      "\n",
      "\"batteries\n",
      "included\"\n",
      "language\n",
      "due\n",
      "\n",
      "its\n",
      "comprehensive\n",
      "standard\n",
      "library.[27]\n",
      "python\n",
      "\n",
      "conceived\n",
      "\n",
      "\n",
      "late\n",
      "1980s\n",
      "\n",
      "\n",
      "successor\n",
      "\n",
      "\n",
      "abc\n",
      "language.\n",
      "python\n",
      "2.0,\n",
      "released\n",
      "2000,\n",
      "introduced\n",
      "features\n",
      "like\n",
      "list\n",
      "comprehensions\n",
      "\n",
      "\n",
      "garbage\n",
      "collection\n",
      "system\n",
      "capable\n",
      "\n",
      "collecting\n",
      "reference\n",
      "cycles.\n",
      "python\n",
      "3.0,\n",
      "released\n",
      "2008,\n",
      "\n",
      "\n",
      "major\n",
      "revision\n",
      "\n",
      "\n",
      "language\n",
      "\n",
      "\n",
      "\n",
      "completely\n",
      "backward-compatible,\n",
      "\n",
      "much\n",
      "python\n",
      "2\n",
      "code\n",
      "does\n",
      "\n",
      "run\n",
      "unmodified\n",
      "\n",
      "python\n",
      "3.\n",
      "due\n",
      "\n",
      "concern\n",
      "about\n",
      "\n",
      "amount\n",
      "\n",
      "code\n",
      "written\n",
      "\n",
      "python\n",
      "2,\n",
      "support\n",
      "\n",
      "python\n",
      "2.7\n",
      "(the\n",
      "last\n",
      "release\n",
      "\n",
      "\n",
      "2.x\n",
      "series)\n",
      "\n",
      "extended\n",
      "\n",
      "2020.\n",
      "language\n",
      "developer\n",
      "guido\n",
      "van\n",
      "rossum\n",
      "shouldered\n",
      "sole\n",
      "responsibility\n",
      "\n",
      "\n",
      "project\n",
      "\n",
      "july\n",
      "2018\n",
      "\n",
      "now\n",
      "shares\n",
      "\n",
      "leadership\n",
      "\n",
      "\n",
      "member\n",
      "\n",
      "\n",
      "five-person\n",
      "steering\n",
      "council.[28][29][30]\n",
      "python\n",
      "interpreters\n",
      "\n",
      "available\n",
      "\n",
      "many\n",
      "operating\n",
      "systems.\n",
      "\n",
      "global\n",
      "community\n",
      "\n",
      "programmers\n",
      "develops\n",
      "\n",
      "maintains\n",
      "cpython,\n",
      "\n",
      "open\n",
      "source[31]\n",
      "reference\n",
      "implementation.\n",
      "\n",
      "non-profit\n",
      "organization,\n",
      "\n",
      "python\n",
      "software\n",
      "foundation,\n",
      "manages\n",
      "\n",
      "directs\n",
      "resources\n",
      "\n",
      "python\n",
      "\n",
      "cpython\n",
      "development.\n"
     ]
    }
   ],
   "source": [
    "file_opened = open('python_wikipedia.txt')\n",
    "for line in file_opened.readlines():\n",
    "    # 앞뒤 공백 제거 --> strip()\n",
    "    line = line.strip()\n",
    "    # print(line)\n",
    "    for word in line.split():\n",
    "        word = word_preprocess(word)\n",
    "        print(word)"
   ]
  },
  {
   "cell_type": "code",
   "execution_count": 73,
   "metadata": {},
   "outputs": [
    {
     "name": "stdout",
     "output_type": "stream",
     "text": [
      "{'python': 14, 'programming': 3, 'language,': 1, 'wikipedia': 1, 'interpreted,': 1, 'high-level,': 1, 'general-purpose': 1, 'language.': 2, 'created': 1, 'guido': 2, 'van': 2, 'rossum': 2, 'first': 1, 'released': 3, '1991,': 1, \"python's\": 1, 'design': 1, 'philosophy': 1, 'emphasizes': 1, 'code': 4, 'readability': 1, 'its': 3, 'notable': 1, 'use': 1, 'significant': 1, 'whitespace.': 1, 'language': 4, 'constructs': 1, 'object-oriented': 1, 'approach': 1, 'aims': 1, 'help': 1, 'programmers': 2, 'write': 1, 'clear,': 1, 'logical': 1, 'small': 1, 'large-scale': 1, 'projects.[26]': 1, 'dynamically': 1, 'typed': 1, 'garbage-collected.': 1, 'supports': 1, 'multiple': 1, 'paradigms,': 1, 'including': 1, 'procedural,': 1, 'object-oriented,': 1, 'functional': 1, 'programming.': 1, 'often': 1, 'described': 1, '\"batteries': 1, 'included\"': 1, 'due': 2, 'comprehensive': 1, 'standard': 1, 'library.[27]': 1, 'conceived': 1, 'late': 1, '1980s': 1, 'successor': 1, 'abc': 1, '2.0,': 1, '2000,': 1, 'introduced': 1, 'features': 1, 'like': 1, 'list': 1, 'comprehensions': 1, 'garbage': 1, 'collection': 1, 'system': 1, 'capable': 1, 'collecting': 1, 'reference': 2, 'cycles.': 1, '3.0,': 1, '2008,': 1, 'major': 1, 'revision': 1, 'completely': 1, 'backward-compatible,': 1, 'much': 1, '2': 1, 'does': 1, 'run': 1, 'unmodified': 1, '3.': 1, 'concern': 1, 'about': 1, 'amount': 1, 'written': 1, '2,': 1, 'support': 1, '2.7': 1, '(the': 1, 'last': 1, 'release': 1, '2.x': 1, 'series)': 1, 'extended': 1, '2020.': 1, 'developer': 1, 'shouldered': 1, 'sole': 1, 'responsibility': 1, 'project': 1, 'july': 1, '2018': 1, 'now': 1, 'shares': 1, 'leadership': 1, 'member': 1, 'five-person': 1, 'steering': 1, 'council.[28][29][30]': 1, 'interpreters': 1, 'available': 1, 'many': 1, 'operating': 1, 'systems.': 1, 'global': 1, 'community': 1, 'develops': 1, 'maintains': 1, 'cpython,': 1, 'open': 1, 'source[31]': 1, 'implementation.': 1, 'non-profit': 1, 'organization,': 1, 'software': 1, 'foundation,': 1, 'manages': 1, 'directs': 1, 'resources': 1, 'cpython': 1, 'development.': 1}\n"
     ]
    }
   ],
   "source": [
    "# 각 단어별로 몇 번씩 쓰였는지에 대한 딕셔너리를 만들고 싶다면?\n",
    "\n",
    "token_inx = {} # --> 빈 딕셔너리 생성\n",
    "file_opened = open('python_wikipedia.txt')\n",
    "for line in file_opened.readlines():\n",
    "    # 앞뒤 공백 제거 --> strip()\n",
    "    line = line.strip()\n",
    "    # print(line)\n",
    "    for word in line.split():\n",
    "        word = word_preprocess(word)\n",
    "        if word not in token_inx: # 토큰inx 안에 word에 해당하는 문자열이 없다면,(token_inx에서 key로 확인함)\n",
    "            if word != '': # 공백아닌 순수 단어라면\n",
    "                token_inx[word]=1 # 1은 value의 초기값으로 들어간다\n",
    "                #token_inx[word]=len(token_inx)+1\n",
    "        else:\n",
    "            token_inx[word]=token_inx[word]+1\n",
    "print(token_inx)"
   ]
  },
  {
   "cell_type": "code",
   "execution_count": 77,
   "metadata": {},
   "outputs": [
    {
     "data": {
      "text/plain": [
       "array([5.89396485, 4.31592703, 7.69912011])"
      ]
     },
     "execution_count": 77,
     "metadata": {},
     "output_type": "execute_result"
    }
   ],
   "source": [
    "# Nympy의 표본 추출 함수\n",
    "\n",
    "np.random.normal(5,size=3) # 정규분포로부터 3개의 랜덤 값을 생성해줌(평균 5를 만족하는)"
   ]
  },
  {
   "cell_type": "code",
   "execution_count": 78,
   "metadata": {},
   "outputs": [
    {
     "data": {
      "text/plain": [
       "array([-0.44701866,  0.42271748,  0.35076078, -0.15413394, -1.5020158 ,\n",
       "        1.30307833,  1.00748836,  0.06666045, -1.47430939, -0.39288867])"
      ]
     },
     "execution_count": 78,
     "metadata": {},
     "output_type": "execute_result"
    }
   ],
   "source": [
    "np.random.seed(708)\n",
    "np.random.normal(size=10)"
   ]
  },
  {
   "cell_type": "code",
   "execution_count": null,
   "metadata": {},
   "outputs": [],
   "source": [
    "#  binomial : 이항분포로부터 무작위 표본추출 \n",
    "# 이산형/ 연속형 확률 분포\n",
    "# 이산형(이항, 포아송)\n",
    "# 연속형 (정규, t분포, 균등, f, 카이제곱 등)\n",
    "\n",
    "# 성공1 실패0, 성공확률p, 베르누이 시행을 n번 수행, 성공하는 횟수를 x라 하면\n",
    "# 확률 변수x는 모수 n과 p인 이항 분포를 따른다 라고 표현한다\n",
    "# f(x) = nCx p^x (1-p)^n-x, x=0,1,...,n \n",
    "\n",
    "\n",
    "# n개 중 r개 추출 nCr (순서 상관x)\n",
    "# ex) 주사위 (5,3) 이나 (3,5) 같다\n",
    "\n",
    "# nCx 에서 x는 0부터 n까지 가지는 횟수\n"
   ]
  },
  {
   "cell_type": "code",
   "execution_count": 80,
   "metadata": {},
   "outputs": [
    {
     "data": {
      "text/plain": [
       "array([1, 0, 0, 1, 0, 0, 0, 0, 1, 0, 1, 0, 0, 1, 0, 1, 0, 0, 0, 0])"
      ]
     },
     "execution_count": 80,
     "metadata": {},
     "output_type": "execute_result"
    }
   ],
   "source": [
    "np.random.binomial(n=1,p=0.5,size=20)"
   ]
  },
  {
   "cell_type": "code",
   "execution_count": 81,
   "metadata": {},
   "outputs": [
    {
     "data": {
      "text/plain": [
       "0.45"
      ]
     },
     "execution_count": 81,
     "metadata": {},
     "output_type": "execute_result"
    }
   ],
   "source": [
    "sum(np.random.binomial(n=1,p=0.5,size=20)==1)/20"
   ]
  },
  {
   "cell_type": "code",
   "execution_count": 84,
   "metadata": {},
   "outputs": [
    {
     "data": {
      "text/plain": [
       "array([ 1.5370588 ,  2.39292138,  3.3512172 , -4.2842833 , -4.55406869,\n",
       "        4.24234311,  1.30057018,  0.895461  , -0.43727831, -0.14655071,\n",
       "       -0.56577133, -2.33287759,  2.6771022 , -3.47648854, -0.09214297,\n",
       "        3.32509782, -0.63574142,  0.18675766, -1.87080797, -1.21456478,\n",
       "       -0.43458814, -1.25167771, -2.20515387, -2.44936339,  3.98588931,\n",
       "        3.54156261, -2.49184564, -2.00578431,  3.46666957,  1.75534793,\n",
       "       -1.85587612,  4.11226051, -1.82249905,  5.08921616, -2.6942552 ,\n",
       "       -4.24375425,  7.36352146,  0.28220585, -0.27808825,  4.23707537,\n",
       "        1.80913906, -4.06653688, -0.92869466,  3.34404997,  2.04035521,\n",
       "        0.10898017,  0.98188226, -1.48505134,  1.14984669, -3.656114  ,\n",
       "        2.22571485, -1.75208816, -0.99799926,  0.7927612 ,  2.83020632,\n",
       "       -3.17093664, -0.63203011, -5.48890198,  2.8050894 , -3.95254499,\n",
       "       -0.53223889,  2.17131378,  0.20490759, -4.58187782, -1.97621464,\n",
       "        2.21116709, -1.9702217 ,  0.02622525, -1.37888258, -0.95812311,\n",
       "        1.84868425, -6.5452267 ,  2.62444453,  0.75852764, -5.52046425,\n",
       "       -0.12136669,  4.91738766, -1.57253926,  0.03851431, -1.10083278,\n",
       "       -0.38375785, -6.49273336, -1.76021681, -5.0190194 ,  0.09651377,\n",
       "       -2.97390807, -1.54356294, -2.96024478,  0.81027671,  4.04728577,\n",
       "        2.67444889,  0.0089457 , -3.19659911, -2.60323721,  5.70770909,\n",
       "        0.44529294, -1.47165341,  1.04946025, -2.92620596, -4.05711391])"
      ]
     },
     "execution_count": 84,
     "metadata": {},
     "output_type": "execute_result"
    }
   ],
   "source": [
    "# 정규분포를 따르는 난수를 발생\n",
    "# np.ramdom.normal(mu, sigma, size)\n",
    "np.random.normal(0,3,100)\n"
   ]
  },
  {
   "cell_type": "code",
   "execution_count": null,
   "metadata": {},
   "outputs": [],
   "source": []
  },
  {
   "cell_type": "code",
   "execution_count": null,
   "metadata": {},
   "outputs": [],
   "source": []
  },
  {
   "cell_type": "code",
   "execution_count": null,
   "metadata": {},
   "outputs": [],
   "source": []
  },
  {
   "cell_type": "code",
   "execution_count": null,
   "metadata": {},
   "outputs": [],
   "source": []
  },
  {
   "cell_type": "code",
   "execution_count": null,
   "metadata": {},
   "outputs": [],
   "source": []
  },
  {
   "cell_type": "code",
   "execution_count": null,
   "metadata": {},
   "outputs": [],
   "source": []
  },
  {
   "cell_type": "code",
   "execution_count": null,
   "metadata": {},
   "outputs": [],
   "source": []
  },
  {
   "cell_type": "code",
   "execution_count": null,
   "metadata": {},
   "outputs": [],
   "source": []
  }
 ],
 "metadata": {
  "kernelspec": {
   "display_name": "Python 3",
   "language": "python",
   "name": "python3"
  },
  "language_info": {
   "codemirror_mode": {
    "name": "ipython",
    "version": 3
   },
   "file_extension": ".py",
   "mimetype": "text/x-python",
   "name": "python",
   "nbconvert_exporter": "python",
   "pygments_lexer": "ipython3",
   "version": "3.7.3"
  }
 },
 "nbformat": 4,
 "nbformat_minor": 2
}
