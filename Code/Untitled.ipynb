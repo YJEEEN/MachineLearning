{
 "cells": [
  {
   "cell_type": "code",
   "execution_count": 1,
   "metadata": {},
   "outputs": [
    {
     "name": "stdout",
     "output_type": "stream",
     "text": [
      "\t **************************************\n",
      "\t Report Time : 20190807 1700\n",
      "\t **************************************\n"
     ]
    }
   ],
   "source": [
    "# -*- coding: utf-8 -*-\n",
    "import datetime as dt\n",
    "import requests as req\n",
    "from bs4 import BeautifulSoup\n",
    " \n",
    "w_items = {\"POP\":[\"강수확률\", \"%\"], \"PTY\":[\"강수형태\", \"\"], \"R06\":[\"6시간 강수량\", \"mm\"], \"REH\":[\"습도\", \"%\"], \"S06\":[\"6시간 신적설\", \"cm\"], \n",
    "           \"SKY\":[\"하늘상태\", \"\"], \"T3H\":[\"3시간 기온\", \"°C\"], \"TMN\":[\"아침 최저 기온\", \"°C\"], \"TMX\":[\"낮 최고 기온\", \"°C\"], \n",
    "           \"UUU\":[\"풍속(동서성분)\",\"m/s\"], \"VVV\":[\"풍속(남북성분)\",\"m/s\"], \"WAV\":[\"파고\", \"m\"], \"VEC\":[\"풍향\", \"\"], \"WSD\":[\"풍속\", \"m/s\"]}\n",
    "wind_dict = {0:\"N\",1:\"NNE\",2:\"NE\",3:\"ENE\",4:\"E\",5:\"ESE\",6:\"SE\",7:\"SSE\",8:\"S\",9:\"SSW\",10:\"SW\",11:\"WSW\",12:\"W\",13:\"WNW\",14:\"NW\",15:\"NNW\",16:\"N\"}\n",
    "rain_dict = {0:\"없음\", 1:\"비\", 2:\"진눈깨비\", 3:\"눈\"}\n",
    " \n",
    "# 가장 최근의 기상청 예보 시간(02:10 이후 3시간 단위) get\n",
    "def get_rpt_time():\n",
    "    base_time = dt.datetime.now() - dt.timedelta(hours=2) - dt.timedelta(minutes=10)\n",
    "    hour = int(base_time.strftime(\"%H\"))\n",
    "    rehour = str(hour//3*3 + 2).zfill(2)\n",
    "    return [base_time.strftime(\"%Y%m%d\"), rehour + \"00\"]\n",
    " \n",
    "# 풍향 계산용\n",
    "def get_wind_type(i):\n",
    "    return wind_dict[(i + 22.5 * 0.5)//22.5]\n",
    " \n",
    "def get_sky_status(i):\n",
    "    if i >= 0 and i <= 2: return \"맑음\"\n",
    "    elif i >= 3 and i <= 5: return \"구름조금\"\n",
    "    elif i >= 6 and i <= 8: return \"구름많음\"\n",
    "    elif i >= 9 and i <= 10: return \"흐림\"\n",
    " \n",
    "def get_real_value(c, s):\n",
    "    if c.string == \"VEC\":\n",
    "        return get_wind_type(int(s.string))\n",
    "    elif c.string == \"SKY\":\n",
    "        return get_sky_status(int(s.string))\n",
    "    elif c.string == \"PTY\":\n",
    "        return rain_dict[int(s.string)]\n",
    "    return s.string\n",
    " \n",
    "# have to change with your service_key\n",
    "service_key = \"MJqwsP2VlmHlaRh0BMwMAtDvhfFu6k59h%2B1Svp2A%.......\"\n",
    "nx = 60    # 서울 기준\n",
    "ny = 127   # 서울 기준\n",
    " \n",
    "date = get_rpt_time()\n",
    " \n",
    "base_url = \"http://newsky2.kma.go.kr/service/SecndSrtpdFrcstInfoService2/ForecastSpaceData?ServiceKey={}&base_date={}&base_time={}&nx={}&ny={}\"\n",
    "url = base_url.format(service_key, date[0], date[1], nx, ny)\n",
    " \n",
    "contents = req.get(url)\n",
    "weather = BeautifulSoup(contents.content, 'lxml-xml')\n",
    " \n",
    "print(\"\\t **************************************\")\n",
    "print(\"\\t Report Time :\", date[0], date[1])\n",
    "print(\"\\t **************************************\")\n",
    "for item in weather.find_all(\"item\"):\n",
    "    print(\"\\t\", w_items[item.category.string][0], \" : \", get_real_value(item.category, item.fcstValue), end = \"\")\n",
    "    if w_items[item.category.string][1] != \"\":\n",
    "        print(w_items[item.category.string][1])\n",
    "    else:\n",
    "        print()"
   ]
  },
  {
   "cell_type": "code",
   "execution_count": null,
   "metadata": {},
   "outputs": [],
   "source": []
  }
 ],
 "metadata": {
  "kernelspec": {
   "display_name": "Python 3",
   "language": "python",
   "name": "python3"
  },
  "language_info": {
   "codemirror_mode": {
    "name": "ipython",
    "version": 3
   },
   "file_extension": ".py",
   "mimetype": "text/x-python",
   "name": "python",
   "nbconvert_exporter": "python",
   "pygments_lexer": "ipython3",
   "version": "3.7.3"
  }
 },
 "nbformat": 4,
 "nbformat_minor": 2
}
