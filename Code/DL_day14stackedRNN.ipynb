{
  "nbformat": 4,
  "nbformat_minor": 0,
  "metadata": {
    "colab": {
      "name": "stackedRNN.ipynb",
      "version": "0.3.2",
      "provenance": [],
      "collapsed_sections": [
        "PMkcedlMjwev"
      ],
      "toc_visible": true
    },
    "kernelspec": {
      "name": "python3",
      "display_name": "Python 3"
    }
  },
  "cells": [
    {
      "cell_type": "markdown",
      "metadata": {
        "id": "PMkcedlMjwev",
        "colab_type": "text"
      },
      "source": [
        "# MODEL Validation code"
      ]
    },
    {
      "cell_type": "code",
      "metadata": {
        "id": "pOagyNdEdCoy",
        "colab_type": "code",
        "colab": {
          "base_uri": "https://localhost:8080/",
          "height": 1000
        },
        "outputId": "27a544d5-b43e-420b-ba75-4387c989c28f"
      },
      "source": [
        "from keras.utils import np_utils\n",
        "from keras.datasets import mnist\n",
        "from keras.models import Sequential\n",
        "from keras.layers import Dense, Activation\n",
        "import numpy as np\n",
        "\n",
        "np.random.seed(3)\n",
        "\n",
        "# 1. 데이터셋 준비하기\n",
        "\n",
        "# 훈련셋과 시험셋 로딩\n",
        "(X_train, Y_train), (X_test, Y_test) = mnist.load_data()\n",
        "\n",
        "# 훈련셋과 검증셋 분리\n",
        "X_val = X_train[50000:]\n",
        "Y_val = Y_train[50000:]\n",
        "X_train = X_train[:50000]\n",
        "Y_train = Y_train[:50000]\n",
        "\n",
        "X_train = X_train.reshape(50000, 784).astype('float32') / 255.0\n",
        "X_val = X_val.reshape(10000, 784).astype('float32') / 255.0\n",
        "X_test = X_test.reshape(10000, 784).astype('float32') / 255.0\n",
        "\n",
        "# 훈련셋, 검증셋 고르기\n",
        "train_rand_idxs = np.random.choice(50000, 700)\n",
        "val_rand_idxs = np.random.choice(10000, 300)\n",
        "\n",
        "X_train = X_train[train_rand_idxs]\n",
        "Y_train = Y_train[train_rand_idxs]\n",
        "X_val = X_val[val_rand_idxs]\n",
        "Y_val = Y_val[val_rand_idxs]\n",
        "\n",
        "# 라벨링 전환\n",
        "Y_train = np_utils.to_categorical(Y_train)\n",
        "Y_val = np_utils.to_categorical(Y_val)\n",
        "Y_test = np_utils.to_categorical(Y_test)\n",
        "\n",
        "# 2. 모델 구성하기\n",
        "model = Sequential()\n",
        "model.add(Dense(units=2, input_dim=28*28, activation='relu'))\n",
        "model.add(Dense(units=10, activation='softmax'))\n",
        "\n",
        "# 3. 모델 엮기\n",
        "model.compile(loss='categorical_crossentropy', optimizer='sgd', metrics=['accuracy'])\n",
        "\n",
        "# 4. 모델 학습시키기\n",
        "from keras.callbacks import EarlyStopping\n",
        "es=EarlyStopping(patience=10) # 조기 종료하는 콜백함수 객체 # patience옵션은 성능 개선이 안되더라도, 훈련을 더 실행할지에 대한 크기를 설정해주는 옵션\n",
        "hist = model.fit(X_train, Y_train, callbacks=[es], epochs=1000, batch_size=10, validation_data=(X_val, Y_val))\n",
        "\n",
        "# 5. 모델 학습 과정 표시하기\n",
        "%matplotlib inline\n",
        "import matplotlib.pyplot as plt\n",
        "\n",
        "fig, loss_ax = plt.subplots()\n",
        "\n",
        "acc_ax = loss_ax.twinx()\n",
        "\n",
        "loss_ax.plot(hist.history['loss'], 'y', label='train loss')\n",
        "loss_ax.plot(hist.history['val_loss'], 'r', label='val loss')\n",
        "\n",
        "acc_ax.plot(hist.history['acc'], 'b', label='train acc')\n",
        "acc_ax.plot(hist.history['val_acc'], 'g', label='val acc')\n",
        "\n",
        "loss_ax.set_xlabel('epoch')\n",
        "loss_ax.set_ylabel('loss')\n",
        "acc_ax.set_ylabel('accuray')\n",
        "\n",
        "loss_ax.legend(loc='upper left')\n",
        "acc_ax.legend(loc='lower left')\n",
        "\n",
        "plt.show()"
      ],
      "execution_count": 4,
      "outputs": [
        {
          "output_type": "stream",
          "text": [
            "Train on 700 samples, validate on 300 samples\n",
            "Epoch 1/1000\n",
            "700/700 [==============================] - 0s 394us/step - loss: 2.2576 - acc: 0.1643 - val_loss: 2.2272 - val_acc: 0.1633\n",
            "Epoch 2/1000\n",
            "700/700 [==============================] - 0s 123us/step - loss: 2.2072 - acc: 0.1657 - val_loss: 2.1908 - val_acc: 0.1800\n",
            "Epoch 3/1000\n",
            "700/700 [==============================] - 0s 132us/step - loss: 2.1730 - acc: 0.1729 - val_loss: 2.1630 - val_acc: 0.1867\n",
            "Epoch 4/1000\n",
            "700/700 [==============================] - 0s 135us/step - loss: 2.1441 - acc: 0.1786 - val_loss: 2.1372 - val_acc: 0.1867\n",
            "Epoch 5/1000\n",
            "700/700 [==============================] - 0s 133us/step - loss: 2.1177 - acc: 0.1914 - val_loss: 2.1141 - val_acc: 0.1867\n",
            "Epoch 6/1000\n",
            "700/700 [==============================] - 0s 133us/step - loss: 2.0940 - acc: 0.2029 - val_loss: 2.0931 - val_acc: 0.2033\n",
            "Epoch 7/1000\n",
            "700/700 [==============================] - 0s 135us/step - loss: 2.0719 - acc: 0.2086 - val_loss: 2.0727 - val_acc: 0.2067\n",
            "Epoch 8/1000\n",
            "700/700 [==============================] - 0s 133us/step - loss: 2.0521 - acc: 0.2143 - val_loss: 2.0563 - val_acc: 0.2067\n",
            "Epoch 9/1000\n",
            "700/700 [==============================] - 0s 135us/step - loss: 2.0342 - acc: 0.2157 - val_loss: 2.0409 - val_acc: 0.2033\n",
            "Epoch 10/1000\n",
            "700/700 [==============================] - 0s 135us/step - loss: 2.0188 - acc: 0.2129 - val_loss: 2.0271 - val_acc: 0.2067\n",
            "Epoch 11/1000\n",
            "700/700 [==============================] - 0s 133us/step - loss: 2.0042 - acc: 0.2200 - val_loss: 2.0125 - val_acc: 0.2100\n",
            "Epoch 12/1000\n",
            "700/700 [==============================] - 0s 135us/step - loss: 1.9912 - acc: 0.2186 - val_loss: 2.0036 - val_acc: 0.2100\n",
            "Epoch 13/1000\n",
            "700/700 [==============================] - 0s 136us/step - loss: 1.9788 - acc: 0.2286 - val_loss: 1.9957 - val_acc: 0.2100\n",
            "Epoch 14/1000\n",
            "700/700 [==============================] - 0s 139us/step - loss: 1.9685 - acc: 0.2329 - val_loss: 1.9832 - val_acc: 0.2067\n",
            "Epoch 15/1000\n",
            "700/700 [==============================] - 0s 143us/step - loss: 1.9582 - acc: 0.2214 - val_loss: 1.9752 - val_acc: 0.2100\n",
            "Epoch 16/1000\n",
            "700/700 [==============================] - 0s 124us/step - loss: 1.9484 - acc: 0.2357 - val_loss: 1.9685 - val_acc: 0.2000\n",
            "Epoch 17/1000\n",
            "700/700 [==============================] - 0s 134us/step - loss: 1.9393 - acc: 0.2329 - val_loss: 1.9609 - val_acc: 0.2033\n",
            "Epoch 18/1000\n",
            "700/700 [==============================] - 0s 120us/step - loss: 1.9309 - acc: 0.2300 - val_loss: 1.9535 - val_acc: 0.2100\n",
            "Epoch 19/1000\n",
            "700/700 [==============================] - 0s 133us/step - loss: 1.9232 - acc: 0.2286 - val_loss: 1.9451 - val_acc: 0.2100\n",
            "Epoch 20/1000\n",
            "700/700 [==============================] - 0s 130us/step - loss: 1.9156 - acc: 0.2386 - val_loss: 1.9391 - val_acc: 0.2100\n",
            "Epoch 21/1000\n",
            "700/700 [==============================] - 0s 129us/step - loss: 1.9085 - acc: 0.2329 - val_loss: 1.9362 - val_acc: 0.2067\n",
            "Epoch 22/1000\n",
            "700/700 [==============================] - 0s 139us/step - loss: 1.9011 - acc: 0.2386 - val_loss: 1.9289 - val_acc: 0.2033\n",
            "Epoch 23/1000\n",
            "700/700 [==============================] - 0s 140us/step - loss: 1.8954 - acc: 0.2357 - val_loss: 1.9233 - val_acc: 0.2100\n",
            "Epoch 24/1000\n",
            "700/700 [==============================] - 0s 138us/step - loss: 1.8895 - acc: 0.2314 - val_loss: 1.9208 - val_acc: 0.2100\n",
            "Epoch 25/1000\n",
            "700/700 [==============================] - 0s 133us/step - loss: 1.8830 - acc: 0.2343 - val_loss: 1.9181 - val_acc: 0.2167\n",
            "Epoch 26/1000\n",
            "700/700 [==============================] - 0s 126us/step - loss: 1.8769 - acc: 0.2286 - val_loss: 1.9108 - val_acc: 0.2167\n",
            "Epoch 27/1000\n",
            "700/700 [==============================] - 0s 129us/step - loss: 1.8715 - acc: 0.2357 - val_loss: 1.9100 - val_acc: 0.2167\n",
            "Epoch 28/1000\n",
            "700/700 [==============================] - 0s 131us/step - loss: 1.8662 - acc: 0.2400 - val_loss: 1.9095 - val_acc: 0.2000\n",
            "Epoch 29/1000\n",
            "700/700 [==============================] - 0s 140us/step - loss: 1.8615 - acc: 0.2400 - val_loss: 1.9043 - val_acc: 0.1867\n",
            "Epoch 30/1000\n",
            "700/700 [==============================] - 0s 120us/step - loss: 1.8565 - acc: 0.2243 - val_loss: 1.8978 - val_acc: 0.2167\n",
            "Epoch 31/1000\n",
            "700/700 [==============================] - 0s 136us/step - loss: 1.8513 - acc: 0.2471 - val_loss: 1.8968 - val_acc: 0.1933\n",
            "Epoch 32/1000\n",
            "700/700 [==============================] - 0s 126us/step - loss: 1.8463 - acc: 0.2357 - val_loss: 1.8926 - val_acc: 0.1900\n",
            "Epoch 33/1000\n",
            "700/700 [==============================] - 0s 128us/step - loss: 1.8423 - acc: 0.2229 - val_loss: 1.8875 - val_acc: 0.2067\n",
            "Epoch 34/1000\n",
            "700/700 [==============================] - 0s 126us/step - loss: 1.8383 - acc: 0.2371 - val_loss: 1.8808 - val_acc: 0.1933\n",
            "Epoch 35/1000\n",
            "700/700 [==============================] - 0s 128us/step - loss: 1.8336 - acc: 0.2471 - val_loss: 1.8836 - val_acc: 0.1900\n",
            "Epoch 36/1000\n",
            "700/700 [==============================] - 0s 131us/step - loss: 1.8299 - acc: 0.2343 - val_loss: 1.8756 - val_acc: 0.1967\n",
            "Epoch 37/1000\n",
            "700/700 [==============================] - 0s 128us/step - loss: 1.8257 - acc: 0.2486 - val_loss: 1.8745 - val_acc: 0.1800\n",
            "Epoch 38/1000\n",
            "700/700 [==============================] - 0s 126us/step - loss: 1.8220 - acc: 0.2357 - val_loss: 1.8700 - val_acc: 0.1933\n",
            "Epoch 39/1000\n",
            "700/700 [==============================] - 0s 138us/step - loss: 1.8184 - acc: 0.2457 - val_loss: 1.8706 - val_acc: 0.1733\n",
            "Epoch 40/1000\n",
            "700/700 [==============================] - 0s 128us/step - loss: 1.8144 - acc: 0.2314 - val_loss: 1.8678 - val_acc: 0.2033\n",
            "Epoch 41/1000\n",
            "700/700 [==============================] - 0s 131us/step - loss: 1.8105 - acc: 0.2400 - val_loss: 1.8668 - val_acc: 0.1833\n",
            "Epoch 42/1000\n",
            "700/700 [==============================] - 0s 125us/step - loss: 1.8076 - acc: 0.2471 - val_loss: 1.8636 - val_acc: 0.1800\n",
            "Epoch 43/1000\n",
            "700/700 [==============================] - 0s 132us/step - loss: 1.8046 - acc: 0.2429 - val_loss: 1.8618 - val_acc: 0.1700\n",
            "Epoch 44/1000\n",
            "700/700 [==============================] - 0s 125us/step - loss: 1.8002 - acc: 0.2414 - val_loss: 1.8570 - val_acc: 0.1933\n",
            "Epoch 45/1000\n",
            "700/700 [==============================] - 0s 124us/step - loss: 1.7970 - acc: 0.2429 - val_loss: 1.8567 - val_acc: 0.1700\n",
            "Epoch 46/1000\n",
            "700/700 [==============================] - 0s 130us/step - loss: 1.7939 - acc: 0.2271 - val_loss: 1.8531 - val_acc: 0.1900\n",
            "Epoch 47/1000\n",
            "700/700 [==============================] - 0s 124us/step - loss: 1.7914 - acc: 0.2614 - val_loss: 1.8554 - val_acc: 0.1833\n",
            "Epoch 48/1000\n",
            "700/700 [==============================] - 0s 128us/step - loss: 1.7886 - acc: 0.2471 - val_loss: 1.8545 - val_acc: 0.1833\n",
            "Epoch 49/1000\n",
            "700/700 [==============================] - 0s 130us/step - loss: 1.7858 - acc: 0.2500 - val_loss: 1.8513 - val_acc: 0.1833\n",
            "Epoch 50/1000\n",
            "700/700 [==============================] - 0s 125us/step - loss: 1.7819 - acc: 0.2471 - val_loss: 1.8444 - val_acc: 0.2267\n",
            "Epoch 51/1000\n",
            "700/700 [==============================] - 0s 125us/step - loss: 1.7794 - acc: 0.2643 - val_loss: 1.8469 - val_acc: 0.1900\n",
            "Epoch 52/1000\n",
            "700/700 [==============================] - 0s 135us/step - loss: 1.7762 - acc: 0.2514 - val_loss: 1.8412 - val_acc: 0.1933\n",
            "Epoch 53/1000\n",
            "700/700 [==============================] - 0s 127us/step - loss: 1.7745 - acc: 0.2529 - val_loss: 1.8478 - val_acc: 0.2000\n",
            "Epoch 54/1000\n",
            "700/700 [==============================] - 0s 135us/step - loss: 1.7716 - acc: 0.2686 - val_loss: 1.8469 - val_acc: 0.1833\n",
            "Epoch 55/1000\n",
            "700/700 [==============================] - 0s 130us/step - loss: 1.7687 - acc: 0.2500 - val_loss: 1.8362 - val_acc: 0.2067\n",
            "Epoch 56/1000\n",
            "700/700 [==============================] - 0s 122us/step - loss: 1.7673 - acc: 0.2529 - val_loss: 1.8413 - val_acc: 0.2233\n",
            "Epoch 57/1000\n",
            "700/700 [==============================] - 0s 129us/step - loss: 1.7640 - acc: 0.2714 - val_loss: 1.8389 - val_acc: 0.2167\n",
            "Epoch 58/1000\n",
            "700/700 [==============================] - 0s 127us/step - loss: 1.7616 - acc: 0.2571 - val_loss: 1.8346 - val_acc: 0.2267\n",
            "Epoch 59/1000\n",
            "700/700 [==============================] - 0s 122us/step - loss: 1.7590 - acc: 0.2686 - val_loss: 1.8329 - val_acc: 0.2200\n",
            "Epoch 60/1000\n",
            "700/700 [==============================] - 0s 135us/step - loss: 1.7553 - acc: 0.2614 - val_loss: 1.8257 - val_acc: 0.2467\n",
            "Epoch 61/1000\n",
            "700/700 [==============================] - 0s 123us/step - loss: 1.7567 - acc: 0.2829 - val_loss: 1.8336 - val_acc: 0.2400\n",
            "Epoch 62/1000\n",
            "700/700 [==============================] - 0s 124us/step - loss: 1.7532 - acc: 0.2729 - val_loss: 1.8313 - val_acc: 0.2267\n",
            "Epoch 63/1000\n",
            "700/700 [==============================] - 0s 135us/step - loss: 1.7505 - acc: 0.2843 - val_loss: 1.8300 - val_acc: 0.2000\n",
            "Epoch 64/1000\n",
            "700/700 [==============================] - 0s 127us/step - loss: 1.7485 - acc: 0.2800 - val_loss: 1.8267 - val_acc: 0.2200\n",
            "Epoch 65/1000\n",
            "700/700 [==============================] - 0s 131us/step - loss: 1.7459 - acc: 0.2829 - val_loss: 1.8289 - val_acc: 0.2000\n",
            "Epoch 66/1000\n",
            "700/700 [==============================] - 0s 126us/step - loss: 1.7440 - acc: 0.2771 - val_loss: 1.8293 - val_acc: 0.2067\n",
            "Epoch 67/1000\n",
            "700/700 [==============================] - 0s 147us/step - loss: 1.7421 - acc: 0.2700 - val_loss: 1.8292 - val_acc: 0.2067\n",
            "Epoch 68/1000\n",
            "700/700 [==============================] - 0s 122us/step - loss: 1.7405 - acc: 0.2729 - val_loss: 1.8231 - val_acc: 0.2000\n",
            "Epoch 69/1000\n",
            "700/700 [==============================] - 0s 123us/step - loss: 1.7378 - acc: 0.2814 - val_loss: 1.8282 - val_acc: 0.2167\n",
            "Epoch 70/1000\n",
            "700/700 [==============================] - 0s 127us/step - loss: 1.7358 - acc: 0.2857 - val_loss: 1.8273 - val_acc: 0.2433\n",
            "Epoch 71/1000\n",
            "700/700 [==============================] - 0s 123us/step - loss: 1.7347 - acc: 0.2800 - val_loss: 1.8216 - val_acc: 0.2167\n",
            "Epoch 72/1000\n",
            "700/700 [==============================] - 0s 129us/step - loss: 1.7329 - acc: 0.2829 - val_loss: 1.8210 - val_acc: 0.2100\n",
            "Epoch 73/1000\n",
            "700/700 [==============================] - 0s 127us/step - loss: 1.7301 - acc: 0.2829 - val_loss: 1.8248 - val_acc: 0.2433\n",
            "Epoch 74/1000\n",
            "700/700 [==============================] - 0s 127us/step - loss: 1.7286 - acc: 0.2857 - val_loss: 1.8252 - val_acc: 0.1967\n",
            "Epoch 75/1000\n",
            "700/700 [==============================] - 0s 142us/step - loss: 1.7271 - acc: 0.2771 - val_loss: 1.8185 - val_acc: 0.2233\n",
            "Epoch 76/1000\n",
            "700/700 [==============================] - 0s 124us/step - loss: 1.7257 - acc: 0.2871 - val_loss: 1.8184 - val_acc: 0.2233\n",
            "Epoch 77/1000\n",
            "700/700 [==============================] - 0s 133us/step - loss: 1.7230 - acc: 0.3029 - val_loss: 1.8230 - val_acc: 0.2000\n",
            "Epoch 78/1000\n",
            "700/700 [==============================] - 0s 132us/step - loss: 1.7215 - acc: 0.2857 - val_loss: 1.8183 - val_acc: 0.1933\n",
            "Epoch 79/1000\n",
            "700/700 [==============================] - 0s 123us/step - loss: 1.7201 - acc: 0.2814 - val_loss: 1.8179 - val_acc: 0.2433\n",
            "Epoch 80/1000\n",
            "700/700 [==============================] - 0s 124us/step - loss: 1.7191 - acc: 0.2957 - val_loss: 1.8182 - val_acc: 0.2067\n",
            "Epoch 81/1000\n",
            "700/700 [==============================] - 0s 125us/step - loss: 1.7168 - acc: 0.2800 - val_loss: 1.8244 - val_acc: 0.2067\n",
            "Epoch 82/1000\n",
            "700/700 [==============================] - 0s 132us/step - loss: 1.7144 - acc: 0.2800 - val_loss: 1.8141 - val_acc: 0.2667\n",
            "Epoch 83/1000\n",
            "700/700 [==============================] - 0s 131us/step - loss: 1.7135 - acc: 0.2857 - val_loss: 1.8185 - val_acc: 0.2400\n",
            "Epoch 84/1000\n",
            "700/700 [==============================] - 0s 126us/step - loss: 1.7127 - acc: 0.2957 - val_loss: 1.8196 - val_acc: 0.2167\n",
            "Epoch 85/1000\n",
            "700/700 [==============================] - 0s 142us/step - loss: 1.7101 - acc: 0.3014 - val_loss: 1.8151 - val_acc: 0.2267\n",
            "Epoch 86/1000\n",
            "700/700 [==============================] - 0s 137us/step - loss: 1.7083 - acc: 0.2829 - val_loss: 1.8130 - val_acc: 0.2633\n",
            "Epoch 87/1000\n",
            "700/700 [==============================] - 0s 142us/step - loss: 1.7054 - acc: 0.3071 - val_loss: 1.8187 - val_acc: 0.2733\n",
            "Epoch 88/1000\n",
            "700/700 [==============================] - 0s 128us/step - loss: 1.7065 - acc: 0.3029 - val_loss: 1.8117 - val_acc: 0.2433\n",
            "Epoch 89/1000\n",
            "700/700 [==============================] - 0s 134us/step - loss: 1.7046 - acc: 0.3043 - val_loss: 1.8158 - val_acc: 0.2167\n",
            "Epoch 90/1000\n",
            "700/700 [==============================] - 0s 125us/step - loss: 1.7030 - acc: 0.2829 - val_loss: 1.8142 - val_acc: 0.2233\n",
            "Epoch 91/1000\n",
            "700/700 [==============================] - 0s 126us/step - loss: 1.7019 - acc: 0.3086 - val_loss: 1.8177 - val_acc: 0.2200\n",
            "Epoch 92/1000\n",
            "700/700 [==============================] - 0s 144us/step - loss: 1.6989 - acc: 0.3129 - val_loss: 1.8206 - val_acc: 0.2067\n",
            "Epoch 93/1000\n",
            "700/700 [==============================] - 0s 127us/step - loss: 1.6983 - acc: 0.3043 - val_loss: 1.8166 - val_acc: 0.2767\n",
            "Epoch 94/1000\n",
            "700/700 [==============================] - 0s 126us/step - loss: 1.6971 - acc: 0.3157 - val_loss: 1.8166 - val_acc: 0.2100\n",
            "Epoch 95/1000\n",
            "700/700 [==============================] - 0s 128us/step - loss: 1.6945 - acc: 0.3000 - val_loss: 1.8187 - val_acc: 0.2833\n",
            "Epoch 96/1000\n",
            "700/700 [==============================] - 0s 139us/step - loss: 1.6950 - acc: 0.3014 - val_loss: 1.8088 - val_acc: 0.2233\n",
            "Epoch 97/1000\n",
            "700/700 [==============================] - 0s 149us/step - loss: 1.6932 - acc: 0.3057 - val_loss: 1.8223 - val_acc: 0.2300\n",
            "Epoch 98/1000\n",
            "700/700 [==============================] - 0s 135us/step - loss: 1.6923 - acc: 0.3057 - val_loss: 1.8111 - val_acc: 0.2200\n",
            "Epoch 99/1000\n",
            "700/700 [==============================] - 0s 129us/step - loss: 1.6903 - acc: 0.3129 - val_loss: 1.8225 - val_acc: 0.2233\n",
            "Epoch 100/1000\n",
            "700/700 [==============================] - 0s 129us/step - loss: 1.6892 - acc: 0.3100 - val_loss: 1.8207 - val_acc: 0.2267\n",
            "Epoch 101/1000\n",
            "700/700 [==============================] - 0s 128us/step - loss: 1.6880 - acc: 0.3129 - val_loss: 1.8188 - val_acc: 0.2200\n",
            "Epoch 102/1000\n",
            "700/700 [==============================] - 0s 140us/step - loss: 1.6880 - acc: 0.3014 - val_loss: 1.8209 - val_acc: 0.2300\n",
            "Epoch 103/1000\n",
            "700/700 [==============================] - 0s 124us/step - loss: 1.6845 - acc: 0.3000 - val_loss: 1.8094 - val_acc: 0.2500\n",
            "Epoch 104/1000\n",
            "700/700 [==============================] - 0s 131us/step - loss: 1.6845 - acc: 0.3200 - val_loss: 1.8116 - val_acc: 0.2200\n",
            "Epoch 105/1000\n",
            "700/700 [==============================] - 0s 142us/step - loss: 1.6822 - acc: 0.3086 - val_loss: 1.8051 - val_acc: 0.2033\n",
            "Epoch 106/1000\n",
            "700/700 [==============================] - 0s 132us/step - loss: 1.6817 - acc: 0.3129 - val_loss: 1.8167 - val_acc: 0.2200\n",
            "Epoch 107/1000\n",
            "700/700 [==============================] - 0s 129us/step - loss: 1.6807 - acc: 0.3071 - val_loss: 1.8215 - val_acc: 0.2367\n",
            "Epoch 108/1000\n",
            "700/700 [==============================] - 0s 131us/step - loss: 1.6786 - acc: 0.3057 - val_loss: 1.8164 - val_acc: 0.2767\n",
            "Epoch 109/1000\n",
            "700/700 [==============================] - 0s 127us/step - loss: 1.6785 - acc: 0.3143 - val_loss: 1.8175 - val_acc: 0.2333\n",
            "Epoch 110/1000\n",
            "700/700 [==============================] - 0s 162us/step - loss: 1.6778 - acc: 0.3157 - val_loss: 1.8143 - val_acc: 0.2133\n",
            "Epoch 111/1000\n",
            "700/700 [==============================] - 0s 135us/step - loss: 1.6778 - acc: 0.3043 - val_loss: 1.8170 - val_acc: 0.2233\n",
            "Epoch 112/1000\n",
            "700/700 [==============================] - 0s 139us/step - loss: 1.6747 - acc: 0.3129 - val_loss: 1.8194 - val_acc: 0.2233\n",
            "Epoch 113/1000\n",
            "700/700 [==============================] - 0s 138us/step - loss: 1.6740 - acc: 0.3071 - val_loss: 1.8194 - val_acc: 0.2300\n",
            "Epoch 114/1000\n",
            "700/700 [==============================] - 0s 142us/step - loss: 1.6726 - acc: 0.3000 - val_loss: 1.8219 - val_acc: 0.2300\n",
            "Epoch 115/1000\n",
            "700/700 [==============================] - 0s 130us/step - loss: 1.6713 - acc: 0.3086 - val_loss: 1.8127 - val_acc: 0.2333\n"
          ],
          "name": "stdout"
        },
        {
          "output_type": "display_data",
          "data": {
            "image/png": "[encoded data removed]",
            "text/plain": [
              "<Figure size 432x288 with 2 Axes>"
            ]
          },
          "metadata": {
            "tags": []
          }
        }
      ]
    },
    {
      "cell_type": "markdown",
      "metadata": {
        "id": "PO6kfHQtj3gg",
        "colab_type": "text"
      },
      "source": [
        "# Stacked RNN"
      ]
    },
    {
      "cell_type": "code",
      "metadata": {
        "id": "JSt6pe-1dKjf",
        "colab_type": "code",
        "colab": {
          "base_uri": "https://localhost:8080/",
          "height": 55
        },
        "outputId": "1415bbb9-0d5a-4dc1-8757-56158343f546"
      },
      "source": [
        "sentence=(\"The regret after not doing something is bigger than that of doing something \"\n",
        "            \"Ability is decided by one's own effort \"\n",
        "            \"The difficulty in life is the choice.\")\n",
        "\n",
        "sentence"
      ],
      "execution_count": 108,
      "outputs": [
        {
          "output_type": "execute_result",
          "data": {
            "text/plain": [
              "\"The regret after not doing something is bigger than that of doing something Ability is decided by one's own effort The difficulty in life is the choice.\""
            ]
          },
          "metadata": {
            "tags": []
          },
          "execution_count": 108
        }
      ]
    },
    {
      "cell_type": "code",
      "metadata": {
        "id": "aeIMy0o7kDHy",
        "colab_type": "code",
        "colab": {}
      },
      "source": [
        "import numpy as np\n",
        "import tensorflow as tf\n",
        "from tensorflow.contrib import rnn"
      ],
      "execution_count": 0,
      "outputs": []
    },
    {
      "cell_type": "code",
      "metadata": {
        "id": "S12K7xT_oROi",
        "colab_type": "code",
        "colab": {}
      },
      "source": [
        "tf.reset_default_graph()"
      ],
      "execution_count": 0,
      "outputs": []
    },
    {
      "cell_type": "code",
      "metadata": {
        "id": "XPCncCCooUxV",
        "colab_type": "code",
        "colab": {
          "base_uri": "https://localhost:8080/",
          "height": 449
        },
        "outputId": "f2d8bb19-4e4f-4a7b-c0ed-665d49f2027e"
      },
      "source": [
        "set(sentence)\n",
        "charSet=list(set(sentence))\n",
        "charDict={w:i for i,w in enumerate(charSet)}\n",
        "charDict"
      ],
      "execution_count": 110,
      "outputs": [
        {
          "output_type": "execute_result",
          "data": {
            "text/plain": [
              "{' ': 13,\n",
              " \"'\": 18,\n",
              " '.': 1,\n",
              " 'A': 5,\n",
              " 'T': 16,\n",
              " 'a': 14,\n",
              " 'b': 17,\n",
              " 'c': 6,\n",
              " 'd': 3,\n",
              " 'e': 2,\n",
              " 'f': 22,\n",
              " 'g': 11,\n",
              " 'h': 23,\n",
              " 'i': 0,\n",
              " 'l': 12,\n",
              " 'm': 15,\n",
              " 'n': 20,\n",
              " 'o': 21,\n",
              " 'r': 4,\n",
              " 's': 8,\n",
              " 't': 9,\n",
              " 'u': 19,\n",
              " 'w': 10,\n",
              " 'y': 7}"
            ]
          },
          "metadata": {
            "tags": []
          },
          "execution_count": 110
        }
      ]
    },
    {
      "cell_type": "code",
      "metadata": {
        "id": "W1m-nzatobdg",
        "colab_type": "code",
        "colab": {
          "base_uri": "https://localhost:8080/",
          "height": 35
        },
        "outputId": "9508a440-c090-43a5-dabe-e2c173838e5d"
      },
      "source": [
        "len(charDict) "
      ],
      "execution_count": 111,
      "outputs": [
        {
          "output_type": "execute_result",
          "data": {
            "text/plain": [
              "24"
            ]
          },
          "metadata": {
            "tags": []
          },
          "execution_count": 111
        }
      ]
    },
    {
      "cell_type": "code",
      "metadata": {
        "id": "Y-Qi4La3o_Rp",
        "colab_type": "code",
        "colab": {}
      },
      "source": [
        "data_dim=len(charDict) # input_dim=24차원\n",
        "num_classes=hidden_size=data_dim\n",
        "sequence_length=10\n",
        "learning_rate=0.1"
      ],
      "execution_count": 0,
      "outputs": []
    },
    {
      "cell_type": "code",
      "metadata": {
        "id": "l6gxegcJpCpS",
        "colab_type": "code",
        "colab": {
          "base_uri": "https://localhost:8080/",
          "height": 35
        },
        "outputId": "a3ed2588-407e-4a44-fde2-56617c92f494"
      },
      "source": [
        "len(sentence) #152글자\n",
        "\n",
        "datax=[]\n",
        "datay=[]\n",
        "for i in range(0,len(sentence)-sequence_length): #(0,152-10)=>(0,142) 마지막 10글자 학습부터는 142번부터~\n",
        "  xstr=sentence[i:i+sequence_length] #0-9번까지\n",
        "  ystr=sentence[i+1:i+sequence_length+1] #2~11번까지\n",
        "#   print(i,xstr,'->',ystr)\n",
        "  x= [charDict[c] for c in xstr]\n",
        "  y= [charDict[c] for c in ystr]\n",
        "  \n",
        "#   print(x)\n",
        "#   print(y)\n",
        "\n",
        "  datax.append(x)\n",
        "  datay.append(y)\n",
        "  \n",
        "batch_size=len(datax) #142\n",
        "\n",
        "x=tf.placeholder(tf.int32, shape=[None,sequence_length])\n",
        "y=tf.placeholder(tf.int32, shape=[None,sequence_length])\n",
        "\n",
        "x_one_hot=tf.one_hot(x, num_classes) \n",
        "print(x_one_hot)\n",
        "\n",
        "def lstm_cell():\n",
        "  cell=rnn.BasicLSTMCell(hidden_size)\n",
        "  return cell\n",
        "\n",
        "multi_cells=rnn.MultiRNNCell([lstm_cell() for _ in range(2)])\n",
        "outputs, _states=tf.nn.dynamic_rnn(multi_cells, x_one_hot, dtype=tf.float32)\n",
        "\n",
        "# fully conneted 하기 위해 출력 결과를 hidden_size 길이 만큼 쭉 펼치기\n",
        "xforfc=tf.reshape(outputs,[-1, hidden_size])\n",
        "outputs=tf.contrib.layers.fully_connected(xforfc, num_classes, activation_fn=None)\n",
        "outputs=tf.reshape(outputs, [batch_size, sequence_length, num_classes])\n",
        "weights=tf.ones([batch_size, sequence_length])\n",
        "sequence_loss=tf.contrib.seq2seq.sequence_loss(\n",
        "logits=outputs, targets=y, weights=weights)\n",
        "meanLoss=tf.reduce_mean(sequence_loss)\n",
        "train=tf.train.AdadeltaOptimizer(learning_rate=learning_rate).minimize(meanLoss)\n",
        "\n"
      ],
      "execution_count": 124,
      "outputs": [
        {
          "output_type": "stream",
          "text": [
            "Tensor(\"one_hot:0\", shape=(?, 10, 24), dtype=float32)\n"
          ],
          "name": "stdout"
        }
      ]
    },
    {
      "cell_type": "code",
      "metadata": {
        "id": "fseOthpypCry",
        "colab_type": "code",
        "colab": {
          "base_uri": "https://localhost:8080/",
          "height": 55
        },
        "outputId": "376af468-1470-43a6-c3d7-9762f1a3ea11"
      },
      "source": [
        "# tf.reset_default_graph()\n",
        "\n",
        "sess=tf.Session()      \n",
        "sess.run(tf.global_variables_initializer())\n",
        "for i in range(500):\n",
        "    _, cv, res=sess.run([train, meanLoss, outputs], feed_dict={x:datax, y:datay})\n",
        "    for j,result in enumerate(res):\n",
        "        index=np.argmax(result, axis=1)\n",
        "        #print(i,j,''.join([charSet[t] for t in index]), cv)\n",
        "\n",
        "res=sess.run(outputs, feed_dict={x:datax})        \n",
        "#print(res)\n",
        "for j, result in enumerate(res):    \n",
        "    index=np.argmax(result, 1)\n",
        "    if j is 0:\n",
        "        print(''.join([charSet[t] for t in index]), end='')\n",
        "\n",
        "    print(charSet[index[-1]],end='')\n"
      ],
      "execution_count": 125,
      "outputs": [
        {
          "output_type": "stream",
          "text": [
            "                                                                                                                                                        "
          ],
          "name": "stdout"
        }
      ]
    },
    {
      "cell_type": "code",
      "metadata": {
        "id": "FjAZtIhW4Ud-",
        "colab_type": "code",
        "colab": {
          "base_uri": "https://localhost:8080/",
          "height": 55
        },
        "outputId": "ddb834b1-3036-4e0c-e860-91c6c2945b39"
      },
      "source": [
        "from google.colab import drive\n",
        "drive.mount('/content/drive')"
      ],
      "execution_count": 81,
      "outputs": [
        {
          "output_type": "stream",
          "text": [
            "Drive already mounted at /content/drive; to attempt to forcibly remount, call drive.mount(\"/content/drive\", force_remount=True).\n"
          ],
          "name": "stdout"
        }
      ]
    },
    {
      "cell_type": "markdown",
      "metadata": {
        "id": "Uk_uhZj26Syw",
        "colab_type": "text"
      },
      "source": [
        "# SPAM 분류"
      ]
    },
    {
      "cell_type": "code",
      "metadata": {
        "id": "S48SQYFgpCwY",
        "colab_type": "code",
        "colab": {}
      },
      "source": [
        "import pandas as pd\n",
        "data=pd.read_csv(\"/content/drive/My Drive/Colab Notebooks/spam.csv\",encoding='latin1')"
      ],
      "execution_count": 0,
      "outputs": []
    },
    {
      "cell_type": "code",
      "metadata": {
        "id": "eLxFbvwL4qaj",
        "colab_type": "code",
        "colab": {
          "base_uri": "https://localhost:8080/",
          "height": 204
        },
        "outputId": "95ae56c1-30c9-4c7d-e208-c36b2a85bf90"
      },
      "source": [
        "data=data.drop([\"Unnamed: 2\",'Unnamed: 3','Unnamed: 4'],axis=1)\n",
        "# del data[\"Unnamed: 2\"]\n",
        "# del data['Unnamed: 3']\n",
        "# del data['Unnamed: 4']\n",
        "data[:5]"
      ],
      "execution_count": 130,
      "outputs": [
        {
          "output_type": "execute_result",
          "data": {
            "text/html": [
              "<div>\n",
              "<style scoped>\n",
              "    .dataframe tbody tr th:only-of-type {\n",
              "        vertical-align: middle;\n",
              "    }\n",
              "\n",
              "    .dataframe tbody tr th {\n",
              "        vertical-align: top;\n",
              "    }\n",
              "\n",
              "    .dataframe thead th {\n",
              "        text-align: right;\n",
              "    }\n",
              "</style>\n",
              "<table border=\"1\" class=\"dataframe\">\n",
              "  <thead>\n",
              "    <tr style=\"text-align: right;\">\n",
              "      <th></th>\n",
              "      <th>v1</th>\n",
              "      <th>v2</th>\n",
              "    </tr>\n",
              "  </thead>\n",
              "  <tbody>\n",
              "    <tr>\n",
              "      <th>0</th>\n",
              "      <td>ham</td>\n",
              "      <td>Go until jurong point, crazy.. Available only ...</td>\n",
              "    </tr>\n",
              "    <tr>\n",
              "      <th>1</th>\n",
              "      <td>ham</td>\n",
              "      <td>Ok lar... Joking wif u oni...</td>\n",
              "    </tr>\n",
              "    <tr>\n",
              "      <th>2</th>\n",
              "      <td>spam</td>\n",
              "      <td>Free entry in 2 a wkly comp to win FA Cup fina...</td>\n",
              "    </tr>\n",
              "    <tr>\n",
              "      <th>3</th>\n",
              "      <td>ham</td>\n",
              "      <td>U dun say so early hor... U c already then say...</td>\n",
              "    </tr>\n",
              "    <tr>\n",
              "      <th>4</th>\n",
              "      <td>ham</td>\n",
              "      <td>Nah I don't think he goes to usf, he lives aro...</td>\n",
              "    </tr>\n",
              "  </tbody>\n",
              "</table>\n",
              "</div>"
            ],
            "text/plain": [
              "     v1                                                 v2\n",
              "0   ham  Go until jurong point, crazy.. Available only ...\n",
              "1   ham                      Ok lar... Joking wif u oni...\n",
              "2  spam  Free entry in 2 a wkly comp to win FA Cup fina...\n",
              "3   ham  U dun say so early hor... U c already then say...\n",
              "4   ham  Nah I don't think he goes to usf, he lives aro..."
            ]
          },
          "metadata": {
            "tags": []
          },
          "execution_count": 130
        }
      ]
    },
    {
      "cell_type": "code",
      "metadata": {
        "id": "dHzZQTyL5dMh",
        "colab_type": "code",
        "colab": {}
      },
      "source": [
        "# 제목에 들어간 가장 긴 len 추출 후, 나머지 0으로 패딩을 준다\n",
        "# binary cross entropy : 이진 분류, categorical: 2개 이상의 분류"
      ],
      "execution_count": 0,
      "outputs": []
    },
    {
      "cell_type": "markdown",
      "metadata": {
        "id": "znKfMxpZ7qQ9",
        "colab_type": "text"
      },
      "source": [
        "### ham/spam을 0/1으로 값을 분류"
      ]
    },
    {
      "cell_type": "code",
      "metadata": {
        "id": "T0sqMY5Q7KTm",
        "colab_type": "code",
        "colab": {
          "base_uri": "https://localhost:8080/",
          "height": 1000
        },
        "outputId": "94494e2a-bdee-4931-8af6-cc2747b590c0"
      },
      "source": [
        "data['v1']=data['v1'].replace(['ham','spam'],[0,1])\n",
        "data"
      ],
      "execution_count": 131,
      "outputs": [
        {
          "output_type": "execute_result",
          "data": {
            "text/html": [
              "<div>\n",
              "<style scoped>\n",
              "    .dataframe tbody tr th:only-of-type {\n",
              "        vertical-align: middle;\n",
              "    }\n",
              "\n",
              "    .dataframe tbody tr th {\n",
              "        vertical-align: top;\n",
              "    }\n",
              "\n",
              "    .dataframe thead th {\n",
              "        text-align: right;\n",
              "    }\n",
              "</style>\n",
              "<table border=\"1\" class=\"dataframe\">\n",
              "  <thead>\n",
              "    <tr style=\"text-align: right;\">\n",
              "      <th></th>\n",
              "      <th>v1</th>\n",
              "      <th>v2</th>\n",
              "    </tr>\n",
              "  </thead>\n",
              "  <tbody>\n",
              "    <tr>\n",
              "      <th>0</th>\n",
              "      <td>0</td>\n",
              "      <td>Go until jurong point, crazy.. Available only ...</td>\n",
              "    </tr>\n",
              "    <tr>\n",
              "      <th>1</th>\n",
              "      <td>0</td>\n",
              "      <td>Ok lar... Joking wif u oni...</td>\n",
              "    </tr>\n",
              "    <tr>\n",
              "      <th>2</th>\n",
              "      <td>1</td>\n",
              "      <td>Free entry in 2 a wkly comp to win FA Cup fina...</td>\n",
              "    </tr>\n",
              "    <tr>\n",
              "      <th>3</th>\n",
              "      <td>0</td>\n",
              "      <td>U dun say so early hor... U c already then say...</td>\n",
              "    </tr>\n",
              "    <tr>\n",
              "      <th>4</th>\n",
              "      <td>0</td>\n",
              "      <td>Nah I don't think he goes to usf, he lives aro...</td>\n",
              "    </tr>\n",
              "    <tr>\n",
              "      <th>5</th>\n",
              "      <td>1</td>\n",
              "      <td>FreeMsg Hey there darling it's been 3 week's n...</td>\n",
              "    </tr>\n",
              "    <tr>\n",
              "      <th>6</th>\n",
              "      <td>0</td>\n",
              "      <td>Even my brother is not like to speak with me. ...</td>\n",
              "    </tr>\n",
              "    <tr>\n",
              "      <th>7</th>\n",
              "      <td>0</td>\n",
              "      <td>As per your request 'Melle Melle (Oru Minnamin...</td>\n",
              "    </tr>\n",
              "    <tr>\n",
              "      <th>8</th>\n",
              "      <td>1</td>\n",
              "      <td>WINNER!! As a valued network customer you have...</td>\n",
              "    </tr>\n",
              "    <tr>\n",
              "      <th>9</th>\n",
              "      <td>1</td>\n",
              "      <td>Had your mobile 11 months or more? U R entitle...</td>\n",
              "    </tr>\n",
              "    <tr>\n",
              "      <th>10</th>\n",
              "      <td>0</td>\n",
              "      <td>I'm gonna be home soon and i don't want to tal...</td>\n",
              "    </tr>\n",
              "    <tr>\n",
              "      <th>11</th>\n",
              "      <td>1</td>\n",
              "      <td>SIX chances to win CASH! From 100 to 20,000 po...</td>\n",
              "    </tr>\n",
              "    <tr>\n",
              "      <th>12</th>\n",
              "      <td>1</td>\n",
              "      <td>URGENT! You have won a 1 week FREE membership ...</td>\n",
              "    </tr>\n",
              "    <tr>\n",
              "      <th>13</th>\n",
              "      <td>0</td>\n",
              "      <td>I've been searching for the right words to tha...</td>\n",
              "    </tr>\n",
              "    <tr>\n",
              "      <th>14</th>\n",
              "      <td>0</td>\n",
              "      <td>I HAVE A DATE ON SUNDAY WITH WILL!!</td>\n",
              "    </tr>\n",
              "    <tr>\n",
              "      <th>15</th>\n",
              "      <td>1</td>\n",
              "      <td>XXXMobileMovieClub: To use your credit, click ...</td>\n",
              "    </tr>\n",
              "    <tr>\n",
              "      <th>16</th>\n",
              "      <td>0</td>\n",
              "      <td>Oh k...i'm watching here:)</td>\n",
              "    </tr>\n",
              "    <tr>\n",
              "      <th>17</th>\n",
              "      <td>0</td>\n",
              "      <td>Eh u remember how 2 spell his name... Yes i di...</td>\n",
              "    </tr>\n",
              "    <tr>\n",
              "      <th>18</th>\n",
              "      <td>0</td>\n",
              "      <td>Fine if thatåÕs the way u feel. ThatåÕs the wa...</td>\n",
              "    </tr>\n",
              "    <tr>\n",
              "      <th>19</th>\n",
              "      <td>1</td>\n",
              "      <td>England v Macedonia - dont miss the goals/team...</td>\n",
              "    </tr>\n",
              "    <tr>\n",
              "      <th>20</th>\n",
              "      <td>0</td>\n",
              "      <td>Is that seriously how you spell his name?</td>\n",
              "    </tr>\n",
              "    <tr>\n",
              "      <th>21</th>\n",
              "      <td>0</td>\n",
              "      <td>IÛ÷m going to try for 2 months ha ha only joking</td>\n",
              "    </tr>\n",
              "    <tr>\n",
              "      <th>22</th>\n",
              "      <td>0</td>\n",
              "      <td>So Ì_ pay first lar... Then when is da stock c...</td>\n",
              "    </tr>\n",
              "    <tr>\n",
              "      <th>23</th>\n",
              "      <td>0</td>\n",
              "      <td>Aft i finish my lunch then i go str down lor. ...</td>\n",
              "    </tr>\n",
              "    <tr>\n",
              "      <th>24</th>\n",
              "      <td>0</td>\n",
              "      <td>Ffffffffff. Alright no way I can meet up with ...</td>\n",
              "    </tr>\n",
              "    <tr>\n",
              "      <th>25</th>\n",
              "      <td>0</td>\n",
              "      <td>Just forced myself to eat a slice. I'm really ...</td>\n",
              "    </tr>\n",
              "    <tr>\n",
              "      <th>26</th>\n",
              "      <td>0</td>\n",
              "      <td>Lol your always so convincing.</td>\n",
              "    </tr>\n",
              "    <tr>\n",
              "      <th>27</th>\n",
              "      <td>0</td>\n",
              "      <td>Did you catch the bus ? Are you frying an egg ...</td>\n",
              "    </tr>\n",
              "    <tr>\n",
              "      <th>28</th>\n",
              "      <td>0</td>\n",
              "      <td>I'm back &amp;amp; we're packing the car now, I'll...</td>\n",
              "    </tr>\n",
              "    <tr>\n",
              "      <th>29</th>\n",
              "      <td>0</td>\n",
              "      <td>Ahhh. Work. I vaguely remember that! What does...</td>\n",
              "    </tr>\n",
              "    <tr>\n",
              "      <th>...</th>\n",
              "      <td>...</td>\n",
              "      <td>...</td>\n",
              "    </tr>\n",
              "    <tr>\n",
              "      <th>5542</th>\n",
              "      <td>0</td>\n",
              "      <td>Armand says get your ass over to epsilon</td>\n",
              "    </tr>\n",
              "    <tr>\n",
              "      <th>5543</th>\n",
              "      <td>0</td>\n",
              "      <td>U still havent got urself a jacket ah?</td>\n",
              "    </tr>\n",
              "    <tr>\n",
              "      <th>5544</th>\n",
              "      <td>0</td>\n",
              "      <td>I'm taking derek &amp;amp; taylor to walmart, if I...</td>\n",
              "    </tr>\n",
              "    <tr>\n",
              "      <th>5545</th>\n",
              "      <td>0</td>\n",
              "      <td>Hi its in durban are you still on this number</td>\n",
              "    </tr>\n",
              "    <tr>\n",
              "      <th>5546</th>\n",
              "      <td>0</td>\n",
              "      <td>Ic. There are a lotta childporn cars then.</td>\n",
              "    </tr>\n",
              "    <tr>\n",
              "      <th>5547</th>\n",
              "      <td>1</td>\n",
              "      <td>Had your contract mobile 11 Mnths? Latest Moto...</td>\n",
              "    </tr>\n",
              "    <tr>\n",
              "      <th>5548</th>\n",
              "      <td>0</td>\n",
              "      <td>No, I was trying it all weekend ;V</td>\n",
              "    </tr>\n",
              "    <tr>\n",
              "      <th>5549</th>\n",
              "      <td>0</td>\n",
              "      <td>You know, wot people wear. T shirts, jumpers, ...</td>\n",
              "    </tr>\n",
              "    <tr>\n",
              "      <th>5550</th>\n",
              "      <td>0</td>\n",
              "      <td>Cool, what time you think you can get here?</td>\n",
              "    </tr>\n",
              "    <tr>\n",
              "      <th>5551</th>\n",
              "      <td>0</td>\n",
              "      <td>Wen did you get so spiritual and deep. That's ...</td>\n",
              "    </tr>\n",
              "    <tr>\n",
              "      <th>5552</th>\n",
              "      <td>0</td>\n",
              "      <td>Have a safe trip to Nigeria. Wish you happines...</td>\n",
              "    </tr>\n",
              "    <tr>\n",
              "      <th>5553</th>\n",
              "      <td>0</td>\n",
              "      <td>Hahaha..use your brain dear</td>\n",
              "    </tr>\n",
              "    <tr>\n",
              "      <th>5554</th>\n",
              "      <td>0</td>\n",
              "      <td>Well keep in mind I've only got enough gas for...</td>\n",
              "    </tr>\n",
              "    <tr>\n",
              "      <th>5555</th>\n",
              "      <td>0</td>\n",
              "      <td>Yeh. Indians was nice. Tho it did kane me off ...</td>\n",
              "    </tr>\n",
              "    <tr>\n",
              "      <th>5556</th>\n",
              "      <td>0</td>\n",
              "      <td>Yes i have. So that's why u texted. Pshew...mi...</td>\n",
              "    </tr>\n",
              "    <tr>\n",
              "      <th>5557</th>\n",
              "      <td>0</td>\n",
              "      <td>No. I meant the calculation is the same. That ...</td>\n",
              "    </tr>\n",
              "    <tr>\n",
              "      <th>5558</th>\n",
              "      <td>0</td>\n",
              "      <td>Sorry, I'll call later</td>\n",
              "    </tr>\n",
              "    <tr>\n",
              "      <th>5559</th>\n",
              "      <td>0</td>\n",
              "      <td>if you aren't here in the next  &amp;lt;#&amp;gt;  hou...</td>\n",
              "    </tr>\n",
              "    <tr>\n",
              "      <th>5560</th>\n",
              "      <td>0</td>\n",
              "      <td>Anything lor. Juz both of us lor.</td>\n",
              "    </tr>\n",
              "    <tr>\n",
              "      <th>5561</th>\n",
              "      <td>0</td>\n",
              "      <td>Get me out of this dump heap. My mom decided t...</td>\n",
              "    </tr>\n",
              "    <tr>\n",
              "      <th>5562</th>\n",
              "      <td>0</td>\n",
              "      <td>Ok lor... Sony ericsson salesman... I ask shuh...</td>\n",
              "    </tr>\n",
              "    <tr>\n",
              "      <th>5563</th>\n",
              "      <td>0</td>\n",
              "      <td>Ard 6 like dat lor.</td>\n",
              "    </tr>\n",
              "    <tr>\n",
              "      <th>5564</th>\n",
              "      <td>0</td>\n",
              "      <td>Why don't you wait 'til at least wednesday to ...</td>\n",
              "    </tr>\n",
              "    <tr>\n",
              "      <th>5565</th>\n",
              "      <td>0</td>\n",
              "      <td>Huh y lei...</td>\n",
              "    </tr>\n",
              "    <tr>\n",
              "      <th>5566</th>\n",
              "      <td>1</td>\n",
              "      <td>REMINDER FROM O2: To get 2.50 pounds free call...</td>\n",
              "    </tr>\n",
              "    <tr>\n",
              "      <th>5567</th>\n",
              "      <td>1</td>\n",
              "      <td>This is the 2nd time we have tried 2 contact u...</td>\n",
              "    </tr>\n",
              "    <tr>\n",
              "      <th>5568</th>\n",
              "      <td>0</td>\n",
              "      <td>Will Ì_ b going to esplanade fr home?</td>\n",
              "    </tr>\n",
              "    <tr>\n",
              "      <th>5569</th>\n",
              "      <td>0</td>\n",
              "      <td>Pity, * was in mood for that. So...any other s...</td>\n",
              "    </tr>\n",
              "    <tr>\n",
              "      <th>5570</th>\n",
              "      <td>0</td>\n",
              "      <td>The guy did some bitching but I acted like i'd...</td>\n",
              "    </tr>\n",
              "    <tr>\n",
              "      <th>5571</th>\n",
              "      <td>0</td>\n",
              "      <td>Rofl. Its true to its name</td>\n",
              "    </tr>\n",
              "  </tbody>\n",
              "</table>\n",
              "<p>5572 rows × 2 columns</p>\n",
              "</div>"
            ],
            "text/plain": [
              "      v1                                                 v2\n",
              "0      0  Go until jurong point, crazy.. Available only ...\n",
              "1      0                      Ok lar... Joking wif u oni...\n",
              "2      1  Free entry in 2 a wkly comp to win FA Cup fina...\n",
              "3      0  U dun say so early hor... U c already then say...\n",
              "4      0  Nah I don't think he goes to usf, he lives aro...\n",
              "5      1  FreeMsg Hey there darling it's been 3 week's n...\n",
              "6      0  Even my brother is not like to speak with me. ...\n",
              "7      0  As per your request 'Melle Melle (Oru Minnamin...\n",
              "8      1  WINNER!! As a valued network customer you have...\n",
              "9      1  Had your mobile 11 months or more? U R entitle...\n",
              "10     0  I'm gonna be home soon and i don't want to tal...\n",
              "11     1  SIX chances to win CASH! From 100 to 20,000 po...\n",
              "12     1  URGENT! You have won a 1 week FREE membership ...\n",
              "13     0  I've been searching for the right words to tha...\n",
              "14     0                I HAVE A DATE ON SUNDAY WITH WILL!!\n",
              "15     1  XXXMobileMovieClub: To use your credit, click ...\n",
              "16     0                         Oh k...i'm watching here:)\n",
              "17     0  Eh u remember how 2 spell his name... Yes i di...\n",
              "18     0  Fine if thatåÕs the way u feel. ThatåÕs the wa...\n",
              "19     1  England v Macedonia - dont miss the goals/team...\n",
              "20     0          Is that seriously how you spell his name?\n",
              "21     0  IÛ÷m going to try for 2 months ha ha only joking\n",
              "22     0  So Ì_ pay first lar... Then when is da stock c...\n",
              "23     0  Aft i finish my lunch then i go str down lor. ...\n",
              "24     0  Ffffffffff. Alright no way I can meet up with ...\n",
              "25     0  Just forced myself to eat a slice. I'm really ...\n",
              "26     0                     Lol your always so convincing.\n",
              "27     0  Did you catch the bus ? Are you frying an egg ...\n",
              "28     0  I'm back &amp; we're packing the car now, I'll...\n",
              "29     0  Ahhh. Work. I vaguely remember that! What does...\n",
              "...   ..                                                ...\n",
              "5542   0           Armand says get your ass over to epsilon\n",
              "5543   0             U still havent got urself a jacket ah?\n",
              "5544   0  I'm taking derek &amp; taylor to walmart, if I...\n",
              "5545   0      Hi its in durban are you still on this number\n",
              "5546   0         Ic. There are a lotta childporn cars then.\n",
              "5547   1  Had your contract mobile 11 Mnths? Latest Moto...\n",
              "5548   0                 No, I was trying it all weekend ;V\n",
              "5549   0  You know, wot people wear. T shirts, jumpers, ...\n",
              "5550   0        Cool, what time you think you can get here?\n",
              "5551   0  Wen did you get so spiritual and deep. That's ...\n",
              "5552   0  Have a safe trip to Nigeria. Wish you happines...\n",
              "5553   0                        Hahaha..use your brain dear\n",
              "5554   0  Well keep in mind I've only got enough gas for...\n",
              "5555   0  Yeh. Indians was nice. Tho it did kane me off ...\n",
              "5556   0  Yes i have. So that's why u texted. Pshew...mi...\n",
              "5557   0  No. I meant the calculation is the same. That ...\n",
              "5558   0                             Sorry, I'll call later\n",
              "5559   0  if you aren't here in the next  &lt;#&gt;  hou...\n",
              "5560   0                  Anything lor. Juz both of us lor.\n",
              "5561   0  Get me out of this dump heap. My mom decided t...\n",
              "5562   0  Ok lor... Sony ericsson salesman... I ask shuh...\n",
              "5563   0                                Ard 6 like dat lor.\n",
              "5564   0  Why don't you wait 'til at least wednesday to ...\n",
              "5565   0                                       Huh y lei...\n",
              "5566   1  REMINDER FROM O2: To get 2.50 pounds free call...\n",
              "5567   1  This is the 2nd time we have tried 2 contact u...\n",
              "5568   0              Will Ì_ b going to esplanade fr home?\n",
              "5569   0  Pity, * was in mood for that. So...any other s...\n",
              "5570   0  The guy did some bitching but I acted like i'd...\n",
              "5571   0                         Rofl. Its true to its name\n",
              "\n",
              "[5572 rows x 2 columns]"
            ]
          },
          "metadata": {
            "tags": []
          },
          "execution_count": 131
        }
      ]
    },
    {
      "cell_type": "markdown",
      "metadata": {
        "id": "m_M1chEY79x3",
        "colab_type": "text"
      },
      "source": [
        "### NULL 존재 확인"
      ]
    },
    {
      "cell_type": "code",
      "metadata": {
        "id": "ymjB8sXc7KWJ",
        "colab_type": "code",
        "colab": {}
      },
      "source": [
        "data.isnull().values.any() #any가 하나라도 있으면 true를 출력"
      ],
      "execution_count": 0,
      "outputs": []
    },
    {
      "cell_type": "markdown",
      "metadata": {
        "id": "KcFos7eM8Q2D",
        "colab_type": "text"
      },
      "source": [
        "#### 시각화로 확인"
      ]
    },
    {
      "cell_type": "code",
      "metadata": {
        "id": "DlrE9O6_7KYf",
        "colab_type": "code",
        "colab": {
          "base_uri": "https://localhost:8080/",
          "height": 283
        },
        "outputId": "d816dd46-afd0-414a-9539-a7e1ac65b15c"
      },
      "source": [
        "%matplotlib inline\n",
        "import matplotlib.pyplot as plt\n",
        "data['v1'].value_counts().plot(kind='bar')"
      ],
      "execution_count": 86,
      "outputs": [
        {
          "output_type": "execute_result",
          "data": {
            "text/plain": [
              "<matplotlib.axes._subplots.AxesSubplot at 0x7f6c4fa6ca20>"
            ]
          },
          "metadata": {
            "tags": []
          },
          "execution_count": 86
        },
        {
          "output_type": "display_data",
          "data": {
            "image/png": "[encoded data removed]",
            "text/plain": [
              "<Figure size 432x288 with 1 Axes>"
            ]
          },
          "metadata": {
            "tags": []
          }
        }
      ]
    },
    {
      "cell_type": "code",
      "metadata": {
        "id": "2y4cTbGe7Kaa",
        "colab_type": "code",
        "colab": {
          "base_uri": "https://localhost:8080/",
          "height": 35
        },
        "outputId": "5c3e20c8-581a-4238-c144-b12be7ed41fa"
      },
      "source": [
        "ydata=data['v1']\n",
        "xdata=data['v2']\n",
        "len(xdata)  "
      ],
      "execution_count": 87,
      "outputs": [
        {
          "output_type": "execute_result",
          "data": {
            "text/plain": [
              "5572"
            ]
          },
          "metadata": {
            "tags": []
          },
          "execution_count": 87
        }
      ]
    },
    {
      "cell_type": "markdown",
      "metadata": {
        "id": "rnOQwzwe8qFb",
        "colab_type": "text"
      },
      "source": [
        "### 작업의 순서\n",
        "1. 문장을 단어 단위로 토큰화\n",
        "2. 단어 토큰에 대해 정수로 인코딩\n",
        "   (데이터는 수치이어야 작업가능)\n",
        "3. "
      ]
    },
    {
      "cell_type": "code",
      "metadata": {
        "id": "V0W5A9SS7Kcj",
        "colab_type": "code",
        "colab": {}
      },
      "source": [
        "from keras.preprocessing.text import Tokenizer"
      ],
      "execution_count": 0,
      "outputs": []
    },
    {
      "cell_type": "markdown",
      "metadata": {
        "id": "EzjU0Vai_ri5",
        "colab_type": "text"
      },
      "source": [
        "#### 각 행에 대한 토큰화 수행"
      ]
    },
    {
      "cell_type": "code",
      "metadata": {
        "id": "xSJbPzf27Kqd",
        "colab_type": "code",
        "colab": {}
      },
      "source": [
        "tokenizer=Tokenizer()\n",
        "tokenizer.fit_on_texts(xdata) #각 행에 대한 토큰화가 수행된다  --> xdata에 대한 코퍼스 생성(중복은 없다)\n",
        "                              # set()으로 데이터 저장하는 방법도 있지만, 토크나이저 함수를 통해 한큐에 해결가능하다"
      ],
      "execution_count": 0,
      "outputs": []
    },
    {
      "cell_type": "markdown",
      "metadata": {
        "id": "CQ8wBJSaAksE",
        "colab_type": "text"
      },
      "source": [
        "#### 정수로 인코딩 수행"
      ]
    },
    {
      "cell_type": "code",
      "metadata": {
        "id": "-yKmgh1xAkOS",
        "colab_type": "code",
        "colab": {}
      },
      "source": [
        "word_index= tokenizer.word_index # 인덱스가 1번부터 시작함 \n",
        "sequences=tokenizer.texts_to_sequences(xdata) # 정수로 인코딩 수행"
      ],
      "execution_count": 0,
      "outputs": []
    },
    {
      "cell_type": "code",
      "metadata": {
        "id": "ANQEcffq7KtB",
        "colab_type": "code",
        "colab": {
          "base_uri": "https://localhost:8080/",
          "height": 35
        },
        "outputId": "bb955f79-4491-44f9-b287-7dc2c1d8feea"
      },
      "source": [
        "sequences[:5]\n",
        "len(word_index) # 8920은 vocab_size가 된다 / len(xdata)=5572 인데, 이것은 행의 갯수이다"
      ],
      "execution_count": 91,
      "outputs": [
        {
          "output_type": "execute_result",
          "data": {
            "text/plain": [
              "8920"
            ]
          },
          "metadata": {
            "tags": []
          },
          "execution_count": 91
        }
      ]
    },
    {
      "cell_type": "code",
      "metadata": {
        "id": "sksuCQgnBA5j",
        "colab_type": "code",
        "colab": {
          "base_uri": "https://localhost:8080/",
          "height": 35
        },
        "outputId": "1f392519-bae9-4a9a-8d8e-ca7da4fb87d9"
      },
      "source": [
        "trainData=int(len(sequences)*0.8)\n",
        "testData=int(len(sequences)-trainData)\n",
        "trainData #4457\n",
        "testData  #1115"
      ],
      "execution_count": 92,
      "outputs": [
        {
          "output_type": "execute_result",
          "data": {
            "text/plain": [
              "1115"
            ]
          },
          "metadata": {
            "tags": []
          },
          "execution_count": 92
        }
      ]
    },
    {
      "cell_type": "markdown",
      "metadata": {
        "id": "zrvj49hgBVYw",
        "colab_type": "text"
      },
      "source": [
        "#### 메일 제목의 최대 길이 확인"
      ]
    },
    {
      "cell_type": "code",
      "metadata": {
        "id": "uH3ceFSi7KvL",
        "colab_type": "code",
        "colab": {
          "base_uri": "https://localhost:8080/",
          "height": 35
        },
        "outputId": "ca3ef994-be99-404e-9b6d-04b6923b5c44"
      },
      "source": [
        "max(len(d) for d in sequences)\n",
        " \n",
        "\n",
        "# max(len(xdata))"
      ],
      "execution_count": 93,
      "outputs": [
        {
          "output_type": "execute_result",
          "data": {
            "text/plain": [
              "189"
            ]
          },
          "metadata": {
            "tags": []
          },
          "execution_count": 93
        }
      ]
    },
    {
      "cell_type": "markdown",
      "metadata": {
        "id": "L6wpnwoXCSXZ",
        "colab_type": "text"
      },
      "source": [
        "#### 메일 제목 길이의 평균 구해보기"
      ]
    },
    {
      "cell_type": "code",
      "metadata": {
        "id": "xTmU-tGl7KxV",
        "colab_type": "code",
        "colab": {
          "base_uri": "https://localhost:8080/",
          "height": 35
        },
        "outputId": "008a6b44-d8d2-473c-aeb9-3ed901a9d59e"
      },
      "source": [
        "sum(map(len,sequences))/ len(sequences)"
      ],
      "execution_count": 94,
      "outputs": [
        {
          "output_type": "execute_result",
          "data": {
            "text/plain": [
              "15.794867193108399"
            ]
          },
          "metadata": {
            "tags": []
          },
          "execution_count": 94
        }
      ]
    },
    {
      "cell_type": "code",
      "metadata": {
        "id": "txRpFND8fles",
        "colab_type": "code",
        "colab": {}
      },
      "source": [
        ""
      ],
      "execution_count": 0,
      "outputs": []
    },
    {
      "cell_type": "code",
      "metadata": {
        "id": "U25TytCKCRZQ",
        "colab_type": "code",
        "colab": {
          "base_uri": "https://localhost:8080/",
          "height": 269
        },
        "outputId": "9dbe9d74-573b-408f-ef59-318b69bafd13"
      },
      "source": [
        "xdata=sequences\n",
        "plt.hist([len(s) for s in xdata],bins=50)\n",
        "plt.show()"
      ],
      "execution_count": 95,
      "outputs": [
        {
          "output_type": "display_data",
          "data": {
            "image/png": "[encoded data removed]",
            "text/plain": [
              "<Figure size 432x288 with 1 Axes>"
            ]
          },
          "metadata": {
            "tags": []
          }
        }
      ]
    },
    {
      "cell_type": "code",
      "metadata": {
        "id": "7wB-Wr6RVLdl",
        "colab_type": "code",
        "colab": {}
      },
      "source": [
        "# 가장 긴 메일의 길이 189\n",
        "# 50미만이 대부분인데 이부분 전처리 해줄 것!!"
      ],
      "execution_count": 0,
      "outputs": []
    },
    {
      "cell_type": "code",
      "metadata": {
        "id": "hg7PKpo-WEo3",
        "colab_type": "code",
        "colab": {}
      },
      "source": [
        "from keras.layers import *\n",
        "from keras.models import Sequential\n",
        "from keras.preprocessing.sequence import pad_sequences"
      ],
      "execution_count": 0,
      "outputs": []
    },
    {
      "cell_type": "code",
      "metadata": {
        "id": "ko-ap6L0WEr2",
        "colab_type": "code",
        "colab": {}
      },
      "source": [
        "vocab_size=len(word_index)+1  #8920 +1 ->8921개로 계산하겠다"
      ],
      "execution_count": 0,
      "outputs": []
    },
    {
      "cell_type": "code",
      "metadata": {
        "id": "ISLTTylNWE5i",
        "colab_type": "code",
        "colab": {
          "base_uri": "https://localhost:8080/",
          "height": 35
        },
        "outputId": "6d886f3e-f717-46e0-8e62-4e09f5eb8ff1"
      },
      "source": [
        "max_len=189\n",
        "data=pad_sequences(xdata,maxlen=max_len)\n",
        "data.shape"
      ],
      "execution_count": 133,
      "outputs": [
        {
          "output_type": "execute_result",
          "data": {
            "text/plain": [
              "(5572, 189)"
            ]
          },
          "metadata": {
            "tags": []
          },
          "execution_count": 133
        }
      ]
    },
    {
      "cell_type": "code",
      "metadata": {
        "id": "a1rTshIZWE9B",
        "colab_type": "code",
        "colab": {}
      },
      "source": [
        "data[:5]\n",
        "xtest=data[trainData:] # 뒷쪽 1115개\n",
        "ytest=ydata[trainData:]\n",
        "xtrain=data[:trainData] # 앞쪽 4457개\n",
        "ytrain=ydata[:trainData]"
      ],
      "execution_count": 0,
      "outputs": []
    },
    {
      "cell_type": "markdown",
      "metadata": {
        "id": "qnMFCd3eYaup",
        "colab_type": "text"
      },
      "source": [
        "#### MODEL DESIGN"
      ]
    },
    {
      "cell_type": "code",
      "metadata": {
        "id": "0ILrE0SpWFD5",
        "colab_type": "code",
        "colab": {}
      },
      "source": [
        "model=Sequential()\n",
        "model.add(Embedding(vocab_size,32)) #고차원의 데이터를 저차원으로 줄여주는 함수 8921을 32차원으로 바꿔줌\n",
        "model.add(SimpleRNN(32)) # 히든 사이즈 32\n",
        "model.add(Dense(1,activation='sigmoid'))"
      ],
      "execution_count": 0,
      "outputs": []
    },
    {
      "cell_type": "code",
      "metadata": {
        "id": "69RiuspcWFGt",
        "colab_type": "code",
        "colab": {}
      },
      "source": [
        "model.compile(optimizer='rmsprop',loss='binary_crossentropy',metrics=['acc'])"
      ],
      "execution_count": 0,
      "outputs": []
    },
    {
      "cell_type": "markdown",
      "metadata": {
        "id": "bAlkhT8SZJsl",
        "colab_type": "text"
      },
      "source": [
        "#### MODEL FIT"
      ]
    },
    {
      "cell_type": "code",
      "metadata": {
        "id": "UI2yUcVkfogd",
        "colab_type": "code",
        "colab": {
          "base_uri": "https://localhost:8080/",
          "height": 253
        },
        "outputId": "5ac5e358-7b3e-4c9c-84f5-a0e6e74a6c56"
      },
      "source": [
        "session = tf.Session()\n",
        "\n",
        "with session.as_default():\n",
        "    with session.graph.as_default():\n",
        "        model = Sequential()\n",
        "        model.add(Embedding(vocab_size, 32)) # 고차원의 데이터를 저차원으로 \n",
        "        model.add(SimpleRNN(32)) # hidden_size = 32\n",
        "        model.add(Dense(1, activation=\"sigmoid\"))\n",
        "        \n",
        "        model.compile(optimizer=\"rmsprop\", \n",
        "              loss=\"binary_crossentropy\", \n",
        "              metrics=[\"acc\"])\n",
        "        \n",
        "        history = model.fit(xtrain, ytrain, epochs=5, batch_size=60, validation_split=0.2)\n",
        "        model.evaluate(xtest, ytest)[1]\n"
      ],
      "execution_count": 139,
      "outputs": [
        {
          "output_type": "stream",
          "text": [
            "Train on 3565 samples, validate on 892 samples\n",
            "Epoch 1/5\n",
            "3565/3565 [==============================] - 2s 696us/step - loss: 0.2857 - acc: 0.9032 - val_loss: 0.1538 - val_acc: 0.9529\n",
            "Epoch 2/5\n",
            "3565/3565 [==============================] - 2s 510us/step - loss: 0.0981 - acc: 0.9731 - val_loss: 0.0741 - val_acc: 0.9809\n",
            "Epoch 3/5\n",
            "3565/3565 [==============================] - 2s 520us/step - loss: 0.1438 - acc: 0.9442 - val_loss: 0.1820 - val_acc: 0.9294\n",
            "Epoch 4/5\n",
            "3565/3565 [==============================] - 2s 508us/step - loss: 0.0631 - acc: 0.9823 - val_loss: 0.0569 - val_acc: 0.9832\n",
            "Epoch 5/5\n",
            "3565/3565 [==============================] - 2s 504us/step - loss: 0.0293 - acc: 0.9924 - val_loss: 0.0560 - val_acc: 0.9843\n",
            "1115/1115 [==============================] - 0s 204us/step\n"
          ],
          "name": "stdout"
        }
      ]
    },
    {
      "cell_type": "code",
      "metadata": {
        "id": "4yrUusgbWFJd",
        "colab_type": "code",
        "colab": {}
      },
      "source": [
        "history=model.fit(xtrain, ytrain, epochs=5, batch_size=60, validation_split=0.2)\n",
        "history"
      ],
      "execution_count": 0,
      "outputs": []
    },
    {
      "cell_type": "markdown",
      "metadata": {
        "id": "sX-vBc2JZrKN",
        "colab_type": "text"
      },
      "source": [
        "#### MODEL EVALUATION"
      ]
    },
    {
      "cell_type": "code",
      "metadata": {
        "id": "H9w-MNohWFOf",
        "colab_type": "code",
        "colab": {}
      },
      "source": [
        "model.evaluate(xtest,ytest)"
      ],
      "execution_count": 0,
      "outputs": []
    },
    {
      "cell_type": "code",
      "metadata": {
        "id": "f3VuxjStWFTp",
        "colab_type": "code",
        "colab": {}
      },
      "source": [
        "epochs=range(1,len(history.history['acc']+1))\n",
        "plt.plot(epochs,history['loss'])\n",
        "plt.plot(epochs,history['val_loss'])\n",
        "plt.show()"
      ],
      "execution_count": 0,
      "outputs": []
    },
    {
      "cell_type": "code",
      "metadata": {
        "id": "1ZFYlpjwWFWb",
        "colab_type": "code",
        "colab": {}
      },
      "source": [
        ""
      ],
      "execution_count": 0,
      "outputs": []
    },
    {
      "cell_type": "code",
      "metadata": {
        "id": "hRpYvEwRWFZE",
        "colab_type": "code",
        "colab": {}
      },
      "source": [
        ""
      ],
      "execution_count": 0,
      "outputs": []
    },
    {
      "cell_type": "code",
      "metadata": {
        "id": "qQkMjggmWFdG",
        "colab_type": "code",
        "colab": {}
      },
      "source": [
        ""
      ],
      "execution_count": 0,
      "outputs": []
    },
    {
      "cell_type": "code",
      "metadata": {
        "id": "yvCDtX-wWFgI",
        "colab_type": "code",
        "colab": {}
      },
      "source": [
        ""
      ],
      "execution_count": 0,
      "outputs": []
    },
    {
      "cell_type": "code",
      "metadata": {
        "id": "JiWPoOvCWFm8",
        "colab_type": "code",
        "colab": {}
      },
      "source": [
        ""
      ],
      "execution_count": 0,
      "outputs": []
    },
    {
      "cell_type": "code",
      "metadata": {
        "id": "ZG5iCzrjWFsu",
        "colab_type": "code",
        "colab": {}
      },
      "source": [
        ""
      ],
      "execution_count": 0,
      "outputs": []
    },
    {
      "cell_type": "code",
      "metadata": {
        "id": "LZbF5FvYWFqF",
        "colab_type": "code",
        "colab": {}
      },
      "source": [
        ""
      ],
      "execution_count": 0,
      "outputs": []
    },
    {
      "cell_type": "code",
      "metadata": {
        "id": "mdCpSSPnWFRe",
        "colab_type": "code",
        "colab": {}
      },
      "source": [
        ""
      ],
      "execution_count": 0,
      "outputs": []
    }
  ]
}